{
 "cells": [
  {
   "cell_type": "code",
   "execution_count": null,
   "id": "d233d071",
   "metadata": {
    "deletable": true,
    "editable": true,
    "slideshow": {
     "slide_type": "skip"
    },
    "tags": []
   },
   "outputs": [],
   "source": [
    "# There will always be an import cell at the start of each lecture notebook.\n",
    "# If you're coding alongside me in lecture, run it!\n",
    "from lec_utils import *\n",
    "def test_pt_example():\n",
    "    src = \"https://pythontutor.com/iframe-embed.html#code=test_list%20%3D%20%5B8,%200,%202,%204%5D%0Atest_string%20%3D%20'zebra'%0Atest_list%5B1%5D%20%3D%2099%0Atest_string%5B1%5D%20%3D%20'f'&codeDivHeight=400&codeDivWidth=350&cumulative=false&curInstr=-1&heapPrimitives=nevernest&origin=opt-frontend.js&py=311&rawInputLstJSON=%5B%5D&textReferences=false\"\n",
    "    width = 800\n",
    "    height = 500\n",
    "    display(IFrame(src, width, height))\n",
    "def swap_pt():\n",
    "    src = \"https://pythontutor.com/iframe-embed.html#code=x%20%3D%2042%0Ay%20%3D%20x%0Ax%20%3D%2012%0A%0Aa%20%3D%20%5B5,%2010%5D%0Ab%20%3D%20a%0Aa%5B0%5D%20%3D%20-1&codeDivHeight=400&codeDivWidth=350&cumulative=false&curInstr=-1&heapPrimitives=nevernest&origin=opt-frontend.js&py=311&rawInputLstJSON=%5B%5D&textReferences=false\"\n",
    "    width = 800\n",
    "    height = 500\n",
    "    display(IFrame(src, width, height))\n",
    "def mystery_pt():\n",
    "    src = \"https://pythontutor.com/iframe-embed.html#code=def%20mystery%28vals%29%3A%0A%20%20%20%20vals%5B-1%5D%20%3D%2015%0A%20%20%20%20return%20vals.append%28'BBB'%29%0A%20%20%20%20%0Acreature%20%3D%20%5B1,%202,%203%5D%0A%0Amystery%28creature%29%0Amystery%28creature%29%0Amystery%28creature%29&codeDivHeight=400&codeDivWidth=350&cumulative=false&curInstr=-1&heapPrimitives=nevernest&origin=opt-frontend.js&py=311&rawInputLstJSON=%5B%5D&textReferences=false\"\n",
    "    width = 800\n",
    "    height = 500\n",
    "    display(IFrame(src, width, height))"
   ]
  },
  {
   "cell_type": "markdown",
   "id": "22d501c5",
   "metadata": {
    "deletable": true,
    "editable": true,
    "slideshow": {
     "slide_type": "slide"
    },
    "tags": []
   },
   "source": [
    "\n",
    "<div class=\"alert alert-info\" markdown=\"1\">\n",
    "\n",
    "#### Lecture 2\n",
    "\n",
    "# Python Basics\n",
    "\n",
    "### EECS 398: Practical Data Science, Spring 2025\n",
    "\n",
    "<small><a style=\"text-decoration: none\" href=\"https://practicaldsc.org\">practicaldsc.org</a> • <a style=\"text-decoration: none\" href=\"https://github.com/practicaldsc/sp25\">github.com/practicaldsc/sp25</a> • 📣 See latest announcements [**here on Ed**](https://edstem.org/us/courses/78535/discussion/6647877) </small>\n",
    "    \n",
    "</div>\n"
   ]
  },
  {
   "cell_type": "markdown",
   "id": "bbc8fccc",
   "metadata": {
    "deletable": true,
    "editable": true,
    "slideshow": {
     "slide_type": "slide"
    }
   },
   "source": [
    "### Agenda 📆\n",
    "\n",
    "- Notebooks, variables, lists, and strings.\n",
    "- Functions and loops.\n",
    "    \n",
    "We're going to cover a lot quickly. The [Readings](https://practicaldsc.org/resources/#readings) section of the Resources tab on the course website has links to lots of great online resources about this material if you'd like other perspectives."
   ]
  },
  {
   "cell_type": "markdown",
   "id": "57d190cb",
   "metadata": {
    "deletable": true,
    "editable": true,
    "slideshow": {
     "slide_type": "slide"
    }
   },
   "source": [
    "### Following along"
   ]
  },
  {
   "cell_type": "markdown",
   "id": "c08d1e40",
   "metadata": {
    "deletable": true,
    "editable": true,
    "slideshow": {
     "slide_type": "fragment"
    }
   },
   "source": [
    "- There are two versions of this lecture notebook posted in the course [GitHub repository](https://github.com/practicaldsc/sp25).<br> During lecture, have one of those two open in Jupyter Lab / VSCode so that you can **run code alongside me and try things out**!<br><small>You'll need to have already set up your environment to do this.</small>\n",
    "    - `lec02-filled.ipynb` is already \"filled in\" with all the code I will write. Use this if you think I type too fast.\n",
    "    - `lec02-blank.ipynb` is not filled in; use this if you want to type with me."
   ]
  },
  {
   "cell_type": "markdown",
   "id": "7ffe4ea1",
   "metadata": {
    "deletable": true,
    "editable": true,
    "slideshow": {
     "slide_type": "fragment"
    }
   },
   "source": [
    "- I'll also occasionally annotate the slides with my iPad; these annotations will be posted after lecture.\n",
    "<center><img src=\"imgs/annotations.png\" width=600></center>"
   ]
  },
  {
   "cell_type": "markdown",
   "id": "587a34cc",
   "metadata": {
    "deletable": true,
    "editable": true,
    "slideshow": {
     "slide_type": "fragment"
    }
   },
   "source": [
    "- You can also access a \"static\" HTML version of the notebook directly from the course website, if you'd rather take notes on your own tablet."
   ]
  },
  {
   "cell_type": "markdown",
   "id": "fe99504c",
   "metadata": {
    "deletable": true,
    "editable": true,
    "slideshow": {
     "slide_type": "slide"
    }
   },
   "source": [
    "## Notebooks, variables, lists, and strings\n",
    "\n",
    "---\n",
    "\n",
    "Let's highlight some key features of Python, and contrast them to C++, a language you've likely used before in EECS 280/281.\n",
    "\n",
    "If you've received an override and never taken an EECS class, but you have programmed before in another language, you'll be able to follow along, too."
   ]
  },
  {
   "cell_type": "markdown",
   "id": "f69e9cc9",
   "metadata": {
    "deletable": true,
    "editable": true,
    "slideshow": {
     "slide_type": "slide"
    }
   },
   "source": [
    "### Variable types and code compilation"
   ]
  },
  {
   "cell_type": "markdown",
   "id": "b7199614",
   "metadata": {
    "deletable": true,
    "editable": true,
    "slideshow": {
     "slide_type": "fragment"
    }
   },
   "source": [
    "- In C++, variable types need to be explicitly declared ahead of time, and are fixed (static) once declared. The compiler verifies that all types are consistent before the code is actually executed.\n",
    "\n",
    "<div>\n",
    "\n",
    "```cpp\n",
    "            // Compiler error!\n",
    "            int count = 7 + 9;\n",
    "            count = \"data science\";\n",
    "    \n",
    "```\n",
    "    \n",
    "<small>\n",
    "<div>\n",
    "\n",
    "```\n",
    "                    main.cpp:16:9: error: invalid conversion from ‘const char*’ to ‘int’ [-fpermissive]\n",
    "    \n",
    "```\n",
    "\n",
    "</div>\n",
    "</small>\n",
    "\n",
    "</div>\n",
    "   "
   ]
  },
  {
   "cell_type": "markdown",
   "id": "e0aa4490",
   "metadata": {
    "deletable": true,
    "editable": true,
    "slideshow": {
     "slide_type": "fragment"
    }
   },
   "source": [
    "- In Python, variable types don't need to be declared, and are free to change (dynamic).\n",
    "<br><small>Also, note that you don't need semicolons!</small>"
   ]
  },
  {
   "cell_type": "code",
   "execution_count": null,
   "id": "adaeeded",
   "metadata": {
    "deletable": true,
    "editable": true
   },
   "outputs": [],
   "source": [
    "# Works just fine.\n",
    "count = 7 + 9\n",
    "count = \"data science\"\n",
    "count"
   ]
  },
  {
   "cell_type": "code",
   "execution_count": null,
   "id": "d367f126",
   "metadata": {
    "deletable": true,
    "editable": true
   },
   "outputs": [],
   "source": [
    "type(count) # The type function returns the type of an object."
   ]
  },
  {
   "cell_type": "markdown",
   "id": "b072c028",
   "metadata": {
    "deletable": true,
    "editable": true,
    "slideshow": {
     "slide_type": "fragment"
    }
   },
   "source": [
    "- Since Python is interpreted, not compiled, it doesn't have any compiler errors. All errors occur at runtime.<br><small>This means that you can \"run\" lots of buggy code, but you may only spot the issues later on – <b>be careful!</b></small>"
   ]
  },
  {
   "cell_type": "code",
   "execution_count": null,
   "id": "e3a7d43b",
   "metadata": {
    "deletable": true,
    "editable": true
   },
   "outputs": [],
   "source": [
    "# This function takes in a single argument and returns that argument + 1 / 0.\n",
    "# Python doesn't stop us from defining the function.\n",
    "def f(x):\n",
    "    return x + 1 / 0"
   ]
  },
  {
   "cell_type": "code",
   "execution_count": null,
   "id": "72bce45c",
   "metadata": {
    "deletable": true,
    "editable": true
   },
   "outputs": [],
   "source": [
    "f(15)"
   ]
  },
  {
   "cell_type": "markdown",
   "id": "81e08bac",
   "metadata": {
    "deletable": true,
    "editable": true,
    "slideshow": {
     "slide_type": "slide"
    }
   },
   "source": [
    "### Variable types and compilers\n",
    "\n",
    "| | Python | C++ |\n",
    "| --- | --- | --- |\n",
    "| Do I need to define<br>the type of a variable<br>beforehand? | <span style=\"color:orange\"><b>No</b></span> <br>Python is dynamically typed. | <span style=\"color:blue\"><b>Yes</b></span><br>C++ is statically typed. |\n",
    "| Do I compile<br>my code before running it? | <span style=\"color:orange\"><b>No</b></span><br>Python is interpreted;<br>Python code is converted to<br>bytecode line-by-line<br> at runtime.<br><small><br>In fact, the standard implementation<br> of Python is written in C (called CPython).</small> | <span style=\"color:blue\"><b>Yes</b></span><br>The entirety of a<br> C++ program needs to be<br> compiled to bytecode<br> before it's run.<br><br><small>This is part of why C++ is <br>much <b>faster</b> than Python.</small> |"
   ]
  },
  {
   "cell_type": "markdown",
   "id": "997ed364",
   "metadata": {
    "deletable": true,
    "editable": true,
    "slideshow": {
     "slide_type": "fragment"
    }
   },
   "source": [
    "- You _can_ use type \"hints\" in Python, but they **aren't** verified at runtime."
   ]
  },
  {
   "cell_type": "code",
   "execution_count": null,
   "id": "c87d9fb5",
   "metadata": {
    "deletable": true,
    "editable": true
   },
   "outputs": [],
   "source": [
    "name: str = 'Junior'\n",
    "name = 3.14"
   ]
  },
  {
   "cell_type": "markdown",
   "id": "5fbd53a0",
   "metadata": {
    "deletable": true,
    "editable": true,
    "slideshow": {
     "slide_type": "slide"
    }
   },
   "source": [
    "<center><img src=\"imgs/humans-cpp.png\" width=500></center>"
   ]
  },
  {
   "cell_type": "markdown",
   "id": "ddf7948b",
   "metadata": {
    "deletable": true,
    "editable": true,
    "slideshow": {
     "slide_type": "slide"
    }
   },
   "source": [
    "### Jupyter memory model"
   ]
  },
  {
   "cell_type": "markdown",
   "id": "970667a2",
   "metadata": {
    "deletable": true,
    "editable": true,
    "slideshow": {
     "slide_type": "fragment"
    }
   },
   "source": [
    "- Python may be new to you, but in addition, code in a Jupyter Notebook behaves a little differently than code in a text editor + Terminal setup."
   ]
  },
  {
   "cell_type": "markdown",
   "id": "86b6944a",
   "metadata": {
    "deletable": true,
    "editable": true,
    "slideshow": {
     "slide_type": "fragment"
    }
   },
   "source": [
    "- Pretend your notebook has a brain 🧠."
   ]
  },
  {
   "cell_type": "markdown",
   "id": "6ccc6f6a",
   "metadata": {
    "deletable": true,
    "editable": true,
    "slideshow": {
     "slide_type": "fragment"
    }
   },
   "source": [
    "- Everytime you run a cell with an assignment statement, it remembers that name-value binding."
   ]
  },
  {
   "cell_type": "markdown",
   "id": "20edc5e3",
   "metadata": {
    "deletable": true,
    "editable": true,
    "slideshow": {
     "slide_type": "fragment"
    }
   },
   "source": [
    "- It will remember all name-value bindings as long as the current session is open, no matter how many cells you create or delete."
   ]
  },
  {
   "cell_type": "code",
   "execution_count": null,
   "id": "433a52b9",
   "metadata": {
    "deletable": true,
    "editable": true
   },
   "outputs": [],
   "source": [
    "# We defined this a while ago, but it still remembers.\n",
    "# This is a common pattern: writing the name of a variable in a cell of its own\n",
    "# to check its value.\n",
    "count"
   ]
  },
  {
   "cell_type": "markdown",
   "id": "28097c1b",
   "metadata": {
    "deletable": true,
    "editable": true,
    "slideshow": {
     "slide_type": "fragment"
    }
   },
   "source": [
    "- But, quitting your Terminal ends your Jupyter Notebook session, and your notebook will forget everything it knows – **you’ll need to re-run all of your cells** the next time you open it."
   ]
  },
  {
   "cell_type": "markdown",
   "id": "ce93ad53",
   "metadata": {
    "deletable": true,
    "editable": true,
    "slideshow": {
     "slide_type": "fragment"
    }
   },
   "source": [
    "- With this in mind, you should aim to structure your code in a **reproducible** manner – so that others can trace your steps. Let's look at some practices you **should avoid ❌**.<br><small>And by others, we mostly mean you, when you come back to your homework the next day.</small>"
   ]
  },
  {
   "cell_type": "markdown",
   "id": "59404677",
   "metadata": {
    "deletable": true,
    "editable": true,
    "slideshow": {
     "slide_type": "slide"
    }
   },
   "source": [
    "1. **Don't** delete cells that contain assignment statements."
   ]
  },
  {
   "cell_type": "code",
   "execution_count": null,
   "id": "a893c0e9",
   "metadata": {
    "deletable": true,
    "editable": true
   },
   "outputs": [],
   "source": [
    "# To illustrate the issue, run this cell and then delete it.\n",
    "age = 23"
   ]
  },
  {
   "cell_type": "code",
   "execution_count": null,
   "id": "299a9dfa",
   "metadata": {
    "deletable": true,
    "editable": true
   },
   "outputs": [],
   "source": [
    "# If the above cell has been run, this cell will run just fine, even if you \n",
    "# delete the cell above. However, once your notebook \"forgets\" all of \n",
    "# the variables it knows about, this cell will error, \n",
    "# since `age` won't be defined anywhere!\n",
    "age + 15"
   ]
  },
  {
   "cell_type": "markdown",
   "id": "9f936101",
   "metadata": {
    "deletable": true,
    "editable": true,
    "slideshow": {
     "slide_type": "slide"
    }
   },
   "source": [
    "2. **Don't** use a variable in a cell **above** where it is defined."
   ]
  },
  {
   "cell_type": "code",
   "execution_count": null,
   "id": "a8be665a",
   "metadata": {
    "deletable": true,
    "editable": true
   },
   "outputs": [],
   "source": [
    "# If you run the cell below first, then this cell will run just fine.\n",
    "# However, once your notebook \"forgets\" all of the variables\n",
    "# it knows about, and you run all of its cells in order,\n",
    "# this will cause an error, because you are trying to use\n",
    "# `weather` before its defined!\n",
    "weather - 4"
   ]
  },
  {
   "cell_type": "code",
   "execution_count": null,
   "id": "a4c84976",
   "metadata": {
    "deletable": true,
    "editable": true
   },
   "outputs": [],
   "source": [
    "# To illustrate the issue, run this cell FIRST, then the cell above.\n",
    "weather = 72"
   ]
  },
  {
   "cell_type": "markdown",
   "id": "d70e0f97",
   "metadata": {
    "deletable": true,
    "editable": true,
    "slideshow": {
     "slide_type": "slide"
    }
   },
   "source": [
    "3. **Don't** overwrite built-in names!"
   ]
  },
  {
   "cell_type": "code",
   "execution_count": null,
   "id": "7ac4a9cc",
   "metadata": {
    "deletable": true,
    "editable": true
   },
   "outputs": [],
   "source": [
    "min(2, 3)"
   ]
  },
  {
   "cell_type": "code",
   "execution_count": null,
   "id": "fcbb97c7",
   "metadata": {
    "deletable": true,
    "editable": true
   },
   "outputs": [],
   "source": [
    "min = 17"
   ]
  },
  {
   "cell_type": "code",
   "execution_count": null,
   "id": "cf648424",
   "metadata": {
    "deletable": true,
    "editable": true
   },
   "outputs": [],
   "source": [
    "min(2, 3)"
   ]
  },
  {
   "cell_type": "markdown",
   "id": "88d50394",
   "metadata": {
    "deletable": true,
    "editable": true,
    "slideshow": {
     "slide_type": "slide"
    }
   },
   "source": [
    "### Restarting the kernel"
   ]
  },
  {
   "cell_type": "markdown",
   "id": "15aab14f",
   "metadata": {
    "deletable": true,
    "editable": true,
    "slideshow": {
     "slide_type": "fragment"
    }
   },
   "source": [
    "- If something doesn't seem right, you can **force** your notebook to forget everything it currently is remembering and give it a \"fresh start\"."
   ]
  },
  {
   "cell_type": "markdown",
   "id": "189d0d38",
   "metadata": {
    "deletable": true,
    "editable": true,
    "slideshow": {
     "slide_type": "fragment"
    }
   },
   "source": [
    "- To do so, first, save your notebook (by clicking the floppy disk icon or CTRL/CMD + S)."
   ]
  },
  {
   "cell_type": "markdown",
   "id": "4d36eb1c",
   "metadata": {
    "deletable": true,
    "editable": true,
    "slideshow": {
     "slide_type": "fragment"
    }
   },
   "source": [
    "- Then, **restart your kernel**.\n",
    "<br><small>The kernel is like the engine of a Jupyter Notebook. We're working with a Python kernel that has our `pds` conda environment installed.<br>There exist Jupyter kernels for many languages, including C++!</small>\n",
    "\n",
    "<center><img src='imgs/restart-kernel.png' width=400>This menu may look different depending on your choice of IDE.</center>"
   ]
  },
  {
   "cell_type": "markdown",
   "id": "f9f3f437",
   "metadata": {
    "deletable": true,
    "editable": true,
    "slideshow": {
     "slide_type": "slide"
    }
   },
   "source": [
    "### Aside: Terminal commands in Jupyter Notebooks"
   ]
  },
  {
   "cell_type": "markdown",
   "id": "79ca051d",
   "metadata": {
    "deletable": true,
    "editable": true,
    "slideshow": {
     "slide_type": "fragment"
    }
   },
   "source": [
    "- You can run command-line operations in Jupyter Notebook cells by placing `!` before them."
   ]
  },
  {
   "cell_type": "code",
   "execution_count": null,
   "id": "ff49a366",
   "metadata": {
    "deletable": true,
    "editable": true
   },
   "outputs": [],
   "source": [
    "!ls imgs"
   ]
  },
  {
   "cell_type": "markdown",
   "id": "6f1b49bb",
   "metadata": {
    "deletable": true,
    "editable": true,
    "slideshow": {
     "slide_type": "fragment"
    }
   },
   "source": [
    "- This can be useful in figuring out the location of files that you need to load in, for instance."
   ]
  },
  {
   "cell_type": "markdown",
   "id": "ceab1d25",
   "metadata": {
    "deletable": true,
    "editable": true,
    "slideshow": {
     "slide_type": "slide"
    }
   },
   "source": [
    "### Data structures"
   ]
  },
  {
   "cell_type": "markdown",
   "id": "eb871445",
   "metadata": {
    "deletable": true,
    "editable": true,
    "slideshow": {
     "slide_type": "fragment"
    }
   },
   "source": [
    "- Python has a variety of built-in data structures, including lists, dictionaries, sets, and tuples."
   ]
  },
  {
   "cell_type": "markdown",
   "id": "e2486be2",
   "metadata": {
    "deletable": true,
    "editable": true,
    "slideshow": {
     "slide_type": "fragment"
    }
   },
   "source": [
    "- In this class, we'll most often use lists and dictionaries, along with more data science-specific data structures, like the `pandas` DataFrame (table) we heard about in Lecture 1 and the `numpy` array."
   ]
  },
  {
   "cell_type": "markdown",
   "id": "6a544f11",
   "metadata": {
    "deletable": true,
    "editable": true,
    "slideshow": {
     "slide_type": "slide"
    }
   },
   "source": [
    "### Lists"
   ]
  },
  {
   "cell_type": "markdown",
   "id": "1aba8d21",
   "metadata": {
    "deletable": true,
    "editable": true,
    "slideshow": {
     "slide_type": "fragment"
    }
   },
   "source": [
    "- A list is an **ordered** collection of values. To create a new list from scratch, we use [square brackets]."
   ]
  },
  {
   "cell_type": "code",
   "execution_count": null,
   "id": "bb1bbce5",
   "metadata": {
    "deletable": true,
    "editable": true
   },
   "outputs": [],
   "source": [
    "mixed_list = [-2, 2.5, 'michigan', [1, 3], max] # Different types!\n",
    "mixed_list"
   ]
  },
  {
   "cell_type": "markdown",
   "id": "3f09839a",
   "metadata": {
    "deletable": true,
    "editable": true,
    "slideshow": {
     "slide_type": "fragment"
    }
   },
   "source": [
    "- There are a variety of built-in functions that work with lists."
   ]
  },
  {
   "cell_type": "code",
   "execution_count": null,
   "id": "b80a4474",
   "metadata": {
    "deletable": true,
    "editable": true
   },
   "outputs": [],
   "source": [
    "max(['hey', 'hi', 'hello'])"
   ]
  },
  {
   "cell_type": "markdown",
   "id": "40b09b02",
   "metadata": {
    "deletable": true,
    "editable": true,
    "slideshow": {
     "slide_type": "slide"
    }
   },
   "source": [
    "### Appending"
   ]
  },
  {
   "cell_type": "markdown",
   "id": "0892a27c",
   "metadata": {
    "deletable": true,
    "editable": true,
    "slideshow": {
     "slide_type": "fragment"
    }
   },
   "source": [
    "- We use the `append` **method** to add elements to the end of a list.<br><small>Since this is a method, we call it using \"dot\" notation, i.e. `groceries.append(...)` instead of `append(groceries, ...)`.</small>"
   ]
  },
  {
   "cell_type": "code",
   "execution_count": null,
   "id": "bac83ae2",
   "metadata": {
    "deletable": true,
    "editable": true
   },
   "outputs": [],
   "source": [
    "groceries = ['eggs', 'milk']\n",
    "groceries"
   ]
  },
  {
   "cell_type": "code",
   "execution_count": null,
   "id": "3ebaf7ad",
   "metadata": {
    "deletable": true,
    "editable": true
   },
   "outputs": [],
   "source": [
    "groceries.append('bread')"
   ]
  },
  {
   "cell_type": "code",
   "execution_count": null,
   "id": "136f43ca",
   "metadata": {
    "deletable": true,
    "editable": true
   },
   "outputs": [],
   "source": [
    "groceries"
   ]
  },
  {
   "cell_type": "markdown",
   "id": "de01a6a9",
   "metadata": {
    "deletable": true,
    "editable": true,
    "slideshow": {
     "slide_type": "fragment"
    }
   },
   "source": [
    "- **Important**: Note that `groceries.append('bread')` didn’t return anything, but groceries was modified.<br><small>We say `append` is **destructive**, because it does something other than return an output. We try to avoid destructive operations when possible.</small>"
   ]
  },
  {
   "cell_type": "code",
   "execution_count": null,
   "id": "20a4cdf0",
   "metadata": {
    "deletable": true,
    "editable": true
   },
   "outputs": [],
   "source": [
    "groceries + ['yogurt'] # This is a new list, not a modification of groceries!"
   ]
  },
  {
   "cell_type": "markdown",
   "id": "0bb06494",
   "metadata": {
    "deletable": true,
    "editable": true,
    "slideshow": {
     "slide_type": "slide"
    }
   },
   "source": [
    "### Indexing"
   ]
  },
  {
   "cell_type": "markdown",
   "id": "3fcf9a2a",
   "metadata": {
    "deletable": true,
    "editable": true,
    "slideshow": {
     "slide_type": "fragment"
    }
   },
   "source": [
    "- Python, like most programming languages, is 0-indexed. This means that the **index**, or position, of the first element in a list is 0, not 1.<br><small>One reason: an element's index represents how far it is from the start of the list.</small>"
   ]
  },
  {
   "cell_type": "code",
   "execution_count": null,
   "id": "d978162b",
   "metadata": {
    "deletable": true,
    "editable": true
   },
   "outputs": [],
   "source": [
    "nums = [3, 1, 'dog', -9.5, 'michigan']"
   ]
  },
  {
   "cell_type": "code",
   "execution_count": null,
   "id": "c23503d5",
   "metadata": {
    "deletable": true,
    "editable": true
   },
   "outputs": [],
   "source": [
    "nums[0]"
   ]
  },
  {
   "cell_type": "code",
   "execution_count": null,
   "id": "eac252ba",
   "metadata": {
    "deletable": true,
    "editable": true
   },
   "outputs": [],
   "source": [
    "nums[3]"
   ]
  },
  {
   "cell_type": "code",
   "execution_count": null,
   "id": "19cec082",
   "metadata": {
    "deletable": true,
    "editable": true
   },
   "outputs": [],
   "source": [
    "nums[-1] # Counts from the end."
   ]
  },
  {
   "cell_type": "code",
   "execution_count": null,
   "id": "54daf3aa",
   "metadata": {
    "deletable": true,
    "editable": true
   },
   "outputs": [],
   "source": [
    "nums[5]"
   ]
  },
  {
   "cell_type": "markdown",
   "id": "71d7b045",
   "metadata": {
    "deletable": true,
    "editable": true,
    "slideshow": {
     "slide_type": "slide"
    }
   },
   "source": [
    "### Slicing"
   ]
  },
  {
   "cell_type": "markdown",
   "id": "17736007",
   "metadata": {
    "deletable": true,
    "editable": true,
    "slideshow": {
     "slide_type": "fragment"
    }
   },
   "source": [
    "- We can use indexes to create a \"slice\" of a list. A slice is a new list containing elements from another list."
   ]
  },
  {
   "cell_type": "code",
   "execution_count": null,
   "id": "3f513121",
   "metadata": {
    "deletable": true,
    "editable": true
   },
   "outputs": [],
   "source": [
    "nums"
   ]
  },
  {
   "cell_type": "code",
   "execution_count": null,
   "id": "531cf233",
   "metadata": {
    "deletable": true,
    "editable": true
   },
   "outputs": [],
   "source": [
    "nums[1:3]"
   ]
  },
  {
   "cell_type": "markdown",
   "id": "8c422d7e",
   "metadata": {
    "deletable": true,
    "editable": true,
    "slideshow": {
     "slide_type": "fragment"
    }
   },
   "source": [
    "- In general,\n",
    "\n",
    "        list_name[start : stop]\n",
    "    \n",
    "    consists of all elements in list_name starting with index `start` and ending right before index `stop`."
   ]
  },
  {
   "cell_type": "code",
   "execution_count": null,
   "id": "0d6247bf",
   "metadata": {
    "deletable": true,
    "editable": true
   },
   "outputs": [],
   "source": [
    "nums"
   ]
  },
  {
   "cell_type": "code",
   "execution_count": null,
   "id": "965ecfba",
   "metadata": {
    "deletable": true,
    "editable": true
   },
   "outputs": [],
   "source": [
    "nums[0:4]"
   ]
  },
  {
   "cell_type": "code",
   "execution_count": null,
   "id": "ebff085e",
   "metadata": {
    "deletable": true,
    "editable": true
   },
   "outputs": [],
   "source": [
    "# If you don't include 'start', the slice starts at the beginning of the list.\n",
    "nums[:4]"
   ]
  },
  {
   "cell_type": "code",
   "execution_count": null,
   "id": "5343c2a3",
   "metadata": {
    "deletable": true,
    "editable": true
   },
   "outputs": [],
   "source": [
    "# If you don't include 'stop', the slice starts at the end of the list.\n",
    "nums[-2:]"
   ]
  },
  {
   "cell_type": "code",
   "execution_count": null,
   "id": "95cd5d13",
   "metadata": {
    "deletable": true,
    "editable": true
   },
   "outputs": [],
   "source": [
    "# Interesting...\n",
    "nums[::-1]"
   ]
  },
  {
   "cell_type": "markdown",
   "id": "cbe95f1f",
   "metadata": {
    "deletable": true,
    "editable": true,
    "slideshow": {
     "slide_type": "slide"
    }
   },
   "source": [
    "### Strings and slicing"
   ]
  },
  {
   "cell_type": "markdown",
   "id": "d2c932e5",
   "metadata": {
    "deletable": true,
    "editable": true,
    "slideshow": {
     "slide_type": "fragment"
    }
   },
   "source": [
    "- Strings are similar to lists: they have indexes as well. Each element of a string can be thought of as a \"character\", which is a string of length 1."
   ]
  },
  {
   "cell_type": "code",
   "execution_count": null,
   "id": "715288ad",
   "metadata": {
    "deletable": true,
    "editable": true
   },
   "outputs": [],
   "source": [
    "university = 'university of michigan'"
   ]
  },
  {
   "cell_type": "code",
   "execution_count": null,
   "id": "1d62b581",
   "metadata": {
    "deletable": true,
    "editable": true
   },
   "outputs": [],
   "source": [
    "..."
   ]
  },
  {
   "cell_type": "code",
   "execution_count": null,
   "id": "a3fdc035",
   "metadata": {
    "deletable": true,
    "editable": true
   },
   "outputs": [],
   "source": [
    "..."
   ]
  },
  {
   "cell_type": "code",
   "execution_count": null,
   "id": "cf371a5f",
   "metadata": {
    "deletable": true,
    "editable": true
   },
   "outputs": [],
   "source": [
    "..."
   ]
  },
  {
   "cell_type": "markdown",
   "id": "bce0147d",
   "metadata": {
    "deletable": true,
    "editable": true,
    "slideshow": {
     "slide_type": "fragment"
    }
   },
   "source": [
    "- Strings have various methods, but unlike `append`, they are not destructive – they return new strings."
   ]
  },
  {
   "cell_type": "code",
   "execution_count": null,
   "id": "6318d7c2",
   "metadata": {
    "deletable": true,
    "editable": true
   },
   "outputs": [],
   "source": [
    "..."
   ]
  },
  {
   "cell_type": "code",
   "execution_count": null,
   "id": "516b01d6",
   "metadata": {
    "deletable": true,
    "editable": true
   },
   "outputs": [],
   "source": [
    "..."
   ]
  },
  {
   "cell_type": "markdown",
   "id": "251341ef",
   "metadata": {
    "deletable": true,
    "editable": true,
    "slideshow": {
     "slide_type": "slide"
    }
   },
   "source": [
    "### Immutability"
   ]
  },
  {
   "cell_type": "markdown",
   "id": "d3a05482",
   "metadata": {
    "deletable": true,
    "editable": true,
    "slideshow": {
     "slide_type": "fragment"
    }
   },
   "source": [
    "- One key difference between lists and strings: you **can change** an element of a list, but **not** of a string."
   ]
  },
  {
   "cell_type": "markdown",
   "id": "fda57db7",
   "metadata": {
    "deletable": true,
    "editable": true,
    "slideshow": {
     "slide_type": "fragment"
    }
   },
   "source": [
    "- If you want to change any part of a string, you must make a new string. This is because lists are **mutable**, while strings are **immutable**.\n",
    "<br><small>Before and after running `test_list[1] = 99`, `test_list` still refers to the same object in memory under the hood.</small>"
   ]
  },
  {
   "cell_type": "code",
   "execution_count": null,
   "id": "8d6e0e9e",
   "metadata": {
    "deletable": true,
    "editable": true
   },
   "outputs": [],
   "source": [
    "test_list = [8, 0, 2, 4]\n",
    "test_string = 'zebra'"
   ]
  },
  {
   "cell_type": "code",
   "execution_count": null,
   "id": "7ad55160",
   "metadata": {
    "deletable": true,
    "editable": true
   },
   "outputs": [],
   "source": [
    "id(test_list) # Memory address of test_list."
   ]
  },
  {
   "cell_type": "code",
   "execution_count": null,
   "id": "d5305ace",
   "metadata": {
    "deletable": true,
    "editable": true
   },
   "outputs": [],
   "source": [
    "id(test_string)"
   ]
  },
  {
   "cell_type": "code",
   "execution_count": null,
   "id": "21b20456",
   "metadata": {
    "deletable": true,
    "editable": true
   },
   "outputs": [],
   "source": [
    "..."
   ]
  },
  {
   "cell_type": "code",
   "execution_count": null,
   "id": "4293ae7b",
   "metadata": {
    "deletable": true,
    "editable": true
   },
   "outputs": [],
   "source": [
    "id(test_list) # Same memory address! "
   ]
  },
  {
   "cell_type": "code",
   "execution_count": null,
   "id": "4bcda528",
   "metadata": {
    "deletable": true,
    "editable": true
   },
   "outputs": [],
   "source": [
    "..."
   ]
  },
  {
   "cell_type": "code",
   "execution_count": null,
   "id": "7a94c99a",
   "metadata": {
    "deletable": true,
    "editable": true
   },
   "outputs": [],
   "source": [
    "# Since we can't \"change\" test_string, we need to make a \"new\" string \n",
    "# containing the parts of it that we wanted.\n",
    "# We can re-use the variable name test_string, though!\n",
    "..."
   ]
  },
  {
   "cell_type": "markdown",
   "id": "071b64b2",
   "metadata": {
    "deletable": true,
    "editable": true,
    "slideshow": {
     "slide_type": "fragment"
    }
   },
   "source": [
    "- _Most_ data structures – lists, dictionaries, `numpy` arrays, `pandas` DataFrames – are **mutable**, which means we need to be **extremely careful** when using them to modify them unexpectedly."
   ]
  },
  {
   "cell_type": "markdown",
   "id": "5a0611d8",
   "metadata": {
    "deletable": true,
    "editable": true,
    "slideshow": {
     "slide_type": "slide"
    }
   },
   "source": [
    "### Aside: Python Tutor"
   ]
  },
  {
   "cell_type": "markdown",
   "id": "32b7f9dc",
   "metadata": {
    "deletable": true,
    "editable": true,
    "slideshow": {
     "slide_type": "fragment"
    }
   },
   "source": [
    "- Python Tutor, found at [pythontutor.com](https://pythontutor.com), allows you to visualize the execution of Python code."
   ]
  },
  {
   "cell_type": "markdown",
   "id": "4653761e",
   "metadata": {
    "deletable": true,
    "editable": true,
    "slideshow": {
     "slide_type": "fragment"
    }
   },
   "source": [
    "- Click [this link](https://pythontutor.com/render.html#code=test_list%20%3D%20%5B8,%200,%202,%204%5D%0Atest_string%20%3D%20'zebra'%0Atest_list%5B1%5D%20%3D%2099%0Atest_string%5B1%5D%20%3D%20'f'&cumulative=false&curInstr=0&heapPrimitives=nevernest&mode=display&origin=opt-frontend.js&py=311&rawInputLstJSON=%5B%5D&textReferences=false) to visualize the previous slide's code, or run the cell below to see it embedded in this notebook."
   ]
  },
  {
   "cell_type": "code",
   "execution_count": null,
   "id": "e0245401",
   "metadata": {
    "deletable": true,
    "editable": true
   },
   "outputs": [],
   "source": [
    "test_pt_example()"
   ]
  },
  {
   "cell_type": "markdown",
   "id": "55893269",
   "metadata": {
    "deletable": true,
    "editable": true,
    "slideshow": {
     "slide_type": "slide"
    }
   },
   "source": [
    "### The swap"
   ]
  },
  {
   "cell_type": "markdown",
   "id": "290ea4fe",
   "metadata": {
    "deletable": true,
    "editable": true,
    "slideshow": {
     "slide_type": "fragment"
    }
   },
   "source": [
    "- Assignment statements in Python never copy data.<br>All they do is create a new \"name\" for the expression on the right-hand side of `=`.<br><small>If that expression evaluates to an object that already exists, `var_name` will also refer to that object.</small>\n",
    "\n",
    "```py\n",
    "            var_name = <some expression>\n",
    "```"
   ]
  },
  {
   "cell_type": "markdown",
   "id": "0049f3e6",
   "metadata": {
    "deletable": true,
    "editable": true,
    "slideshow": {
     "slide_type": "fragment"
    }
   },
   "source": [
    "- If an object is mutable, then any name referring to it will see those changes reflected. **Be careful!**"
   ]
  },
  {
   "cell_type": "markdown",
   "id": "68e85809",
   "metadata": {
    "deletable": true,
    "editable": true,
    "slideshow": {
     "slide_type": "fragment"
    }
   },
   "source": [
    "- **Example 1**: What is the value of `y` after running the following cell?"
   ]
  },
  {
   "cell_type": "code",
   "execution_count": null,
   "id": "ac41947a",
   "metadata": {
    "deletable": true,
    "editable": true
   },
   "outputs": [],
   "source": [
    "..."
   ]
  },
  {
   "cell_type": "markdown",
   "id": "86328850",
   "metadata": {
    "deletable": true,
    "editable": true,
    "slideshow": {
     "slide_type": "fragment"
    }
   },
   "source": [
    "- **Example 2**: What is the value of `b` after running the following cell?"
   ]
  },
  {
   "cell_type": "code",
   "execution_count": null,
   "id": "34a38d3f",
   "metadata": {
    "deletable": true,
    "editable": true
   },
   "outputs": [],
   "source": [
    "..."
   ]
  },
  {
   "cell_type": "markdown",
   "id": "053f29c2",
   "metadata": {
    "deletable": true,
    "editable": true,
    "slideshow": {
     "slide_type": "fragment"
    }
   },
   "source": [
    "- Visualize both examples below."
   ]
  },
  {
   "cell_type": "code",
   "execution_count": null,
   "id": "e656dd58",
   "metadata": {
    "deletable": true,
    "editable": true
   },
   "outputs": [],
   "source": [
    "swap_pt()"
   ]
  },
  {
   "cell_type": "markdown",
   "id": "3b85799a",
   "metadata": {
    "deletable": true,
    "editable": true,
    "slideshow": {
     "slide_type": "fragment"
    }
   },
   "source": [
    "- Python is notoriously opaque when it comes to variables and pointers. Here's a [good reference](https://nedbatchelder.com/text/names.html)."
   ]
  },
  {
   "cell_type": "markdown",
   "id": "be81e1a8",
   "metadata": {
    "deletable": true,
    "editable": true,
    "slideshow": {
     "slide_type": "slide"
    }
   },
   "source": [
    "## Functions and loops\n",
    "\n",
    "---"
   ]
  },
  {
   "cell_type": "markdown",
   "id": "4386dcec",
   "metadata": {
    "deletable": true,
    "editable": true,
    "slideshow": {
     "slide_type": "slide"
    }
   },
   "source": [
    "### Indentation and control flow"
   ]
  },
  {
   "cell_type": "markdown",
   "id": "ffa445b6",
   "metadata": {
    "deletable": true,
    "editable": true,
    "slideshow": {
     "slide_type": "fragment"
    }
   },
   "source": [
    "- In C++, to define code blocks, you used `{`curly brackets`}`.\n",
    "\n",
    "```cpp\n",
    "            double future_value(double present_value, double APR, int months) {\n",
    "                double r = APR / 12.0 / 100.0;\n",
    "                return present_value * pow(1 + r, months);\n",
    "            }\n",
    "```"
   ]
  },
  {
   "cell_type": "markdown",
   "id": "5adcdb68",
   "metadata": {
    "deletable": true,
    "editable": true,
    "slideshow": {
     "slide_type": "fragment"
    }
   },
   "source": [
    "- In Python, you use a colon`:` and then **indent** the following lines by either a **tab** or **four spaces**."
   ]
  },
  {
   "cell_type": "code",
   "execution_count": null,
   "id": "49fd2948",
   "metadata": {
    "deletable": true,
    "editable": true
   },
   "outputs": [],
   "source": [
    "def future_value(present_value, APR, months):\n",
    "    r = APR / 12 / 100\n",
    "    return present_value * (1 + r) ** months"
   ]
  },
  {
   "cell_type": "code",
   "execution_count": null,
   "id": "15143361",
   "metadata": {
    "deletable": true,
    "editable": true
   },
   "outputs": [],
   "source": [
    "future_value(100, 7, 36)"
   ]
  },
  {
   "cell_type": "markdown",
   "id": "4c4cdbaa",
   "metadata": {
    "deletable": true,
    "editable": true,
    "slideshow": {
     "slide_type": "fragment"
    }
   },
   "source": [
    "- The `def` keyword defines a new function. `if`-statements, `for`-loops, and `while`-loops work similarly as in other languages."
   ]
  },
  {
   "cell_type": "markdown",
   "id": "d51d8d95",
   "metadata": {
    "deletable": true,
    "editable": true,
    "slideshow": {
     "slide_type": "fragment"
    }
   },
   "source": [
    "- Let's work through several examples."
   ]
  },
  {
   "cell_type": "markdown",
   "id": "3025fea9",
   "metadata": {
    "deletable": true,
    "editable": true,
    "slideshow": {
     "slide_type": "slide"
    }
   },
   "source": [
    "<div class=\"alert alert-success\">\n",
    "<h3>Activity</h3>\n",
    "    \n",
    "Suppose we run the cell below.\n",
    "    \n",
    "```py\n",
    "total = 3\n",
    "def square_and_cube(a, b):\n",
    "    return a ** 2 + total ** b\n",
    "```\n",
    "    \n",
    "Then, suppose we run the cell below twice.\n",
    "```py\n",
    "total = square_and_cube(1, 2)\n",
    "```\n",
    "\n",
    "What is the value of `total`? **Try and answer without writing any code.**\n",
    "    \n",
    "</div>"
   ]
  },
  {
   "cell_type": "code",
   "execution_count": null,
   "id": "ab03e2ae",
   "metadata": {
    "deletable": true,
    "editable": true
   },
   "outputs": [],
   "source": []
  },
  {
   "cell_type": "code",
   "execution_count": null,
   "id": "2380c8cd",
   "metadata": {
    "deletable": true,
    "editable": true
   },
   "outputs": [],
   "source": []
  },
  {
   "cell_type": "markdown",
   "id": "0114b02d",
   "metadata": {
    "deletable": true,
    "editable": true,
    "slideshow": {
     "slide_type": "slide"
    }
   },
   "source": [
    "<div class=\"alert alert-success\">\n",
    "<h3>Activity</h3>\n",
    "    \n",
    "Suppose we define the function `mystery` below.<br>\n",
    "    \n",
    "```py\n",
    "def mystery(vals):\n",
    "    vals[-1] = 15\n",
    "    return vals.append('BBB')\n",
    "```\n",
    "\n",
    "**Part 1**: After running the following cell 3 times, what is the value of `creature`? What is the output we see from this cell each time it is run?\n",
    "    \n",
    "```py\n",
    "creature = [1, 2, 3]\n",
    "mystery(creature)\n",
    "```\n",
    "    \n",
    "---\n",
    "    \n",
    "**Part 2**: Suppose we run Cell A once and Cell B 3 times. After doing so, what is the value of `creature`? What is the output we see from Cell B each time it is run?\n",
    "    \n",
    "```py\n",
    "# Cell A\n",
    "creature = [1, 2, 3]\n",
    "```\n",
    "    \n",
    "<br>\n",
    "    \n",
    "```py\n",
    "# Cell B\n",
    "mystery(creature)\n",
    "creature\n",
    "```\n",
    "\n",
    "**Try and answer without writing any code.**"
   ]
  },
  {
   "cell_type": "code",
   "execution_count": null,
   "id": "a64e17cc",
   "metadata": {
    "deletable": true,
    "editable": true
   },
   "outputs": [],
   "source": []
  },
  {
   "cell_type": "code",
   "execution_count": null,
   "id": "9e30a672",
   "metadata": {
    "deletable": true,
    "editable": true
   },
   "outputs": [],
   "source": []
  },
  {
   "cell_type": "code",
   "execution_count": null,
   "id": "f3b6843e",
   "metadata": {
    "deletable": true,
    "editable": true,
    "slideshow": {
     "slide_type": "slide"
    }
   },
   "outputs": [],
   "source": [
    "mystery_pt()"
   ]
  },
  {
   "cell_type": "markdown",
   "id": "f2731ae1",
   "metadata": {
    "deletable": true,
    "editable": true,
    "slideshow": {
     "slide_type": "slide"
    }
   },
   "source": [
    "### Aside: Workflow"
   ]
  },
  {
   "cell_type": "markdown",
   "id": "ddb12e5c",
   "metadata": {
    "deletable": true,
    "editable": true,
    "slideshow": {
     "slide_type": "fragment"
    }
   },
   "source": [
    "- For simplicity, we'll write all of our code in this class in a notebook."
   ]
  },
  {
   "cell_type": "markdown",
   "id": "85f102e0",
   "metadata": {
    "deletable": true,
    "editable": true,
    "slideshow": {
     "slide_type": "fragment"
    }
   },
   "source": [
    "- But, in production workflows, it's common to define functions and classes in separate `.py` files that others can import in their notebooks. Notebooks are for experimentation; `.py` files are for reusable code."
   ]
  },
  {
   "cell_type": "markdown",
   "id": "95124f4f",
   "metadata": {
    "deletable": true,
    "editable": true,
    "slideshow": {
     "slide_type": "slide"
    }
   },
   "source": [
    "### `for`-loops in Python"
   ]
  },
  {
   "cell_type": "markdown",
   "id": "0d063b3b",
   "metadata": {
    "deletable": true,
    "editable": true,
    "slideshow": {
     "slide_type": "fragment"
    }
   },
   "source": [
    "- In Python, you can loop over any **iterable**. Strings, lists, and dictionaries are all examples of iterables."
   ]
  },
  {
   "cell_type": "markdown",
   "id": "a995b889",
   "metadata": {
    "deletable": true,
    "editable": true,
    "slideshow": {
     "slide_type": "fragment"
    }
   },
   "source": [
    "- All of the following are valid ways to write a `for`-loop.<br>\n",
    "    \n",
    "```py\n",
    "            for value in \"this is a string\":\n",
    "\n",
    "            for element in lst:                  # Assume lst is a list.\n",
    "\n",
    "            for i in range(len(lst)):\n",
    "    \n",
    "```"
   ]
  },
  {
   "cell_type": "code",
   "execution_count": null,
   "id": "74bce462",
   "metadata": {
    "deletable": true,
    "editable": true
   },
   "outputs": [],
   "source": [
    "sentence = ['the', 'university', 'of', 'michigan', 'at', 'ann', 'arbor']\n",
    "# word is 'the', then 'university', then 'of', ...\n",
    "for word in sentence:\n",
    "    print(word)"
   ]
  },
  {
   "cell_type": "code",
   "execution_count": null,
   "id": "73fabdd9",
   "metadata": {
    "deletable": true,
    "editable": true
   },
   "outputs": [],
   "source": [
    "# i is 0, then 1, then 2, ...\n",
    "# Depending on the problem, you may need to use the first pattern or this second pattern.\n",
    "for i in range(len(sentence)):\n",
    "    print(i, sentence[i])"
   ]
  },
  {
   "cell_type": "markdown",
   "id": "eb604465",
   "metadata": {
    "deletable": true,
    "editable": true,
    "slideshow": {
     "slide_type": "fragment"
    }
   },
   "source": [
    "- `while`-loops will come up sparingly in data science, though there's one in Homework 1 ☄️.<br><small>But conceptually, you should know how they work!</small>"
   ]
  },
  {
   "cell_type": "markdown",
   "id": "634b7a61",
   "metadata": {
    "deletable": true,
    "editable": true,
    "slideshow": {
     "slide_type": "slide"
    }
   },
   "source": [
    "### Warning ⚠️"
   ]
  },
  {
   "cell_type": "markdown",
   "id": "47cceaca",
   "metadata": {
    "deletable": true,
    "editable": true,
    "slideshow": {
     "slide_type": "fragment"
    }
   },
   "source": [
    "- One of the more common `for`-loop examples you may have seen in earlier classes involved performing some operation to every element of a sequence, e.g. doubling the numbers in a list.\n",
    "\n",
    "```py\n",
    "            def double(vals):\n",
    "                new_vals = []\n",
    "                for val in vals:\n",
    "                    new_vals.append(vals * 2)\n",
    "                return new_vals\n",
    "```"
   ]
  },
  {
   "cell_type": "markdown",
   "id": "b5a79584",
   "metadata": {
    "deletable": true,
    "editable": true,
    "slideshow": {
     "slide_type": "fragment"
    }
   },
   "source": [
    "- We are going to **avoid ❌** these kinds of `for`-loops in this class, because there are **much faster** ways of achieving the same goal in `numpy` and `pandas`."
   ]
  },
  {
   "cell_type": "markdown",
   "id": "2932493d",
   "metadata": {
    "deletable": true,
    "editable": true,
    "slideshow": {
     "slide_type": "slide"
    }
   },
   "source": [
    "### List comprehension"
   ]
  },
  {
   "cell_type": "markdown",
   "id": "27a4ee7a",
   "metadata": {
    "deletable": true,
    "editable": true,
    "slideshow": {
     "slide_type": "fragment"
    }
   },
   "source": [
    "- In the situations when we do want to perform some operation to every element in a list, a common pattern is the **list comprehension**."
   ]
  },
  {
   "cell_type": "code",
   "execution_count": null,
   "id": "afac1b40",
   "metadata": {
    "deletable": true,
    "editable": true
   },
   "outputs": [],
   "source": [
    "vals = [2, -1, 9, 4, 3, 8]"
   ]
  },
  {
   "cell_type": "code",
   "execution_count": null,
   "id": "c53f0403",
   "metadata": {
    "deletable": true,
    "editable": true
   },
   "outputs": [],
   "source": [
    "[val ** 2 for val in vals]"
   ]
  },
  {
   "cell_type": "code",
   "execution_count": null,
   "id": "c5071868",
   "metadata": {
    "deletable": true,
    "editable": true
   },
   "outputs": [],
   "source": [
    "[val ** 2 for val in vals if val % 2 == 0]"
   ]
  },
  {
   "cell_type": "code",
   "execution_count": null,
   "id": "4c037dc8",
   "metadata": {
    "deletable": true,
    "editable": true
   },
   "outputs": [],
   "source": [
    "[val ** 2 if val % 2 == 0 else val + 1 for val in vals]"
   ]
  },
  {
   "cell_type": "markdown",
   "id": "f2872c60",
   "metadata": {
    "deletable": true,
    "editable": true,
    "slideshow": {
     "slide_type": "fragment"
    }
   },
   "source": [
    "- All of the above _can_ be implemented using a `for`-loop.<br><small>And remember, you'll mostly use `numpy` techniques rather than writing `for`-loops or list comprehensions. Still, list comprehensions are a good tool to know.</small>"
   ]
  },
  {
   "cell_type": "code",
   "execution_count": null,
   "id": "5ed4f7c0",
   "metadata": {
    "deletable": true,
    "editable": true
   },
   "outputs": [],
   "source": [
    "new_vals = []\n",
    "for val in vals:\n",
    "    if val % 2 == 0:\n",
    "        new_vals.append(val ** 2)\n",
    "    else:\n",
    "        new_vals.append(val + 1)\n",
    "new_vals"
   ]
  },
  {
   "cell_type": "markdown",
   "id": "51b4c627",
   "metadata": {
    "deletable": true,
    "editable": true,
    "slideshow": {
     "slide_type": "slide"
    }
   },
   "source": [
    "### Dictionaries"
   ]
  },
  {
   "cell_type": "markdown",
   "id": "8083e409",
   "metadata": {
    "deletable": true,
    "editable": true,
    "slideshow": {
     "slide_type": "fragment"
    }
   },
   "source": [
    "- A dictionary stores a collection of key-value pairs.\n",
    "<br><small>They are the equivalent of a map in C++.</small>"
   ]
  },
  {
   "cell_type": "markdown",
   "id": "40a15066",
   "metadata": {
    "deletable": true,
    "editable": true,
    "slideshow": {
     "slide_type": "fragment"
    }
   },
   "source": [
    "-  `{`curly brackets`}` denote the start and end of a dictionary, a colon`:` is used to denote a single key value pair, and a comma`,` is used to separate key-value pairs."
   ]
  },
  {
   "cell_type": "code",
   "execution_count": null,
   "id": "5219c7e2",
   "metadata": {
    "deletable": true,
    "editable": true
   },
   "outputs": [],
   "source": [
    "dog = {'name': 'Junior', \n",
    "       'age': 15, \n",
    "       4: ['kibble', 'treat']}\n",
    "dog"
   ]
  },
  {
   "cell_type": "markdown",
   "id": "d5d0810c",
   "metadata": {
    "deletable": true,
    "editable": true,
    "slideshow": {
     "slide_type": "fragment"
    }
   },
   "source": [
    "- We retrieve a value in a dictionary using its key."
   ]
  },
  {
   "cell_type": "code",
   "execution_count": null,
   "id": "bbb3fb04",
   "metadata": {
    "deletable": true,
    "editable": true
   },
   "outputs": [],
   "source": [
    "..."
   ]
  },
  {
   "cell_type": "code",
   "execution_count": null,
   "id": "85ca3b1d",
   "metadata": {
    "deletable": true,
    "editable": true
   },
   "outputs": [],
   "source": [
    "..."
   ]
  },
  {
   "cell_type": "markdown",
   "id": "ec5243b8",
   "metadata": {
    "deletable": true,
    "editable": true,
    "slideshow": {
     "slide_type": "fragment"
    }
   },
   "source": [
    "- After creation, we can add or change key-value pairs."
   ]
  },
  {
   "cell_type": "code",
   "execution_count": null,
   "id": "0da9e38e",
   "metadata": {
    "deletable": true,
    "editable": true
   },
   "outputs": [],
   "source": [
    "..."
   ]
  },
  {
   "cell_type": "code",
   "execution_count": null,
   "id": "b216aa4d",
   "metadata": {
    "deletable": true,
    "editable": true
   },
   "outputs": [],
   "source": [
    "dog"
   ]
  },
  {
   "cell_type": "markdown",
   "id": "4e9405b5",
   "metadata": {
    "deletable": true,
    "editable": true
   },
   "source": [
    "- A dictionary's keys must be immutable (numbers, strings, Booleans), while its values can be anything."
   ]
  },
  {
   "cell_type": "code",
   "execution_count": null,
   "id": "9ae4e613",
   "metadata": {
    "deletable": true,
    "editable": true
   },
   "outputs": [],
   "source": [
    "# Here, we're trying to add a value with a key of [1, 2].\n",
    "# Since [1, 2] is mutable, it can't be used as a key.\n",
    "dog[[1, 2]] = 'does this work?'"
   ]
  },
  {
   "cell_type": "markdown",
   "id": "5b8baedc",
   "metadata": {
    "deletable": true,
    "editable": true,
    "slideshow": {
     "slide_type": "slide"
    }
   },
   "source": [
    "### Pre-activity setup\n",
    "\n",
    "The cell below reads in a file containing the state corresponding to each area code and stores it as a dictionary."
   ]
  },
  {
   "cell_type": "code",
   "execution_count": null,
   "id": "44749ff6",
   "metadata": {
    "deletable": true,
    "editable": true
   },
   "outputs": [],
   "source": [
    "codes_dict = {}\n",
    "f = open('data/areacodes.txt', 'r')\n",
    "s = f.read()\n",
    "for l in s.split('\\n')[:-1]:\n",
    "    code, state = l.split(' — ')\n",
    "    codes_dict[int(code)] = state"
   ]
  },
  {
   "cell_type": "markdown",
   "id": "0c38d096",
   "metadata": {
    "deletable": true,
    "editable": true,
    "slideshow": {
     "slide_type": "slide"
    }
   },
   "source": [
    "<div class=\"alert alert-success\">\n",
    "<h3>Activity</h3>\n",
    "    \n",
    "`codes_dict` is a dictionary where each key is an area code and each value is the state corresponding to that code.\n",
    "\n",
    "```py\n",
    "codes_dict = {...\n",
    "208: 'Idaho',\n",
    "209: 'California',\n",
    "210: 'Texas',\n",
    "212: 'New York',\n",
    "213: 'California',\n",
    "...}\n",
    "```\n",
    "    \n",
    "Create a new dictionary, `states_dict`, where each key is a **state** and each value is a **list of area codes in that state**. For instance:\n",
    "    \n",
    "```py\n",
    "states_dict = {...\n",
    " 'Washington': [206, 253, ...],\n",
    " 'Michigan': [231, 248, ...],\n",
    " 'Idaho': [208],\n",
    " 'California': [209, 213, ...],\n",
    " 'Texas': [210, 214, ...],\n",
    " ...}\n",
    "    \n",
    "```\n",
    "    \n",
    "</div>"
   ]
  },
  {
   "cell_type": "code",
   "execution_count": null,
   "id": "30e196aa",
   "metadata": {
    "deletable": true,
    "editable": true
   },
   "outputs": [],
   "source": [
    "states_dict = {}\n",
    "..."
   ]
  },
  {
   "cell_type": "code",
   "execution_count": null,
   "id": "09522dce",
   "metadata": {
    "deletable": true,
    "editable": true
   },
   "outputs": [],
   "source": []
  },
  {
   "cell_type": "markdown",
   "id": "3948db71",
   "metadata": {
    "deletable": true,
    "editable": true,
    "slideshow": {
     "slide_type": "slide"
    }
   },
   "source": [
    "### Walkthrough video of area codes example"
   ]
  },
  {
   "cell_type": "markdown",
   "id": "aa1ea710",
   "metadata": {
    "deletable": true,
    "editable": true,
    "slideshow": {
     "slide_type": "fragment"
    }
   },
   "source": [
    "- If we don't finish the area codes example in class, there's a walkthrough video of it below.<br><small>The walkthrough can also be found directly on the course website, by clicking the \"⏯️ videos\" button for Lecture 2.</small>"
   ]
  },
  {
   "cell_type": "code",
   "execution_count": null,
   "id": "4fa81a3a",
   "metadata": {
    "deletable": true,
    "editable": true
   },
   "outputs": [],
   "source": [
    "YouTubeVideo('IaEuWJCcwjk')"
   ]
  },
  {
   "cell_type": "markdown",
   "id": "3fcecf4e",
   "metadata": {
    "deletable": true,
    "editable": true,
    "slideshow": {
     "slide_type": "slide"
    }
   },
   "source": [
    "### What's next?"
   ]
  },
  {
   "cell_type": "markdown",
   "id": "48677bc5",
   "metadata": {
    "deletable": true,
    "editable": true,
    "slideshow": {
     "slide_type": "fragment"
    }
   },
   "source": [
    "- On Thursday, we'll start by introducing the `numpy` array, which we'll rely on heavily throughout the semester. We'll see how `numpy` arrays make mathematical operations easy and efficient."
   ]
  },
  {
   "cell_type": "markdown",
   "id": "ddd7d71c",
   "metadata": {
    "deletable": true,
    "editable": true,
    "slideshow": {
     "slide_type": "fragment"
    }
   },
   "source": [
    "- We'll also work with 2D `numpy` arrays, which have applications from image processing to ranking search results on Google."
   ]
  },
  {
   "cell_type": "markdown",
   "id": "84ab2ed7",
   "metadata": {
    "deletable": true,
    "editable": true,
    "slideshow": {
     "slide_type": "fragment"
    }
   },
   "source": [
    "- 2D `numpy` arrays work similarly to DataFrames (tables), which we'll also start learning about on Thursday."
   ]
  }
 ],
 "metadata": {
  "celltoolbar": "None",
  "kernelspec": {
   "display_name": "Python 3 (ipykernel)",
   "language": "python",
   "name": "python3"
  },
  "language_info": {
   "codemirror_mode": {
    "name": "ipython",
    "version": 3
   },
   "file_extension": ".py",
   "mimetype": "text/x-python",
   "name": "python",
   "nbconvert_exporter": "python",
   "pygments_lexer": "ipython3",
   "version": "3.10.16"
  },
  "livereveal": {
   "scroll": true
  },
  "rise": {
   "transition": "none"
  }
 },
 "nbformat": 4,
 "nbformat_minor": 5
}
