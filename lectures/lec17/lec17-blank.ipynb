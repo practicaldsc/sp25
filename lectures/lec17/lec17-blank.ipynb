{
 "cells": [
  {
   "cell_type": "code",
   "execution_count": null,
   "id": "795cd671",
   "metadata": {
    "deletable": true,
    "editable": true,
    "slideshow": {
     "slide_type": "skip"
    }
   },
   "outputs": [],
   "source": [
    "from lec_utils import *\n",
    "import lec17_util as util"
   ]
  },
  {
   "cell_type": "markdown",
   "id": "bbd565b6",
   "metadata": {
    "deletable": true,
    "editable": true,
    "slideshow": {
     "slide_type": "slide"
    },
    "tags": []
   },
   "source": [
    "\n",
    "<div class=\"alert alert-info\" markdown=\"1\">\n",
    "\n",
    "#### Lecture 17\n",
    "\n",
    "# Pipelines\n",
    "\n",
    "### EECS 398: Practical Data Science, Spring 2025\n",
    "\n",
    "<small><a style=\"text-decoration: none\" href=\"https://practicaldsc.org\">practicaldsc.org</a> • <a style=\"text-decoration: none\" href=\"https://github.com/practicaldsc/sp25\">github.com/practicaldsc/sp25</a> • 📣 See latest announcements [**here on Ed**](https://edstem.org/us/courses/78535/discussion/6647877) </small>\n",
    "    \n",
    "</div>\n"
   ]
  },
  {
   "cell_type": "markdown",
   "id": "10373196",
   "metadata": {
    "deletable": true,
    "editable": true,
    "slideshow": {
     "slide_type": "slide"
    }
   },
   "source": [
    "### Agenda 📆\n",
    "\n",
    "- `OneHotEncoder` and multicollinearity.\n",
    "- Pipelines🚰.\n",
    "- Generalization 🔭."
   ]
  },
  {
   "cell_type": "markdown",
   "id": "dd88414c",
   "metadata": {
    "deletable": true,
    "editable": true,
    "slideshow": {
     "slide_type": "slide"
    }
   },
   "source": [
    "<div class=\"alert alert-warning\">\n",
    "    <h3>Question 🤔 (Answer at <a style=\"text-decoration: none; color: #0066cc\" href=\"https://docs.google.com/forms/d/e/1FAIpQLSd4oliiZYeNh76jWy-arfEtoAkCrVSsobZxPwxifWggo3EO0Q/viewform\">practicaldsc.org/q</a>)</h3>\n",
    "    \n",
    "Remember that you can always ask questions anonymously at the link above!"
   ]
  },
  {
   "cell_type": "markdown",
   "id": "2ff0dd1b",
   "metadata": {
    "deletable": true,
    "editable": true,
    "slideshow": {
     "slide_type": "slide"
    }
   },
   "source": [
    "## `OneHotEncoder` and multicollinearity\n",
    "\n",
    "---"
   ]
  },
  {
   "cell_type": "markdown",
   "id": "a7fe30a9",
   "metadata": {
    "deletable": true,
    "editable": true,
    "slideshow": {
     "slide_type": "slide"
    }
   },
   "source": [
    "### Example: Commute times 🚗"
   ]
  },
  {
   "cell_type": "markdown",
   "id": "cb95f54f",
   "metadata": {
    "deletable": true,
    "editable": true,
    "slideshow": {
     "slide_type": "fragment"
    }
   },
   "source": [
    "- Let's reload our trusty commute times dataset."
   ]
  },
  {
   "cell_type": "code",
   "execution_count": null,
   "id": "e86beb50",
   "metadata": {
    "deletable": true,
    "editable": true
   },
   "outputs": [],
   "source": [
    "df = pd.read_csv('data/commute-times.csv')\n",
    "df['day_of_month'] = pd.to_datetime(df['date']).dt.day\n",
    "df['month'] = pd.to_datetime(df['date']).dt.month_name()\n",
    "df.head()"
   ]
  },
  {
   "cell_type": "markdown",
   "id": "9086b9a9",
   "metadata": {
    "deletable": true,
    "editable": true,
    "slideshow": {
     "slide_type": "fragment"
    }
   },
   "source": [
    "- We'll focus specifically on the `'day'` and `'month'` columns."
   ]
  },
  {
   "cell_type": "code",
   "execution_count": null,
   "id": "8e6fa88c",
   "metadata": {
    "deletable": true,
    "editable": true
   },
   "outputs": [],
   "source": [
    "df[['day', 'month']]"
   ]
  },
  {
   "cell_type": "markdown",
   "id": "2e563b81",
   "metadata": {
    "deletable": true,
    "editable": true,
    "slideshow": {
     "slide_type": "slide"
    }
   },
   "source": [
    "### Example transformer: `OneHotEncoder`"
   ]
  },
  {
   "cell_type": "markdown",
   "id": "300e6eae",
   "metadata": {
    "deletable": true,
    "editable": true,
    "slideshow": {
     "slide_type": "fragment"
    }
   },
   "source": [
    "- Last class, we had to manually one hot encode the `'day'` column. Let's figure out how to one hot encode it automatically, along with the new `'month'` column."
   ]
  },
  {
   "cell_type": "code",
   "execution_count": null,
   "id": "b9e53536",
   "metadata": {
    "deletable": true,
    "editable": true
   },
   "outputs": [],
   "source": [
    "df[['day', 'month']]"
   ]
  },
  {
   "cell_type": "markdown",
   "id": "04eaeaff",
   "metadata": {
    "deletable": true,
    "editable": true,
    "slideshow": {
     "slide_type": "fragment"
    }
   },
   "source": [
    "- First, we need to import the relevant class from `sklearn.preprocessing`."
   ]
  },
  {
   "cell_type": "code",
   "execution_count": null,
   "id": "72355cba",
   "metadata": {
    "deletable": true,
    "editable": true,
    "slideshow": {
     "slide_type": "-"
    }
   },
   "outputs": [],
   "source": [
    "from sklearn.preprocessing import OneHotEncoder"
   ]
  },
  {
   "cell_type": "markdown",
   "id": "0ce99f5e",
   "metadata": {
    "deletable": true,
    "editable": true,
    "slideshow": {
     "slide_type": "fragment"
    }
   },
   "source": [
    "- Like with `StandardScaler`, we need to instantiate **and fit** our `OneHotEncoder` instsance before it can transform anything."
   ]
  },
  {
   "cell_type": "code",
   "execution_count": null,
   "id": "d30cdba0",
   "metadata": {
    "deletable": true,
    "editable": true
   },
   "outputs": [],
   "source": [
    "ohe = OneHotEncoder()"
   ]
  },
  {
   "cell_type": "code",
   "execution_count": null,
   "id": "8da9ad68",
   "metadata": {
    "deletable": true,
    "editable": true
   },
   "outputs": [],
   "source": [
    "ohe.fit(df[['day', 'month']])"
   ]
  },
  {
   "cell_type": "markdown",
   "id": "fa9b0749",
   "metadata": {
    "deletable": true,
    "editable": true,
    "slideshow": {
     "slide_type": "fragment"
    }
   },
   "source": [
    "- Once we've fit, when we use the `transform` method, we get a result we might not expect."
   ]
  },
  {
   "cell_type": "code",
   "execution_count": null,
   "id": "ada502df",
   "metadata": {
    "deletable": true,
    "editable": true
   },
   "outputs": [],
   "source": [
    "ohe.transform(df[['day', 'month']])"
   ]
  },
  {
   "cell_type": "markdown",
   "id": "b760c41e",
   "metadata": {
    "deletable": true,
    "editable": true,
    "slideshow": {
     "slide_type": "fragment"
    }
   },
   "source": [
    "- Since the resulting matrix is **sparse** – most of its elements are 0 – `sklearn` uses a more efficient representation than a regular `numpy` array. We can convert to a regular (dense) array:"
   ]
  },
  {
   "cell_type": "code",
   "execution_count": null,
   "id": "ecb06b56",
   "metadata": {
    "deletable": true,
    "editable": true
   },
   "outputs": [],
   "source": [
    "ohe.transform(df[['day', 'month']]).toarray()"
   ]
  },
  {
   "cell_type": "markdown",
   "id": "3b6ca28a",
   "metadata": {
    "deletable": true,
    "editable": true,
    "slideshow": {
     "slide_type": "fragment"
    }
   },
   "source": [
    "- The column names from `df[['day', 'month']]` don't appear in the output above. We can use the `get_feature_names_out` method on `ohe` to access the names and order of the one hot encoded columns, though:"
   ]
  },
  {
   "cell_type": "code",
   "execution_count": null,
   "id": "3b6858d3",
   "metadata": {
    "deletable": true,
    "editable": true
   },
   "outputs": [],
   "source": [
    "ohe.get_feature_names_out()"
   ]
  },
  {
   "cell_type": "code",
   "execution_count": null,
   "id": "7dff7c26",
   "metadata": {
    "deletable": true,
    "editable": true
   },
   "outputs": [],
   "source": [
    "pd.DataFrame(ohe.transform(df[['day', 'month']]).toarray(), \n",
    "             columns=ohe.get_feature_names_out()) # If we need a DataFrame back, for some reason."
   ]
  },
  {
   "cell_type": "markdown",
   "id": "0a814606",
   "metadata": {
    "deletable": true,
    "editable": true,
    "slideshow": {
     "slide_type": "fragment"
    }
   },
   "source": [
    "- Usually, we won't perform all of these intermediate steps, since the `OneHotEncoder` will be part of a larger **Pipeline**."
   ]
  },
  {
   "cell_type": "markdown",
   "id": "52cefa08",
   "metadata": {
    "deletable": true,
    "editable": true,
    "slideshow": {
     "slide_type": "slide"
    }
   },
   "source": [
    "### Example: Heights and weights"
   ]
  },
  {
   "cell_type": "markdown",
   "id": "34e5993e",
   "metadata": {
    "deletable": true,
    "editable": true,
    "slideshow": {
     "slide_type": "fragment"
    }
   },
   "source": [
    "- We now know how to use `OneHotEncoder`."
   ]
  },
  {
   "cell_type": "markdown",
   "id": "7519e229",
   "metadata": {
    "deletable": true,
    "editable": true,
    "slideshow": {
     "slide_type": "fragment"
    }
   },
   "source": [
    "- To illustrate a mathematical issue involving one hot encoding, let's load in another dataset, this time containing the weights and heights of 25,000 18 year olds, taken from [here](http://wiki.stat.ucla.edu/socr/index.php/SOCR_Data_Dinov_020108_HeightsWeights)."
   ]
  },
  {
   "cell_type": "code",
   "execution_count": null,
   "id": "c7313107",
   "metadata": {
    "deletable": true,
    "editable": true
   },
   "outputs": [],
   "source": [
    "people = pd.read_csv('data/heights-weights.csv').drop(columns=['Index'])\n",
    "people.head()"
   ]
  },
  {
   "cell_type": "code",
   "execution_count": null,
   "id": "0f38ea1c",
   "metadata": {
    "deletable": true,
    "editable": true
   },
   "outputs": [],
   "source": [
    "people.plot(kind='scatter', x='Height (Inches)', y='Weight (Pounds)', \n",
    "            title='Weight vs. Height for 25,000 18 Year Olds')"
   ]
  },
  {
   "cell_type": "markdown",
   "id": "b4d9afc4",
   "metadata": {
    "deletable": true,
    "editable": true,
    "slideshow": {
     "slide_type": "slide"
    }
   },
   "source": [
    "### Motivating example"
   ]
  },
  {
   "cell_type": "markdown",
   "id": "074834f7",
   "metadata": {
    "deletable": true,
    "editable": true,
    "slideshow": {
     "slide_type": "fragment"
    }
   },
   "source": [
    "- Suppose we fit a simple linear regression model that uses **height in inches**, $x$ to predict **weight in pounds**, $y$.\n",
    "\n",
    "$$\\text{predicted weight}_i = w_0 + w_1 \\cdot \\text{height in inches}_i$$"
   ]
  },
  {
   "cell_type": "code",
   "execution_count": null,
   "id": "6444618c",
   "metadata": {
    "deletable": true,
    "editable": true
   },
   "outputs": [],
   "source": [
    "X = people[['Height (Inches)']]\n",
    "y = people['Weight (Pounds)']"
   ]
  },
  {
   "cell_type": "code",
   "execution_count": null,
   "id": "a908dc60",
   "metadata": {
    "deletable": true,
    "editable": true
   },
   "outputs": [],
   "source": [
    "from sklearn.linear_model import LinearRegression\n",
    "people_one_feat = LinearRegression()\n",
    "people_one_feat.fit(X, y)"
   ]
  },
  {
   "cell_type": "markdown",
   "id": "36050410",
   "metadata": {
    "deletable": true,
    "editable": true,
    "slideshow": {
     "slide_type": "fragment"
    }
   },
   "source": [
    "- $w_0^*$ and $w_1^*$ are shown below, along with the model's MSE on the data we used to train it.<br><small>We call this the model's **training MSE**.</small>"
   ]
  },
  {
   "cell_type": "code",
   "execution_count": null,
   "id": "a66f5c2c",
   "metadata": {
    "deletable": true,
    "editable": true
   },
   "outputs": [],
   "source": [
    "people_one_feat.intercept_, people_one_feat.coef_"
   ]
  },
  {
   "cell_type": "code",
   "execution_count": null,
   "id": "7654ce13",
   "metadata": {
    "deletable": true,
    "editable": true
   },
   "outputs": [],
   "source": [
    "from sklearn.metrics import mean_squared_error\n",
    "mean_squared_error(y, people_one_feat.predict(X))"
   ]
  },
  {
   "cell_type": "markdown",
   "id": "81b10395",
   "metadata": {
    "deletable": true,
    "editable": true,
    "slideshow": {
     "slide_type": "slide"
    }
   },
   "source": [
    "### An added feature"
   ]
  },
  {
   "cell_type": "markdown",
   "id": "0d89571d",
   "metadata": {
    "deletable": true,
    "editable": true,
    "slideshow": {
     "slide_type": "fragment"
    }
   },
   "source": [
    "- Now, suppose we fit another regression model, that uses **height in inches** AND **height in feet** to predict weight.\n",
    "\n",
    "$$\\text{predicted weight}_i = w_0 + w_1 \\cdot \\text{height in inches}_i + w_2 \\cdot \\text{height in feet}_i$$"
   ]
  },
  {
   "cell_type": "code",
   "execution_count": null,
   "id": "228f1d3d",
   "metadata": {
    "deletable": true,
    "editable": true
   },
   "outputs": [],
   "source": [
    "people['Height (Feet)'] = people['Height (Inches)'] / 12 # 12 inches = 1 foot."
   ]
  },
  {
   "cell_type": "code",
   "execution_count": null,
   "id": "170a9bdd",
   "metadata": {
    "deletable": true,
    "editable": true
   },
   "outputs": [],
   "source": [
    "X2 = people[['Height (Inches)', 'Height (Feet)']]\n",
    "X2"
   ]
  },
  {
   "cell_type": "code",
   "execution_count": null,
   "id": "ca168d82",
   "metadata": {
    "deletable": true,
    "editable": true
   },
   "outputs": [],
   "source": [
    "people_two_feat = LinearRegression()\n",
    "people_two_feat.fit(X2, y)"
   ]
  },
  {
   "cell_type": "markdown",
   "id": "372f3b4d",
   "metadata": {
    "deletable": true,
    "editable": true,
    "slideshow": {
     "slide_type": "fragment"
    }
   },
   "source": [
    "- What are $w_0^*$, $w_1^*$, $w_2^*$, and the model's MSE?"
   ]
  },
  {
   "cell_type": "code",
   "execution_count": null,
   "id": "91eb2081",
   "metadata": {
    "deletable": true,
    "editable": true
   },
   "outputs": [],
   "source": [
    "people_two_feat.intercept_, people_two_feat.coef_"
   ]
  },
  {
   "cell_type": "code",
   "execution_count": null,
   "id": "d15f2e4a",
   "metadata": {
    "deletable": true,
    "editable": true
   },
   "outputs": [],
   "source": [
    "mean_squared_error(y, people_two_feat.predict(X2))"
   ]
  },
  {
   "cell_type": "markdown",
   "id": "4d2c8260",
   "metadata": {
    "deletable": true,
    "editable": true,
    "slideshow": {
     "slide_type": "fragment"
    }
   },
   "source": [
    "- **Observation**: The intercept is the same as before (roughly -82.59), as is the MSE. However, the coefficients on `'Height (Inches)'` and `'Height (Feet)'` are massive in size!"
   ]
  },
  {
   "cell_type": "markdown",
   "id": "fb7e76cc",
   "metadata": {
    "deletable": true,
    "editable": true,
    "slideshow": {
     "slide_type": "fragment"
    }
   },
   "source": [
    "- It should be unsurprising that the MSE is the same, because the span of the design matrix is the same. So, the best predictions should be the same, too."
   ]
  },
  {
   "cell_type": "markdown",
   "id": "6e3f194f",
   "metadata": {
    "deletable": true,
    "editable": true,
    "slideshow": {
     "slide_type": "fragment"
    }
   },
   "source": [
    "- But what's going on with the coefficients?"
   ]
  },
  {
   "cell_type": "markdown",
   "id": "7db80594",
   "metadata": {
    "deletable": true,
    "editable": true,
    "slideshow": {
     "slide_type": "slide"
    }
   },
   "source": [
    "### Redundant features"
   ]
  },
  {
   "cell_type": "markdown",
   "id": "09fbb85d",
   "metadata": {
    "deletable": true,
    "editable": true,
    "slideshow": {
     "slide_type": "fragment"
    }
   },
   "source": [
    "- Suppose in the first model, $w_0^* = -80$ and $w_1^* = 3$.\n",
    "\n",
    "$$\\text{predicted weight}_i = -80 + 3 \\cdot \\text{height in inches}_i$$"
   ]
  },
  {
   "cell_type": "markdown",
   "id": "0987ae6f",
   "metadata": {
    "deletable": true,
    "editable": true,
    "slideshow": {
     "slide_type": "fragment"
    }
   },
   "source": [
    "- In the second model, we have:\n",
    "\n",
    "$$\\begin{align*}\\text{predicted weight}_i &= w_0^* + w_1^* \\cdot \\text{height in inches}_i + w_2^* \\cdot \\text{height in feet}_i \\end{align*}$$"
   ]
  },
  {
   "cell_type": "markdown",
   "id": "9f72fb50",
   "metadata": {
    "deletable": true,
    "editable": true,
    "slideshow": {
     "slide_type": "fragment"
    }
   },
   "source": [
    "- But, since $\\text{height in feet}_i = \\frac{\\text{height in inches}_i}{12}$:\n",
    "\n",
    "$$\\begin{align*}\\text{predicted weight}_i &= w_0^* + w_1^* \\cdot \\text{height in inches}_i + w_2^* \\cdot \\text{height in feet}_i \\\\ &= w_0^* + w_1^* \\cdot \\text{height in inches}_i + w_2^* \\cdot \\left( \\frac{\\text{height in inches}_i}{12} \\right) \\\\ &= w_0^* + \\left( w_1^* + \\frac{w_2^*}{12} \\right) \\cdot \\text{height in inches}_i \\end{align*}$$"
   ]
  },
  {
   "cell_type": "markdown",
   "id": "cc07fcdc",
   "metadata": {
    "deletable": true,
    "editable": true,
    "slideshow": {
     "slide_type": "fragment"
    }
   },
   "source": [
    "- In the first model, we already found the \"best\" intercept ($-80$) and slope ($3$) in a linear model that uses height in inches to predict weight."
   ]
  },
  {
   "cell_type": "markdown",
   "id": "0faa7c48",
   "metadata": {
    "deletable": true,
    "editable": true,
    "slideshow": {
     "slide_type": "fragment"
    }
   },
   "source": [
    "- **So, as long as $w_1^* + \\frac{w_2^*}{12} = 3$ in the second model, the second model's predictions will be the same as the first, and hence they will also minimize MSE.**"
   ]
  },
  {
   "cell_type": "markdown",
   "id": "4c7c101b",
   "metadata": {
    "deletable": true,
    "editable": true,
    "slideshow": {
     "slide_type": "slide"
    }
   },
   "source": [
    "### Infinitely many parameter choices"
   ]
  },
  {
   "cell_type": "markdown",
   "id": "3a674ee2",
   "metadata": {
    "deletable": true,
    "editable": true,
    "slideshow": {
     "slide_type": "fragment"
    }
   },
   "source": [
    "- **Issue**: There are an infinite number of $w_1^*$ and $w_2^*$ that satisfy $w_1^* + \\frac{w_2^*}{12} = 3$!"
   ]
  },
  {
   "cell_type": "markdown",
   "id": "2dc38669",
   "metadata": {
    "deletable": true,
    "editable": true,
    "slideshow": {
     "slide_type": "fragment"
    }
   },
   "source": [
    "$$\\begin{align*}\\text{predicted weight}_i &= -80 + 5 \\cdot \\text{height in inches}_i - 24 \\cdot \\text{height in feet}_i \\end{align*}$$"
   ]
  },
  {
   "cell_type": "markdown",
   "id": "d2d75b40",
   "metadata": {
    "deletable": true,
    "editable": true,
    "slideshow": {
     "slide_type": "fragment"
    }
   },
   "source": [
    "$$\\begin{align*}\\text{predicted weight}_i &= -80 - 1 \\cdot \\text{height in inches}_i + 48 \\cdot \\text{height in feet}_i \\end{align*}$$"
   ]
  },
  {
   "cell_type": "markdown",
   "id": "d658c1a8",
   "metadata": {
    "deletable": true,
    "editable": true,
    "slideshow": {
     "slide_type": "fragment"
    }
   },
   "source": [
    "- Both hypothesis functions look very different, but actually make the same predictions."
   ]
  },
  {
   "cell_type": "markdown",
   "id": "f37dc79c",
   "metadata": {
    "deletable": true,
    "editable": true,
    "slideshow": {
     "slide_type": "fragment"
    }
   },
   "source": [
    "- `model.coef_` could return either set of coefficients, or any other of the infinitely many options. "
   ]
  },
  {
   "cell_type": "markdown",
   "id": "f81a22b5",
   "metadata": {
    "deletable": true,
    "editable": true,
    "slideshow": {
     "slide_type": "fragment"
    }
   },
   "source": [
    "- But neither set of coefficients is **has any meaning!**"
   ]
  },
  {
   "cell_type": "code",
   "execution_count": null,
   "id": "70bc3575",
   "metadata": {
    "deletable": true,
    "editable": true
   },
   "outputs": [],
   "source": [
    "-80 + 5 * people['Height (Inches)'] - 24 * people['Height (Feet)']"
   ]
  },
  {
   "cell_type": "code",
   "execution_count": null,
   "id": "767760a2",
   "metadata": {
    "deletable": true,
    "editable": true,
    "scrolled": true
   },
   "outputs": [],
   "source": [
    "-80 - 1 * people['Height (Inches)'] + 48 * people['Height (Feet)']"
   ]
  },
  {
   "cell_type": "markdown",
   "id": "25504507",
   "metadata": {
    "deletable": true,
    "editable": true,
    "slideshow": {
     "slide_type": "slide"
    }
   },
   "source": [
    "### Multicollinearity"
   ]
  },
  {
   "cell_type": "markdown",
   "id": "a522c10b",
   "metadata": {
    "deletable": true,
    "editable": true,
    "slideshow": {
     "slide_type": "fragment"
    }
   },
   "source": [
    "- Multicollinearity occurs when features in a regression model are **highly correlated** with one another.<br><small>In other words, multicollinearity occurs when **a feature can be predicted using a linear combination of other features, fairly accurately**.</small>"
   ]
  },
  {
   "cell_type": "markdown",
   "id": "17e39546",
   "metadata": {
    "deletable": true,
    "editable": true,
    "slideshow": {
     "slide_type": "fragment"
    }
   },
   "source": [
    "- When multicollinearity is present in the features, the **coefficients in the model** are uninterpretable – they have no meaning.<br><small>A \"slope\" represents \"the rate of change of $y$ with respect to a feature\", when all other features are held constant – but if there's multicollinearity, you can't hold other features constant.</small>"
   ]
  },
  {
   "cell_type": "markdown",
   "id": "8deaa94c",
   "metadata": {
    "deletable": true,
    "editable": true,
    "slideshow": {
     "slide_type": "fragment"
    }
   },
   "source": [
    "- **Note: Multicollinearity doesn't impact a model's predictions!**\n",
    "    - It doesn't impact a model's ability to generalize to unseen data.\n",
    "    - If features are multicollinear in the data we've seen, they will probably be multicollinear in the data we haven't seen, drawn from the same distribution."
   ]
  },
  {
   "cell_type": "markdown",
   "id": "bda984cf",
   "metadata": {
    "deletable": true,
    "editable": true,
    "slideshow": {
     "slide_type": "fragment"
    }
   },
   "source": [
    "- **Solutions**:\n",
    "    - Manually remove highly correlated features.\n",
    "    - Use a dimensionality reduction technique (such as PCA) to automatically reduce dimensions."
   ]
  },
  {
   "cell_type": "markdown",
   "id": "3660d1e4",
   "metadata": {
    "deletable": true,
    "editable": true,
    "slideshow": {
     "slide_type": "slide"
    }
   },
   "source": [
    "### One hot encoding and multicollinearity"
   ]
  },
  {
   "cell_type": "markdown",
   "id": "ac7a3c08",
   "metadata": {
    "deletable": true,
    "editable": true,
    "slideshow": {
     "slide_type": "fragment"
    }
   },
   "source": [
    "- **One hot encoding will result in multicollinearity unless you drop one of the one hot encoded features.**"
   ]
  },
  {
   "cell_type": "markdown",
   "id": "7fdc3d1a",
   "metadata": {
    "deletable": true,
    "editable": true,
    "slideshow": {
     "slide_type": "fragment"
    }
   },
   "source": [
    "- Suppose we have the following fitted model:<br><small>For illustration, assume `'weekend'` was originally a categorical feature with two possible values, `'Yes'` or `'No'`.\n",
    "\n",
    "$$\n",
    "\\begin{aligned}\n",
    "H(\\vec x_i) = 1 - 3 \\cdot \\text{departure hour}_i + 2 \\cdot (\\text{weekend}_i==\\text{Yes}) - 2 \\cdot (\\text{weekend}_i==\\text{No})\n",
    "\\end{aligned}\n",
    "$$"
   ]
  },
  {
   "cell_type": "markdown",
   "id": "52672252",
   "metadata": {
    "deletable": true,
    "editable": true,
    "slideshow": {
     "slide_type": "fragment"
    }
   },
   "source": [
    "- This is equivalent to:\n",
    "\n",
    "$$\n",
    "\\begin{aligned}\n",
    "H(\\vec x_i) = 10 - 3 \\cdot \\text{departure hour}_i - 7 \\cdot (\\text{weekend}_i==\\text{Yes}) - 11 \\cdot (\\text{weekend}_i==\\text{No})\n",
    "\\end{aligned}\n",
    "$$"
   ]
  },
  {
   "cell_type": "markdown",
   "id": "4fa472fd",
   "metadata": {
    "deletable": true,
    "editable": true,
    "slideshow": {
     "slide_type": "fragment"
    }
   },
   "source": [
    "- Note that for a particular row in the dataset, $\\text{weekend}_i==\\text{Yes} + \\text{weekend}_i==\\text{No}$ is always equal to 1."
   ]
  },
  {
   "cell_type": "markdown",
   "id": "b4e3f40c",
   "metadata": {
    "deletable": true,
    "editable": true,
    "slideshow": {
     "slide_type": "fragment"
    }
   },
   "source": [
    "$$X = \\begin{bmatrix} 1 & 8.45 & 0 & 1 \\\\\n",
    "                  1 & 11 & 0 & 1 \\\\\n",
    "                  1 & 7.39 & 1 & 0 \\\\\n",
    "                  1 & 9.98 & 1 & 0 \\\\\n",
    "                  1 & 10.45 & 0 & 1 \\\\\\end{bmatrix}$$\n",
    "                  \n",
    "<center><small>A possible design matrix for this model.</small></center>"
   ]
  },
  {
   "cell_type": "markdown",
   "id": "991371c2",
   "metadata": {
    "deletable": true,
    "editable": true,
    "slideshow": {
     "slide_type": "fragment"
    }
   },
   "source": [
    "- What's the issue with the example design matrix above?<br><small>See the annotated slides.</small>"
   ]
  },
  {
   "cell_type": "markdown",
   "id": "fac89fc1",
   "metadata": {
    "deletable": true,
    "editable": true,
    "slideshow": {
     "slide_type": "slide"
    }
   },
   "source": [
    "### One hot encoding and multicollinearity"
   ]
  },
  {
   "cell_type": "markdown",
   "id": "59d47cc4",
   "metadata": {
    "deletable": true,
    "editable": true,
    "slideshow": {
     "slide_type": "fragment"
    }
   },
   "source": [
    "$$X = \\begin{bmatrix} 1 & 8.45 & 0 & 1 \\\\\n",
    "                  1 & 11 & 0 & 1 \\\\\n",
    "                  1 & 7.39 & 1 & 0 \\\\\n",
    "                  1 & 9.98 & 1 & 0 \\\\\n",
    "                  1 & 10.45 & 0 & 1 \\\\\\end{bmatrix}$$\n",
    "                  \n",
    "<center><small>A possible design matrix for this model.</small></center>"
   ]
  },
  {
   "cell_type": "markdown",
   "id": "d29effa2",
   "metadata": {
    "deletable": true,
    "editable": true,
    "slideshow": {
     "slide_type": "fragment"
    }
   },
   "source": [
    "- The columns of the design matrix, $X$ above are **not** linearly independent!\n",
    "The column of all 1s can be written as a linear combination of the $\\text{weekend==Yes}$ and $\\text{weekend==No}$ columns.\n",
    "\n",
    "$$\\text{column 1} = \\text{column 3} + \\text{column 4}$$"
   ]
  },
  {
   "cell_type": "markdown",
   "id": "5d4a2960",
   "metadata": {
    "deletable": true,
    "editable": true,
    "slideshow": {
     "slide_type": "fragment"
    }
   },
   "source": [
    "- This means that the design matrix is not **full rank**, which means that $X^TX$ is **not invertible**."
   ]
  },
  {
   "cell_type": "markdown",
   "id": "1fa1c6c6",
   "metadata": {
    "deletable": true,
    "editable": true,
    "slideshow": {
     "slide_type": "fragment"
    }
   },
   "source": [
    "- This means that there are **infinitely many possible solutions $\\vec{w}^*$ to the normal equations, $(X^TX) \\vec{w} = X^T\\vec{y}$**!<br><small>That's a problem, because we don't know which of these infinitely many solutions `model.coef_` will find for us, and it's impossible to interpret the resulting coefficients, as we saw two slides ago.</small>"
   ]
  },
  {
   "cell_type": "markdown",
   "id": "4a52d9bd",
   "metadata": {
    "deletable": true,
    "editable": true,
    "slideshow": {
     "slide_type": "fragment"
    }
   },
   "source": [
    "- **Solution**: Drop one of the one hot encoded columns. `OneHotEncoder` has an option to do this."
   ]
  },
  {
   "cell_type": "markdown",
   "id": "1cbf403a",
   "metadata": {
    "deletable": true,
    "editable": true,
    "slideshow": {
     "slide_type": "slide"
    }
   },
   "source": [
    "### `OneHotEncoder` returns"
   ]
  },
  {
   "cell_type": "markdown",
   "id": "69c137fc",
   "metadata": {
    "deletable": true,
    "editable": true,
    "slideshow": {
     "slide_type": "fragment"
    }
   },
   "source": [
    "- Let's switch back to the commute times dataset, `df`."
   ]
  },
  {
   "cell_type": "code",
   "execution_count": null,
   "id": "57a2bfd0",
   "metadata": {
    "deletable": true,
    "editable": true
   },
   "outputs": [],
   "source": [
    "df[['day', 'month']]"
   ]
  },
  {
   "cell_type": "markdown",
   "id": "a35f694c",
   "metadata": {
    "deletable": true,
    "editable": true,
    "slideshow": {
     "slide_type": "fragment"
    }
   },
   "source": [
    "- Let's try using `drop='first'` when instantiating a `OneHotEncoder`."
   ]
  },
  {
   "cell_type": "code",
   "execution_count": null,
   "id": "65a81a70",
   "metadata": {
    "deletable": true,
    "editable": true
   },
   "outputs": [],
   "source": [
    "ohe_drop_one = OneHotEncoder(drop='first')"
   ]
  },
  {
   "cell_type": "code",
   "execution_count": null,
   "id": "81400d66",
   "metadata": {
    "deletable": true,
    "editable": true
   },
   "outputs": [],
   "source": [
    "ohe_drop_one.fit(df[['day', 'month']])"
   ]
  },
  {
   "cell_type": "markdown",
   "id": "c3808591",
   "metadata": {
    "deletable": true,
    "editable": true,
    "slideshow": {
     "slide_type": "fragment"
    }
   },
   "source": [
    "- How many features did the resulting transformer create?"
   ]
  },
  {
   "cell_type": "code",
   "execution_count": null,
   "id": "7b7c1027",
   "metadata": {
    "deletable": true,
    "editable": true
   },
   "outputs": [],
   "source": [
    "len(ohe_drop_one.get_feature_names_out())"
   ]
  },
  {
   "cell_type": "markdown",
   "id": "8e7d5b73",
   "metadata": {
    "deletable": true,
    "editable": true,
    "slideshow": {
     "slide_type": "fragment"
    }
   },
   "source": [
    "- Where did this number come from?"
   ]
  },
  {
   "cell_type": "code",
   "execution_count": null,
   "id": "84bc56e7",
   "metadata": {
    "deletable": true,
    "editable": true
   },
   "outputs": [],
   "source": [
    "df['day'].nunique()"
   ]
  },
  {
   "cell_type": "code",
   "execution_count": null,
   "id": "5a77dbeb",
   "metadata": {
    "deletable": true,
    "editable": true
   },
   "outputs": [],
   "source": [
    "df['month'].nunique()"
   ]
  },
  {
   "cell_type": "markdown",
   "id": "d05f785b",
   "metadata": {
    "deletable": true,
    "editable": true,
    "slideshow": {
     "slide_type": "slide"
    }
   },
   "source": [
    "### Key takeaways"
   ]
  },
  {
   "cell_type": "markdown",
   "id": "3925a3e1",
   "metadata": {
    "deletable": true,
    "editable": true,
    "slideshow": {
     "slide_type": "fragment"
    }
   },
   "source": [
    "- Multicollinearity is present in a linear model when one feature can be accurately predicted using one or more other features.<br><small>In other words, it is present when a feature is **redundant**.</small>"
   ]
  },
  {
   "cell_type": "markdown",
   "id": "455177fb",
   "metadata": {
    "deletable": true,
    "editable": true,
    "slideshow": {
     "slide_type": "fragment"
    }
   },
   "source": [
    "- Multicollinearity doesn't pose an issue for prediction; it doesn't hinder a model's ability to generalize. Instead, it renders the **coefficients** of a linear model meaningless."
   ]
  },
  {
   "cell_type": "markdown",
   "id": "da71d9e4",
   "metadata": {
    "deletable": true,
    "editable": true,
    "slideshow": {
     "slide_type": "slide"
    }
   },
   "source": [
    "## Pipelines🚰\n",
    "\n",
    "---"
   ]
  },
  {
   "cell_type": "markdown",
   "id": "bd328287",
   "metadata": {
    "deletable": true,
    "editable": true,
    "slideshow": {
     "slide_type": "slide"
    }
   },
   "source": [
    "### Recap: Commute times 🚗"
   ]
  },
  {
   "cell_type": "code",
   "execution_count": null,
   "id": "bdcdf0b0",
   "metadata": {
    "deletable": true,
    "editable": true
   },
   "outputs": [],
   "source": [
    "(\n",
    "    df\n",
    "    .plot(kind='scatter', x='departure_hour', y='minutes')\n",
    "    .update_layout(xaxis_title='Home Departure Time (AM)', \n",
    "                   yaxis_title='Minutes',\n",
    "                   title='Commuting Time vs. Home Departure Time')\n",
    ")"
   ]
  },
  {
   "cell_type": "markdown",
   "id": "5350b25b",
   "metadata": {
    "deletable": true,
    "editable": true,
    "slideshow": {
     "slide_type": "fragment"
    }
   },
   "source": [
    "- So far, our goal has been to predict commute time in `'minutes'`, given `'departure_hour'`."
   ]
  },
  {
   "cell_type": "markdown",
   "id": "45de1b45",
   "metadata": {
    "deletable": true,
    "editable": true,
    "slideshow": {
     "slide_type": "fragment"
    }
   },
   "source": [
    "- We just learned how to use `OneHotEncoder` to encode `'day'` and `'month'` as numerical columns.<br> We'll look at how we can **easily** use these columns – and more! – as inputs to a linear model that predicts commute times."
   ]
  },
  {
   "cell_type": "markdown",
   "id": "df2e9adf",
   "metadata": {
    "deletable": true,
    "editable": true,
    "slideshow": {
     "slide_type": "slide"
    }
   },
   "source": [
    "### Pipelines in `sklearn`"
   ]
  },
  {
   "cell_type": "markdown",
   "id": "67999b0c",
   "metadata": {
    "deletable": true,
    "editable": true,
    "slideshow": {
     "slide_type": "fragment"
    }
   },
   "source": [
    "- From [`sklearn`'s documentation](https://scikit-learn.org/stable/modules/generated/sklearn.pipeline.Pipeline.html):\n",
    "\n",
    "> `Pipeline` allows you to sequentially apply a list of transformers to preprocess the data and, **if desired**, conclude the sequence with a final predictor for predictive modeling.<br><br>Intermediate steps of the pipeline must be \"transforms\", that is, they must implement `fit` and `transform` methods. The final estimator only needs to implement `fit`."
   ]
  },
  {
   "cell_type": "markdown",
   "id": "9f63d198",
   "metadata": {
    "deletable": true,
    "editable": true,
    "slideshow": {
     "slide_type": "fragment"
    }
   },
   "source": [
    "- General template: `pl = make_pipeline(transformer_1, transformer_2, ..., model)`.<br><small>Note that the `model` is optional, meaning you can have Pipelines of just transformers."
   ]
  },
  {
   "cell_type": "markdown",
   "id": "bd184f7b",
   "metadata": {
    "deletable": true,
    "editable": true,
    "slideshow": {
     "slide_type": "fragment"
    }
   },
   "source": [
    "- Once a Pipeline is instantiated, you can fit **all** steps (transformers and model) using `pl.fit(X, y)`."
   ]
  },
  {
   "cell_type": "markdown",
   "id": "76d6627b",
   "metadata": {
    "deletable": true,
    "editable": true,
    "slideshow": {
     "slide_type": "fragment"
    }
   },
   "source": [
    "- To make predictions using **raw, untransformed data**, use `pl.predict(X)`."
   ]
  },
  {
   "cell_type": "markdown",
   "id": "0601283c",
   "metadata": {
    "deletable": true,
    "editable": true,
    "slideshow": {
     "slide_type": "slide"
    }
   },
   "source": [
    "### Our first Pipeline"
   ]
  },
  {
   "cell_type": "markdown",
   "id": "831cd4e8",
   "metadata": {
    "deletable": true,
    "editable": true,
    "slideshow": {
     "slide_type": "fragment"
    }
   },
   "source": [
    "- Let's build a Pipeline that:\n",
    "    1. One hot encodes `'day'` and `'month'`.\n",
    "    2. Fits a regression model on just the one hot encoded data."
   ]
  },
  {
   "cell_type": "code",
   "execution_count": null,
   "id": "135dc39a",
   "metadata": {
    "deletable": true,
    "editable": true
   },
   "outputs": [],
   "source": [
    "# You can either use the Pipeline class constructor directly,\n",
    "# or the make_pipeline helper function (my preference).\n",
    "from sklearn.pipeline import Pipeline, make_pipeline"
   ]
  },
  {
   "cell_type": "code",
   "execution_count": null,
   "id": "f632c865",
   "metadata": {
    "deletable": true,
    "editable": true,
    "scrolled": true
   },
   "outputs": [],
   "source": [
    "..."
   ]
  },
  {
   "cell_type": "markdown",
   "id": "ddb23281",
   "metadata": {
    "deletable": true,
    "editable": true,
    "slideshow": {
     "slide_type": "fragment"
    }
   },
   "source": [
    "- Now that `pl` is instantiated, we `fit` it the same way we would fit the individual steps."
   ]
  },
  {
   "cell_type": "code",
   "execution_count": null,
   "id": "0d7ea8cf",
   "metadata": {
    "deletable": true,
    "editable": true
   },
   "outputs": [],
   "source": [
    "..."
   ]
  },
  {
   "cell_type": "markdown",
   "id": "bf9ebe17",
   "metadata": {
    "deletable": true,
    "editable": true,
    "slideshow": {
     "slide_type": "fragment"
    }
   },
   "source": [
    "- Now, to make predictions using **raw data**, all we need to do is use `pl.predict`:"
   ]
  },
  {
   "cell_type": "code",
   "execution_count": null,
   "id": "e8a24659",
   "metadata": {
    "deletable": true,
    "editable": true
   },
   "outputs": [],
   "source": [
    "..."
   ]
  },
  {
   "cell_type": "markdown",
   "id": "f8bf3d20",
   "metadata": {
    "deletable": true,
    "editable": true,
    "slideshow": {
     "slide_type": "fragment"
    }
   },
   "source": [
    "- `pl` performs **both** feature transformation and prediction with just a single call to `predict`!"
   ]
  },
  {
   "cell_type": "markdown",
   "id": "b2bd7777",
   "metadata": {
    "deletable": true,
    "editable": true,
    "slideshow": {
     "slide_type": "skip"
    }
   },
   "source": [
    "<div class=\"alert alert-danger\">\n",
    "    \n",
    "#### Reference Slide\n",
    "    \n",
    "### Pipeline internals\n",
    "    \n",
    "</div>"
   ]
  },
  {
   "cell_type": "markdown",
   "id": "77177f27",
   "metadata": {
    "deletable": true,
    "editable": true,
    "slideshow": {
     "slide_type": "skip"
    }
   },
   "source": [
    "- We can access individual \"steps\" of a `Pipeline` through the `named_steps` attribute."
   ]
  },
  {
   "cell_type": "code",
   "execution_count": null,
   "id": "bd91008f",
   "metadata": {
    "deletable": true,
    "editable": true,
    "slideshow": {
     "slide_type": "skip"
    }
   },
   "outputs": [],
   "source": [
    "# These names are automatically generated by make_pipeline.\n",
    "# If you use the Pipeline() constructor,\n",
    "# you can choose these names yourself.\n",
    "pl.named_steps"
   ]
  },
  {
   "cell_type": "code",
   "execution_count": null,
   "id": "22916d2c",
   "metadata": {
    "deletable": true,
    "editable": true,
    "scrolled": true,
    "slideshow": {
     "slide_type": "skip"
    }
   },
   "outputs": [],
   "source": [
    "pl.named_steps['onehotencoder'].transform(df[['day', 'month']]).toarray()"
   ]
  },
  {
   "cell_type": "code",
   "execution_count": null,
   "id": "eee28aaf",
   "metadata": {
    "deletable": true,
    "editable": true,
    "slideshow": {
     "slide_type": "skip"
    }
   },
   "outputs": [],
   "source": [
    "pl.named_steps['onehotencoder'].get_feature_names_out()"
   ]
  },
  {
   "cell_type": "code",
   "execution_count": null,
   "id": "9a71520b",
   "metadata": {
    "deletable": true,
    "editable": true,
    "slideshow": {
     "slide_type": "skip"
    }
   },
   "outputs": [],
   "source": [
    "pl.named_steps['linearregression'].coef_"
   ]
  },
  {
   "cell_type": "markdown",
   "id": "a93cad04",
   "metadata": {
    "deletable": true,
    "editable": true,
    "slideshow": {
     "slide_type": "slide"
    }
   },
   "source": [
    "### More sophisticated Pipelines"
   ]
  },
  {
   "cell_type": "markdown",
   "id": "59961e84",
   "metadata": {
    "deletable": true,
    "editable": true,
    "slideshow": {
     "slide_type": "fragment"
    }
   },
   "source": [
    "- In the previous slide, we one hot encoded every input column, and didn't use any columns that were originally numeric, i.e. we didn't use `'departure_hour'`.<br><small>That's not realistic or useful!</small>"
   ]
  },
  {
   "cell_type": "markdown",
   "id": "53970635",
   "metadata": {
    "deletable": true,
    "editable": true,
    "slideshow": {
     "slide_type": "fragment"
    }
   },
   "source": [
    "- What if we want to perform different transformations on different columns, or include some columns without transformation?"
   ]
  },
  {
   "cell_type": "markdown",
   "id": "173db945",
   "metadata": {
    "deletable": true,
    "editable": true,
    "slideshow": {
     "slide_type": "fragment"
    }
   },
   "source": [
    "- Or, what if we want to perform multiple transformations to the same column?"
   ]
  },
  {
   "cell_type": "markdown",
   "id": "b7de6af1",
   "metadata": {
    "deletable": true,
    "editable": true,
    "slideshow": {
     "slide_type": "fragment"
    }
   },
   "source": [
    "- There are a variety of useful functions/classes we can use:\n",
    "\n",
    "| Name | Functionality |\n",
    "| --- | --- |\n",
    "| `ColumnTransformer` | Allows us to transform different columns with different transformations.<br><small>Instantiate a `ColumnTransformer` using a list of tuples, where:<br>• The first element is a \"name\" we choose for the transformer.<br>• The second element is a transformer instance (e.g. `OneHotEncoder()`).<br>• The third element is a **list of relevant column names**.</small> | \n",
    "| `FunctionTransformer` | Allows us to create a custom transformation (similar to using `.apply` on a DataFrame's columns). |\n",
    "| `make_pipeline` | Helper function for creating a `Pipeline` (slightly less verbose).<br>**Note that you can make a pipeline of just transformations,<br> if you want to use multiple transformations on the same column!** |\n",
    "| `make_column_transformer` | Helper function for creating a `ColumnTransformer`. |"
   ]
  },
  {
   "cell_type": "markdown",
   "id": "361873a7",
   "metadata": {
    "deletable": true,
    "editable": true,
    "slideshow": {
     "slide_type": "slide"
    }
   },
   "source": [
    "### The plan"
   ]
  },
  {
   "cell_type": "markdown",
   "id": "a5d27cb7",
   "metadata": {
    "deletable": true,
    "editable": true,
    "slideshow": {
     "slide_type": "fragment"
    }
   },
   "source": [
    "- Before writing any code, let's plan out _how_ we want to transform our data."
   ]
  },
  {
   "cell_type": "code",
   "execution_count": null,
   "id": "d1577b49",
   "metadata": {
    "deletable": true,
    "editable": true
   },
   "outputs": [],
   "source": [
    "df[['departure_hour', 'day', 'month', 'day_of_month']]"
   ]
  },
  {
   "cell_type": "markdown",
   "id": "e7f6fef1",
   "metadata": {
    "deletable": true,
    "editable": true,
    "slideshow": {
     "slide_type": "fragment"
    }
   },
   "source": [
    "- `'departure_hour'`: Create degree 2 and degree 3 **polynomial features**:\n",
    "\n",
    "$$H(\\vec x_i) = ... + w_1 \\cdot \\text{departure hour}_i + w_2 \\cdot \\left(\\text{departure hour}_i\\right)^2 + w_3 \\cdot \\left( \\text{departure hour}_i \\right)^3 + ...$$"
   ]
  },
  {
   "cell_type": "markdown",
   "id": "01ea6782",
   "metadata": {
    "deletable": true,
    "editable": true,
    "slideshow": {
     "slide_type": "fragment"
    }
   },
   "source": [
    "- `'day'`: One hot encode."
   ]
  },
  {
   "cell_type": "markdown",
   "id": "80c6910a",
   "metadata": {
    "deletable": true,
    "editable": true,
    "slideshow": {
     "slide_type": "fragment"
    }
   },
   "source": [
    "- `'month'`: One hot encode."
   ]
  },
  {
   "cell_type": "markdown",
   "id": "2d95fbac",
   "metadata": {
    "deletable": true,
    "editable": true,
    "slideshow": {
     "slide_type": "fragment"
    }
   },
   "source": [
    "- `'day_of_month'`: Separate into five weeks, then one hot encode.<br>\n",
    "<small>Days 1 to 7 are Week 1, Days 8 to 15 are Week 2, and so on.</small>"
   ]
  },
  {
   "cell_type": "markdown",
   "id": "f6872823",
   "metadata": {
    "deletable": true,
    "editable": true,
    "slideshow": {
     "slide_type": "fragment"
    }
   },
   "source": [
    "- After all of these transformations, we'll fit a `LinearRegression` object – i.e., fit a linear model."
   ]
  },
  {
   "cell_type": "markdown",
   "id": "30a9c444",
   "metadata": {
    "deletable": true,
    "editable": true,
    "slideshow": {
     "slide_type": "slide"
    }
   },
   "source": [
    "<center><small>\n",
    "    \n",
    "`'departure_hour'`: Create degree 2 and degree 3 polynomial features.<br>\n",
    "`'day'`: One hot encode.<br>\n",
    "`'month'`: One hot encode.<br>\n",
    "`'day_of_month'`: Separate into five weeks, then one hot encode.<br>\n",
    "    \n",
    "</small></center>"
   ]
  },
  {
   "cell_type": "markdown",
   "id": "95fe5f44",
   "metadata": {
    "deletable": true,
    "editable": true,
    "slideshow": {
     "slide_type": "fragment"
    }
   },
   "source": [
    "- Let's start with `'day_of_month'`, since it seems to involve the most complicated transformations."
   ]
  },
  {
   "cell_type": "markdown",
   "id": "564b139f",
   "metadata": {
    "deletable": true,
    "editable": true,
    "slideshow": {
     "slide_type": "fragment"
    }
   },
   "source": [
    "- First, let's figure out how to extract the week number given the day of the month."
   ]
  },
  {
   "cell_type": "code",
   "execution_count": null,
   "id": "e2cec162",
   "metadata": {
    "deletable": true,
    "editable": true
   },
   "outputs": [],
   "source": [
    "example_vals = df['day_of_month'].tail()\n",
    "example_vals"
   ]
  },
  {
   "cell_type": "code",
   "execution_count": null,
   "id": "15b6f400",
   "metadata": {
    "deletable": true,
    "editable": true
   },
   "outputs": [],
   "source": [
    "# Expression to convert from day of month to Week #.\n",
    "..."
   ]
  },
  {
   "cell_type": "code",
   "execution_count": null,
   "id": "21b9e758",
   "metadata": {
    "deletable": true,
    "editable": true
   },
   "outputs": [],
   "source": [
    "# The function that FunctionTransformer takes in\n",
    "# itself takes in a Series/DataFrame, not a single element!\n",
    "# Here, we're having that function return a new Series/DataFrame,\n",
    "# depending on what's passed in to .tranform (experiment on your own).\n",
    "from sklearn.pipeline import FunctionTransformer\n",
    "week_converter = ..."
   ]
  },
  {
   "cell_type": "code",
   "execution_count": null,
   "id": "cff12dbc",
   "metadata": {
    "deletable": true,
    "editable": true
   },
   "outputs": [],
   "source": [
    "week_converter.transform(df[['day_of_month']])"
   ]
  },
  {
   "cell_type": "markdown",
   "id": "088985bb",
   "metadata": {
    "deletable": true,
    "editable": true,
    "slideshow": {
     "slide_type": "fragment"
    }
   },
   "source": [
    "- We need to apply two consecutive transformations to `'day_of_month'`, which calls for a Pipeline."
   ]
  },
  {
   "cell_type": "code",
   "execution_count": null,
   "id": "309e384a",
   "metadata": {
    "deletable": true,
    "editable": true
   },
   "outputs": [],
   "source": [
    "day_of_month_transformer = ...\n",
    "day_of_month_transformer"
   ]
  },
  {
   "cell_type": "code",
   "execution_count": null,
   "id": "8f50cbb7",
   "metadata": {
    "deletable": true,
    "editable": true
   },
   "outputs": [],
   "source": [
    "day_of_month_transformer.fit_transform(df[['day_of_month']]).toarray()"
   ]
  },
  {
   "cell_type": "markdown",
   "id": "29ca6fa7",
   "metadata": {
    "deletable": true,
    "editable": true,
    "slideshow": {
     "slide_type": "fragment"
    }
   },
   "source": [
    "- So, `day_of_month_transformer` does everything we need to transform `'day_of_month'`."
   ]
  },
  {
   "cell_type": "markdown",
   "id": "31d7848b",
   "metadata": {
    "deletable": true,
    "editable": true,
    "slideshow": {
     "slide_type": "slide"
    }
   },
   "source": [
    "<center><small>\n",
    "    \n",
    "`'departure_hour'`: Create degree 2 and degree 3 polynomial features.<br>\n",
    "`'day'`: One hot encode.<br>\n",
    "`'month'`: One hot encode.<br>\n",
    "`'day_of_month'`: Separate into five weeks, then one hot encode. ✅ **Use `day_of_month_transformer`.**<br>\n",
    "    \n",
    "</small></center>"
   ]
  },
  {
   "cell_type": "markdown",
   "id": "f88e749e",
   "metadata": {
    "deletable": true,
    "editable": true,
    "slideshow": {
     "slide_type": "fragment"
    }
   },
   "source": [
    "- Every other column only needs a single transformation.<br>**To specify which transformations to apply to which columns, create a `ColumnTransformer`**."
   ]
  },
  {
   "cell_type": "code",
   "execution_count": null,
   "id": "b6740b72",
   "metadata": {
    "deletable": true,
    "editable": true
   },
   "outputs": [],
   "source": [
    "from sklearn.compose import ColumnTransformer, make_column_transformer\n",
    "from sklearn.preprocessing import PolynomialFeatures"
   ]
  },
  {
   "cell_type": "code",
   "execution_count": null,
   "id": "9b9f1ccc",
   "metadata": {
    "deletable": true,
    "editable": true
   },
   "outputs": [],
   "source": [
    "preprocessing = make_column_transformer(\n",
    "    (PolynomialFeatures(3, include_bias=False), ['departure_hour']),\n",
    "    (OneHotEncoder(drop='first'), ['day', 'month']),\n",
    "    (day_of_month_transformer, ['day_of_month']),\n",
    "    remainder='drop'\n",
    ")\n",
    "preprocessing"
   ]
  },
  {
   "cell_type": "markdown",
   "id": "f916b218",
   "metadata": {
    "deletable": true,
    "editable": true,
    "slideshow": {
     "slide_type": "fragment"
    }
   },
   "source": [
    "- Now, we're ready for a final Pipeline!"
   ]
  },
  {
   "cell_type": "code",
   "execution_count": null,
   "id": "c87f787a",
   "metadata": {
    "deletable": true,
    "editable": true
   },
   "outputs": [],
   "source": [
    "model = make_pipeline(preprocessing, LinearRegression())\n",
    "model"
   ]
  },
  {
   "cell_type": "code",
   "execution_count": null,
   "id": "fa4cc414",
   "metadata": {
    "deletable": true,
    "editable": true
   },
   "outputs": [],
   "source": [
    "model.fit(X=df[['departure_hour', 'day', 'month', 'day_of_month']], y=df['minutes'])"
   ]
  },
  {
   "cell_type": "markdown",
   "id": "79acf1fb",
   "metadata": {
    "deletable": true,
    "editable": true,
    "slideshow": {
     "slide_type": "slide"
    }
   },
   "source": [
    "### The punchline"
   ]
  },
  {
   "cell_type": "markdown",
   "id": "d88b9347",
   "metadata": {
    "deletable": true,
    "editable": true,
    "slideshow": {
     "slide_type": "fragment"
    }
   },
   "source": [
    "- Now that our Pipeline is fit, we can use it to make predictions using **raw data**!<br><small>What's the predicted commute time if I leave at 8:30AM on a Wednesday in March, which happens to be the 19th of the month?</small>"
   ]
  },
  {
   "cell_type": "code",
   "execution_count": null,
   "id": "e307dd5e",
   "metadata": {
    "deletable": true,
    "editable": true
   },
   "outputs": [],
   "source": [
    "..."
   ]
  },
  {
   "cell_type": "markdown",
   "id": "bf7912f4",
   "metadata": {
    "deletable": true,
    "editable": true,
    "slideshow": {
     "slide_type": "fragment"
    }
   },
   "source": [
    "- Note that when calling `model.predict`, I didn't need to think about one hot encoding, or polynomial features, or any other aspects of the feature engineering process."
   ]
  },
  {
   "cell_type": "markdown",
   "id": "46dbec48",
   "metadata": {
    "deletable": true,
    "editable": true,
    "slideshow": {
     "slide_type": "slide"
    }
   },
   "source": [
    "<div class=\"alert alert-success\">\n",
    "<h3>Activity</h3>\n",
    "    \n",
    "How many columns does the final design matrix that `model` creates have? If you write code to determine the answer, make sure you can walk through the steps over the past few slides to figure out **why** the answer is what it is."
   ]
  },
  {
   "cell_type": "code",
   "execution_count": null,
   "id": "88910ece",
   "metadata": {
    "deletable": true,
    "editable": true
   },
   "outputs": [],
   "source": [
    "model"
   ]
  },
  {
   "cell_type": "markdown",
   "id": "b7586d6b",
   "metadata": {
    "deletable": true,
    "editable": true,
    "slideshow": {
     "slide_type": "slide"
    }
   },
   "source": [
    "<div class=\"alert alert-warning\">\n",
    "    <h3>Question 🤔 (Answer at <a style=\"text-decoration: none; color: #0066cc\" href=\"https://docs.google.com/forms/d/e/1FAIpQLSd4oliiZYeNh76jWy-arfEtoAkCrVSsobZxPwxifWggo3EO0Q/viewform\">practicaldsc.org/q</a>)</h3>\n",
    "    \n",
    "What questions do you have?"
   ]
  },
  {
   "cell_type": "markdown",
   "id": "7e2d3129",
   "metadata": {
    "deletable": true,
    "editable": true,
    "slideshow": {
     "slide_type": "slide"
    }
   },
   "source": [
    "## Generalization 🔭\n",
    "\n",
    "---"
   ]
  },
  {
   "cell_type": "markdown",
   "id": "a8cbad78",
   "metadata": {
    "deletable": true,
    "editable": true,
    "slideshow": {
     "slide_type": "slide"
    }
   },
   "source": [
    "### Motivation"
   ]
  },
  {
   "cell_type": "markdown",
   "id": "7f42c011",
   "metadata": {
    "deletable": true,
    "editable": true,
    "slideshow": {
     "slide_type": "fragment"
    }
   },
   "source": [
    "- You and Billy are studying for an upcoming exam. You both decide to test your understanding by taking a **practice exam**.<br><small>Your logic: If you do well on the practice exam, you should do well on the real exam.</small>"
   ]
  },
  {
   "cell_type": "markdown",
   "id": "106fae25",
   "metadata": {
    "deletable": true,
    "editable": true,
    "slideshow": {
     "slide_type": "fragment"
    }
   },
   "source": [
    "- You each take the practice exam once and look at the solutions afterwards."
   ]
  },
  {
   "cell_type": "markdown",
   "id": "66d97469",
   "metadata": {
    "deletable": true,
    "editable": true,
    "slideshow": {
     "slide_type": "fragment"
    }
   },
   "source": [
    "- **Your strategy**: Memorize the answers to all practice exam questions, e.g. \"Question 1: A; Question 2: C; Question 3: A.\""
   ]
  },
  {
   "cell_type": "markdown",
   "id": "d02515d2",
   "metadata": {
    "deletable": true,
    "editable": true,
    "slideshow": {
     "slide_type": "fragment"
    }
   },
   "source": [
    "- **Billy's strategy**: Learn high-level concepts from the solutions, e.g. \"the TF-IDF of term $t$ in document $d$ is large when $t$ occurs often in $d$ but rarely overall.\""
   ]
  },
  {
   "cell_type": "markdown",
   "id": "e5a00c37",
   "metadata": {
    "deletable": true,
    "editable": true,
    "slideshow": {
     "slide_type": "fragment"
    }
   },
   "source": [
    "- Who will do better on the **practice exam**? Who will probably do better on the **real exam**? 🧐"
   ]
  },
  {
   "cell_type": "markdown",
   "id": "25e3e2fc",
   "metadata": {
    "deletable": true,
    "editable": true,
    "slideshow": {
     "slide_type": "slide"
    }
   },
   "source": [
    "### Evaluating the quality of a model"
   ]
  },
  {
   "cell_type": "markdown",
   "id": "314d224b",
   "metadata": {
    "deletable": true,
    "editable": true,
    "slideshow": {
     "slide_type": "fragment"
    }
   },
   "source": [
    "- So far, we've computed the MSE of our fit regression models on the **data that we used to fit them**, i.e. the **training data**.<br><small>This mean squared error is called the **training MSE**, or **training error**.</small>"
   ]
  },
  {
   "cell_type": "markdown",
   "id": "47b3553a",
   "metadata": {
    "deletable": true,
    "editable": true,
    "slideshow": {
     "slide_type": "fragment"
    }
   },
   "source": [
    "- We've said that Model A is **better** than Model B if Model A's MSE is **lower** than Model B's MSE.\n",
    "    - Remember, our **training data** is a sample from some population.\n",
    "    - Just because a model fits the training data well doesn't mean it will **generalize** and work well on **similar, unseen samples** from the same population!"
   ]
  },
  {
   "cell_type": "markdown",
   "id": "6374d55e",
   "metadata": {
    "deletable": true,
    "editable": true,
    "slideshow": {
     "slide_type": "slide"
    }
   },
   "source": [
    "### Overfitting and underfitting"
   ]
  },
  {
   "cell_type": "markdown",
   "id": "298ca624",
   "metadata": {
    "deletable": true,
    "editable": true,
    "slideshow": {
     "slide_type": "fragment"
    }
   },
   "source": [
    "- Let's collect two samples $\\{(x_i, y_i)\\}$ from the same population."
   ]
  },
  {
   "cell_type": "code",
   "execution_count": null,
   "id": "a26eb071",
   "metadata": {
    "deletable": true,
    "editable": true
   },
   "outputs": [],
   "source": [
    "np.random.seed(23) # For reproducibility.\n",
    "def sample_from_pop(n=100):\n",
    "    x = np.linspace(-2, 3, n)\n",
    "    y = x ** 3 + (np.random.normal(0, 3, size=n))\n",
    "    return pd.DataFrame({'x': x, 'y': y})\n",
    "sample_1 = sample_from_pop()\n",
    "sample_2 = sample_from_pop()"
   ]
  },
  {
   "cell_type": "markdown",
   "id": "1496731f",
   "metadata": {
    "deletable": true,
    "editable": true,
    "slideshow": {
     "slide_type": "fragment"
    }
   },
   "source": [
    "- For now, let's just look at Sample 1. The relationship between $x$ and $y$ is roughly **cubic**; that is, $y \\approx x^3$.<br><small>Remember, in reality, you won't get to see the population distribution. If you could, there'd be no need to build a model!</small>"
   ]
  },
  {
   "cell_type": "code",
   "execution_count": null,
   "id": "9b3e6527",
   "metadata": {
    "deletable": true,
    "editable": true,
    "scrolled": false
   },
   "outputs": [],
   "source": [
    "px.scatter(sample_1, x='x', y='y', title='Sample 1')"
   ]
  },
  {
   "cell_type": "markdown",
   "id": "6883ee2d",
   "metadata": {
    "deletable": true,
    "editable": true,
    "slideshow": {
     "slide_type": "slide"
    }
   },
   "source": [
    "### Polynomial regression"
   ]
  },
  {
   "cell_type": "markdown",
   "id": "603908dd",
   "metadata": {
    "deletable": true,
    "editable": true,
    "slideshow": {
     "slide_type": "fragment"
    }
   },
   "source": [
    "- Let's fit three **polynomial** models on Sample 1: degree 1, degree 3, and degree 25.<br><small>Again, we'll use the `PolynomialFeatures` transformer.</small>"
   ]
  },
  {
   "cell_type": "code",
   "execution_count": null,
   "id": "6f661799",
   "metadata": {
    "deletable": true,
    "editable": true
   },
   "outputs": [],
   "source": [
    "# fit_transform fits and transforms the same input.\n",
    "# We tell it not to add a column of 1s, because\n",
    "# LinearRegression() does this automatically later on.\n",
    "d2 = PolynomialFeatures(3, include_bias=False)\n",
    "d2.fit_transform(np.array([1, 2, 3, 4, -2]).reshape(-1, 1))"
   ]
  },
  {
   "cell_type": "markdown",
   "id": "8c35c69a",
   "metadata": {
    "deletable": true,
    "editable": true,
    "slideshow": {
     "slide_type": "fragment"
    }
   },
   "source": [
    "- Below, we look at our three models' predictions on Sample 1, which they were **trained** on."
   ]
  },
  {
   "cell_type": "code",
   "execution_count": null,
   "id": "fa880442",
   "metadata": {
    "deletable": true,
    "editable": true
   },
   "outputs": [],
   "source": [
    "# Look at the definition of train_and_plot in lec17_util.py if you're curious as to how the plotting works.\n",
    "fig = util.train_and_plot(train_sample=sample_1, test_sample=sample_1, degs=[1, 3, 25], data_name='Sample 1')\n",
    "fig.update_layout(title='Trained on Sample 1, Performance on Sample 1')"
   ]
  },
  {
   "cell_type": "markdown",
   "id": "8689a100",
   "metadata": {
    "deletable": true,
    "editable": true,
    "slideshow": {
     "slide_type": "fragment"
    }
   },
   "source": [
    "- The degree 25 polynomial has the lowest MSE on Sample 1."
   ]
  },
  {
   "cell_type": "markdown",
   "id": "369a150d",
   "metadata": {
    "deletable": true,
    "editable": true,
    "slideshow": {
     "slide_type": "slide"
    }
   },
   "source": [
    "- How do the same fit polynomials look on Sample 2?"
   ]
  },
  {
   "cell_type": "code",
   "execution_count": null,
   "id": "f3e57ad6",
   "metadata": {
    "deletable": true,
    "editable": true
   },
   "outputs": [],
   "source": [
    "fig = util.train_and_plot(train_sample=sample_1, test_sample=sample_2, degs=[1, 3, 25], data_name='Sample 2')\n",
    "fig.update_layout(title='Trained on Sample 1, Performance on Sample 2')"
   ]
  },
  {
   "cell_type": "markdown",
   "id": "1338ad8e",
   "metadata": {
    "deletable": true,
    "editable": true,
    "slideshow": {
     "slide_type": "fragment"
    }
   },
   "source": [
    "- The degree 3 polynomial has the lowest MSE on Sample 2. "
   ]
  },
  {
   "cell_type": "markdown",
   "id": "a97d3d3c",
   "metadata": {
    "deletable": true,
    "editable": true,
    "slideshow": {
     "slide_type": "fragment"
    }
   },
   "source": [
    "- Note that **we didn't get to see Sample 2 when fitting our models**! "
   ]
  },
  {
   "cell_type": "markdown",
   "id": "50e026da",
   "metadata": {
    "deletable": true,
    "editable": true,
    "slideshow": {
     "slide_type": "fragment"
    }
   },
   "source": [
    "- As such, it seems that the degree 3 polynomial **generalizes better** to unseen data than the degree 25 polynomial does."
   ]
  },
  {
   "cell_type": "markdown",
   "id": "09d29d3d",
   "metadata": {
    "deletable": true,
    "editable": true,
    "slideshow": {
     "slide_type": "slide"
    }
   },
   "source": [
    "- What if we fit a degree 1, degree 3, and degree 25 polynomial **on Sample 2** as well?"
   ]
  },
  {
   "cell_type": "code",
   "execution_count": null,
   "id": "73e47327",
   "metadata": {
    "deletable": true,
    "editable": true,
    "scrolled": true
   },
   "outputs": [],
   "source": [
    "util.plot_multiple_models(sample_1, sample_2, degs=[1, 3, 25])"
   ]
  },
  {
   "cell_type": "markdown",
   "id": "72344742",
   "metadata": {
    "deletable": true,
    "editable": true,
    "slideshow": {
     "slide_type": "fragment"
    }
   },
   "source": [
    "- **Key idea**: Degree 25 polynomials seem to **vary more when trained on different samples** than degree 3 and 1 polynomials do."
   ]
  },
  {
   "cell_type": "markdown",
   "id": "f4a4d9bb",
   "metadata": {
    "deletable": true,
    "editable": true,
    "slideshow": {
     "slide_type": "fragment"
    }
   },
   "source": [
    "- More on this next class!"
   ]
  }
 ],
 "metadata": {
  "celltoolbar": "None",
  "kernelspec": {
   "display_name": "Python 3 (ipykernel)",
   "language": "python",
   "name": "python3"
  },
  "language_info": {
   "codemirror_mode": {
    "name": "ipython",
    "version": 3
   },
   "file_extension": ".py",
   "mimetype": "text/x-python",
   "name": "python",
   "nbconvert_exporter": "python",
   "pygments_lexer": "ipython3",
   "version": "3.10.16"
  },
  "livereveal": {
   "scroll": true
  },
  "rise": {
   "transition": "none"
  }
 },
 "nbformat": 4,
 "nbformat_minor": 5
}
