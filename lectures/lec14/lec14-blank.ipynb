{
 "cells": [
  {
   "cell_type": "code",
   "execution_count": null,
   "id": "32196aa8",
   "metadata": {
    "deletable": true,
    "editable": true
   },
   "outputs": [],
   "source": [
    "from lec_utils import *"
   ]
  },
  {
   "cell_type": "markdown",
   "id": "38984a8d",
   "metadata": {
    "deletable": true,
    "editable": true
   },
   "source": [
    "\n",
    "<div class=\"alert alert-info\" markdown=\"1\">\n",
    "\n",
    "#### Lecture 14\n",
    "\n",
    "# Supplemental Notebook: Regression using Linear Algebra\n",
    "\n",
    "### EECS 398: Practical Data Science, Spring 2025\n",
    "\n",
    "<small><a style=\"text-decoration: none\" href=\"https://practicaldsc.org\">practicaldsc.org</a> • <a style=\"text-decoration: none\" href=\"https://github.com/practicaldsc/sp25\">github.com/practicaldsc/sp25</a> • 📣 See latest announcements [**here on Ed**](https://edstem.org/us/courses/78535/discussion/6647877) </small>\n",
    "    \n",
    "</div>\n",
    "\n",
    "\n",
    "<div class=\"alert alert-warning\" markdown=\"1\">\n",
    "\n",
    "**Note**: Most of Lecture 14 can be found in the PDF slides posted on the course website. This is a supplementary notebook with a few code demos.\n",
    "\n",
    "</div>"
   ]
  },
  {
   "cell_type": "markdown",
   "id": "81efc92d",
   "metadata": {
    "deletable": true,
    "editable": true
   },
   "source": [
    "## Understanding the Data\n",
    "\n",
    "---"
   ]
  },
  {
   "cell_type": "markdown",
   "id": "65ee71eb",
   "metadata": {
    "deletable": true,
    "editable": true
   },
   "source": [
    "Let's load in the commute times dataset as a DataFrame."
   ]
  },
  {
   "cell_type": "code",
   "execution_count": null,
   "id": "03469015",
   "metadata": {
    "deletable": true,
    "editable": true
   },
   "outputs": [],
   "source": [
    "df = pd.read_csv('data/commute-times.csv')\n",
    "df.head()"
   ]
  },
  {
   "cell_type": "markdown",
   "id": "e601d2f6",
   "metadata": {
    "deletable": true,
    "editable": true
   },
   "source": [
    "There are many columns in here, but the only ones we're interested in for now are `'departure_hour'` and `'minutes'`."
   ]
  },
  {
   "cell_type": "code",
   "execution_count": null,
   "id": "8d6f1f43",
   "metadata": {
    "deletable": true,
    "editable": true
   },
   "outputs": [],
   "source": [
    "df[['departure_hour', 'minutes']]"
   ]
  },
  {
   "cell_type": "code",
   "execution_count": null,
   "id": "56241587",
   "metadata": {
    "deletable": true,
    "editable": true
   },
   "outputs": [],
   "source": [
    "fig = px.scatter(df,\n",
    "           x='departure_hour',\n",
    "           y='minutes',\n",
    "           size=np.ones(len(df)) * 50,\n",
    "           size_max=8)\n",
    "fig.update_xaxes(title='Home Departure Time (AM)')\n",
    "fig.update_yaxes(title='Minutes')\n",
    "fig.update_layout(title='Commuting Time vs. Home Departure Time')\n",
    "fig.update_layout(width=700)"
   ]
  },
  {
   "cell_type": "markdown",
   "id": "39958469",
   "metadata": {
    "deletable": true,
    "editable": true
   },
   "source": [
    "## Implementing $w_0^*$ and $w_1^*$\n",
    "\n",
    "---"
   ]
  },
  {
   "cell_type": "markdown",
   "id": "57e57425",
   "metadata": {
    "deletable": true,
    "editable": true
   },
   "source": [
    "Let's implement the formulas for the best slope, $w_1^*$, and intercept, $w_0^*$, we found in the lecture slides:\n",
    "\n",
    "\\begin{align*}\n",
    "w_1^* &=\n",
    "    \\frac{\n",
    "        \\displaystyle\n",
    "        \\sum_{i=1}^n (x_i - \\bar x)(y_i - \\bar y)\n",
    "    }{\n",
    "        \\displaystyle\n",
    "        \\sum_{i=1}^n (x_i - \\bar x)^2\n",
    "    }\n",
    "    \\qquad\n",
    "    \\qquad\n",
    "w_0^* =\n",
    "    \\bar y - w_1^* \\bar x\n",
    "\\end{align*}"
   ]
  },
  {
   "cell_type": "code",
   "execution_count": null,
   "id": "9878a1d5",
   "metadata": {
    "deletable": true,
    "editable": true
   },
   "outputs": [],
   "source": [
    "def slope(x, y):\n",
    "    # Assume x and y are two Series.\n",
    "    numerator = ((x - np.mean(x)) * (y - np.mean(y))).sum()\n",
    "    denominator = ((x - np.mean(x)) ** 2).sum()\n",
    "    return numerator / denominator\n",
    "def intercept(x, y):\n",
    "    return y.mean() - slope(x, y) * x.mean()"
   ]
  },
  {
   "cell_type": "code",
   "execution_count": null,
   "id": "cfe666f9",
   "metadata": {
    "deletable": true,
    "editable": true
   },
   "outputs": [],
   "source": [
    "w1_star = slope(df['departure_hour'], df['minutes'])\n",
    "w1_star"
   ]
  },
  {
   "cell_type": "code",
   "execution_count": null,
   "id": "399381c6",
   "metadata": {
    "deletable": true,
    "editable": true
   },
   "outputs": [],
   "source": [
    "w0_star = intercept(df['departure_hour'], df['minutes'])\n",
    "w0_star"
   ]
  },
  {
   "cell_type": "markdown",
   "id": "e762cabe",
   "metadata": {
    "deletable": true,
    "editable": true
   },
   "source": [
    "The results above tell us that the linear hypothesis function with the lowest mean squared error on our dataset is:\n",
    "\n",
    "$$\\text{predicted commute time (minutes)} = 142.45 - 8.19 \\cdot \\text{departure hour}$$"
   ]
  },
  {
   "cell_type": "markdown",
   "id": "4075b8ce",
   "metadata": {
    "deletable": true,
    "editable": true
   },
   "source": [
    "We can use it to make predictions:"
   ]
  },
  {
   "cell_type": "code",
   "execution_count": null,
   "id": "0d3a37f1",
   "metadata": {
    "deletable": true,
    "editable": true
   },
   "outputs": [],
   "source": [
    "def predict_commute(x_new):\n",
    "    return w0_star + w1_star * x_new"
   ]
  },
  {
   "cell_type": "markdown",
   "id": "bd8314c4",
   "metadata": {
    "deletable": true,
    "editable": true
   },
   "source": [
    "What if I leave at 8AM? 10:45AM?"
   ]
  },
  {
   "cell_type": "code",
   "execution_count": null,
   "id": "055b142d",
   "metadata": {
    "deletable": true,
    "editable": true
   },
   "outputs": [],
   "source": [
    "predict_commute(8)"
   ]
  },
  {
   "cell_type": "code",
   "execution_count": null,
   "id": "121cb153",
   "metadata": {
    "deletable": true,
    "editable": true
   },
   "outputs": [],
   "source": [
    "predict_commute(10 + 45 / 60)"
   ]
  },
  {
   "cell_type": "markdown",
   "id": "2af2edd3",
   "metadata": {
    "deletable": true,
    "editable": true
   },
   "source": [
    "What do all of our predictions look like?"
   ]
  },
  {
   "cell_type": "code",
   "execution_count": null,
   "id": "842041ff",
   "metadata": {
    "deletable": true,
    "editable": true
   },
   "outputs": [],
   "source": [
    "hline = px.line(x=[5.5, 11.5], y=[predict_commute(5.5), predict_commute(11.5)]).update_traces(line={'color': 'red', 'width': 4})\n",
    "fline1 = go.Figure(fig.data + hline.data)\n",
    "fline1.update_xaxes(title='Home Departure Time (AM)')\n",
    "fline1.update_yaxes(title='Minutes')\n",
    "fline1.update_layout(title='<span style=\"color:red\">Predicted Commute Time</span> = 142.25 - 8.19 * Departure Hour')\n",
    "fline1.update_layout(width=700, margin={'t': 60})"
   ]
  },
  {
   "cell_type": "markdown",
   "id": "eeecb50f",
   "metadata": {
    "deletable": true,
    "editable": true
   },
   "source": [
    "### Aside: What does $R_{\\text{sq}}(w_0, w_1)$ look like?\n",
    "\n",
    "Let's draw a plot of $R_{\\text{sq}}(w_0, w_1)$, the empirical risk that we're trying to minimize.\n",
    "- When we only had a single parameter, $h$, $R(h)$ was in 2D.\n",
    "    - One axis for $h$, one axis for $R(h)$.\n",
    "- Now that we have two parameters, $w_0$ and $w_1$, $R(w_0, w_1)$ will be in 3D!\n",
    "    - One axis for $w_0$, one axis for $w_1$, one axis for $R(w_0, w_1)$.\n",
    "    - The bottom plane consists of all possible combinations of slope and intercept.\n",
    "    - The height of the function above any pair of points on the bottom plane represents the MSE for that combination of slope and intercept."
   ]
  },
  {
   "cell_type": "code",
   "execution_count": null,
   "id": "a71a2466",
   "metadata": {
    "deletable": true,
    "editable": true
   },
   "outputs": [],
   "source": [
    "def mse(y_actual, y_pred):\n",
    "    return np.mean((y_actual - y_pred)**2)\n",
    "def mse_for_departure_model(w):\n",
    "    w0, w1 = w\n",
    "    return mse(df['minutes'], w0 + w1 * df['departure_hour'])\n",
    "num_points = 50 # increase for better resolution, but it will run more slowly. \n",
    "# if (num_points <= 100):\n",
    "uvalues = np.linspace(90, 190, num_points)\n",
    "vvalues = np.linspace(-13, -3, num_points)\n",
    "(u,v) = np.meshgrid(uvalues, vvalues)\n",
    "thetas = np.vstack((u.flatten(),v.flatten()))\n",
    "MSE = np.array([mse_for_departure_model(t) for t in thetas.T])\n",
    "loss_surface = go.Surface(x=u, y=v, z=np.reshape(MSE, u.shape))\n",
    "minimizer = go.Scatter3d(x=[w0_star], y=[w1_star], z=[mse_for_departure_model([w0_star, w1_star])], \n",
    "                         mode='markers', name='optimal parameters',\n",
    "                         marker=dict(size=10, color='gold'))\n",
    "fig = go.Figure(data=[loss_surface, minimizer])\n",
    "# fig.add_trace(opt_point)\n",
    "fig.update_layout(title='Loss Surface', scene = dict(\n",
    "    xaxis_title = \"w0\",\n",
    "    yaxis_title = \"w1\",\n",
    "    zaxis_title = r\"R(w0, w1)\"))\n",
    "fig.show()\n",
    "# else:\n",
    "#     print(\"Picking num points > 100 can be really slow. If you really want to try, edit the code above so that this if statement doesn't trigger.\")"
   ]
  },
  {
   "cell_type": "markdown",
   "id": "e1eef278",
   "metadata": {
    "deletable": true,
    "editable": true
   },
   "source": [
    "In Lecture 12, we used partial derivatives to minimize the graph above!"
   ]
  },
  {
   "cell_type": "markdown",
   "id": "34b1b61f",
   "metadata": {
    "deletable": true,
    "editable": true
   },
   "source": [
    "## Correlation\n",
    "\n",
    "---\n",
    "\n",
    "$$\\begin{align*} r &= \\text{the average of the product of $x$ and $y$, when both are standardized} \\\\ &= \\frac{1}{n} \\sum_{i = 1}^n \\left( \\frac{x_i - \\bar{x}}{\\sigma_x} \\right) \\left( \\frac{y_i - \\bar{y}}{\\sigma_y} \\right)  \\end{align*}$$"
   ]
  },
  {
   "cell_type": "code",
   "execution_count": null,
   "id": "5dbcba9b",
   "metadata": {
    "deletable": true,
    "editable": true
   },
   "outputs": [],
   "source": [
    "def correlation(x, y): \n",
    "    ..."
   ]
  },
  {
   "cell_type": "code",
   "execution_count": null,
   "id": "6b78343f",
   "metadata": {
    "deletable": true,
    "editable": true
   },
   "outputs": [],
   "source": [
    "correlation(df['departure_hour'], df['minutes'])"
   ]
  },
  {
   "cell_type": "code",
   "execution_count": null,
   "id": "e6815960",
   "metadata": {
    "deletable": true,
    "editable": true
   },
   "outputs": [],
   "source": [
    "# Symmetric!\n",
    "correlation(df['minutes'], df['departure_hour'])"
   ]
  },
  {
   "cell_type": "code",
   "execution_count": null,
   "id": "2dc03237",
   "metadata": {
    "deletable": true,
    "editable": true
   },
   "outputs": [],
   "source": [
    "# Doesn't change if we multiply x or y by constants!\n",
    "correlation(df['departure_hour'] * 1000, df['minutes'] * 545)"
   ]
  },
  {
   "cell_type": "code",
   "execution_count": null,
   "id": "75064a9f",
   "metadata": {
    "deletable": true,
    "editable": true
   },
   "outputs": [],
   "source": [
    "# DataFrames have a built-in correlation method.\n",
    "df[['departure_hour', 'minutes']].corr()"
   ]
  },
  {
   "cell_type": "code",
   "execution_count": null,
   "id": "8c964dbb",
   "metadata": {
    "deletable": true,
    "editable": true
   },
   "outputs": [],
   "source": [
    "# numpy has a built-in corrcoef method.\n",
    "np.corrcoef(df['departure_hour'], df['minutes'])"
   ]
  },
  {
   "cell_type": "markdown",
   "id": "3c6d31b4",
   "metadata": {
    "deletable": true,
    "editable": true
   },
   "source": [
    "## Implementing $w_0^*$ and $w_1^*$, Again\n",
    "\n",
    "---\n",
    "\n",
    "Recall, the formulas for the optimal intercept and slope are:\n",
    "\n",
    "$$w_1^* = r \\frac{\\sigma_y}{\\sigma_x}$$\n",
    "\n",
    "$$w_0^* = \\bar{y} - w_1^* \\bar{x}$$\n",
    "\n",
    "Let's define two new functions, `slope_again` and `intercept_again`, which use these slightly updated formulas. (Really, only the formula for $w_1^*$ has changed.)"
   ]
  },
  {
   "cell_type": "code",
   "execution_count": null,
   "id": "5eedf5f1",
   "metadata": {
    "deletable": true,
    "editable": true
   },
   "outputs": [],
   "source": [
    "def slope_again(x, y):\n",
    "    return correlation(x, y) * np.std(y) / np.std(x)"
   ]
  },
  {
   "cell_type": "code",
   "execution_count": null,
   "id": "c915a7dd",
   "metadata": {
    "deletable": true,
    "editable": true
   },
   "outputs": [],
   "source": [
    "def intercept_again(x, y):\n",
    "    return y.mean() - slope_again(x, y) * x.mean()"
   ]
  },
  {
   "cell_type": "code",
   "execution_count": null,
   "id": "d38297e1",
   "metadata": {
    "deletable": true,
    "editable": true
   },
   "outputs": [],
   "source": [
    "w1_star_again = slope_again(df['departure_hour'], df['minutes'])\n",
    "w1_star_again"
   ]
  },
  {
   "cell_type": "code",
   "execution_count": null,
   "id": "e0fd74d2",
   "metadata": {
    "deletable": true,
    "editable": true
   },
   "outputs": [],
   "source": [
    "w0_star_again = intercept_again(df['departure_hour'], df['minutes'])\n",
    "w0_star_again"
   ]
  },
  {
   "cell_type": "markdown",
   "id": "7d0b98bf",
   "metadata": {
    "deletable": true,
    "editable": true
   },
   "source": [
    "We get the same optimal intercept and slope as before!"
   ]
  },
  {
   "cell_type": "code",
   "execution_count": null,
   "id": "e3e2d43e",
   "metadata": {
    "deletable": true,
    "editable": true
   },
   "outputs": [],
   "source": [
    "# From before:\n",
    "(w1_star, w0_star)"
   ]
  },
  {
   "cell_type": "code",
   "execution_count": null,
   "id": "e91ae3b9",
   "metadata": {
    "deletable": true,
    "editable": true
   },
   "outputs": [],
   "source": [
    "# Now:\n",
    "(w1_star_again, w0_star_again)"
   ]
  },
  {
   "cell_type": "markdown",
   "id": "1ba84927",
   "metadata": {
    "deletable": true,
    "editable": true
   },
   "source": [
    "## Implementing $w_0^*$ and $w_1^*$ using `sklearn`\n",
    "\n",
    "---\n",
    "\n",
    "In practice, you wouldn't manually implement formulas for $w_0^*$ and $w_1^*$. Instead, you'd use a pre-built implementation.\n",
    "\n",
    "The Python package we'll use for machine learning is `sklearn`. We'll start seeing it more starting next lecture."
   ]
  },
  {
   "cell_type": "code",
   "execution_count": null,
   "id": "9ccc7348",
   "metadata": {
    "deletable": true,
    "editable": true
   },
   "outputs": [],
   "source": [
    "from sklearn.linear_model import LinearRegression"
   ]
  },
  {
   "cell_type": "markdown",
   "id": "26ad8bfb",
   "metadata": {
    "deletable": true,
    "editable": true
   },
   "source": [
    "To build a linear regression model that we can use for prediction, we first need to instantiate a `LinearRegression` object."
   ]
  },
  {
   "cell_type": "code",
   "execution_count": null,
   "id": "0111a3b7",
   "metadata": {
    "deletable": true,
    "editable": true
   },
   "outputs": [],
   "source": [
    "model = LinearRegression()"
   ]
  },
  {
   "cell_type": "markdown",
   "id": "b942f26e",
   "metadata": {
    "deletable": true,
    "editable": true
   },
   "source": [
    "Then, we need to `fit` the model by telling it what our $x$'s and $y$'s are."
   ]
  },
  {
   "cell_type": "code",
   "execution_count": null,
   "id": "c84b25ec",
   "metadata": {
    "deletable": true,
    "editable": true
   },
   "outputs": [],
   "source": [
    "model.fit(X=df[['departure_hour']], y=df['minutes'])"
   ]
  },
  {
   "cell_type": "markdown",
   "id": "2ca3d7aa",
   "metadata": {
    "deletable": true,
    "editable": true
   },
   "source": [
    "Once the model is fit, we can look at its `intercept_` and `coef_` attributes to see $w_0^*$ and $w_1^*$, respectively."
   ]
  },
  {
   "cell_type": "code",
   "execution_count": null,
   "id": "3ed5f663",
   "metadata": {
    "deletable": true,
    "editable": true
   },
   "outputs": [],
   "source": [
    "model.intercept_"
   ]
  },
  {
   "cell_type": "code",
   "execution_count": null,
   "id": "7d84673c",
   "metadata": {
    "deletable": true,
    "editable": true
   },
   "outputs": [],
   "source": [
    "model.coef_"
   ]
  },
  {
   "cell_type": "markdown",
   "id": "ee4797fe",
   "metadata": {
    "deletable": true,
    "editable": true
   },
   "source": [
    "These are **exactly the same** as we found with our manual calculations! This means that `sklearn` is doing the same three step modeling process that we outlined in lecture.\n",
    "\n",
    "Now that `model` is fit, we can use it for making predictions:"
   ]
  },
  {
   "cell_type": "code",
   "execution_count": null,
   "id": "e6005bea",
   "metadata": {
    "deletable": true,
    "editable": true
   },
   "outputs": [],
   "source": [
    "model.predict([[8]])"
   ]
  },
  {
   "cell_type": "code",
   "execution_count": null,
   "id": "b11f9cb5",
   "metadata": {
    "deletable": true,
    "editable": true
   },
   "outputs": [],
   "source": [
    "# Using our hand-build predict_commute function from earlier in the lecture:\n",
    "predict_commute(8)"
   ]
  },
  {
   "cell_type": "markdown",
   "id": "f079dbda",
   "metadata": {
    "deletable": true,
    "editable": true
   },
   "source": [
    "## Finding the Regression Line, Using the Normal Equations\n",
    "\n",
    "---\n",
    "\n",
    "Using our linear algebraic formulation, the optimal intercept and slope are given by the vector $\\vec{w}^*$, where:\n",
    "\n",
    "$$\\vec{w}^* = ({X^TX})^{-1} X^T\\vec{y}$$\n",
    "\n",
    "Here:\n",
    "- $X$ is a $n \\times 2$ matrix, called the **design matrix**, defined as:\n",
    "\n",
    "$${ X} = \\begin{bmatrix} { 1} & { x_1} \\\\ { 1} & { x_2} \\\\ \\vdots & \\vdots \\\\ { 1} & { x_n} \\end{bmatrix}$$\n",
    "\n",
    "- $\\vec{y}$ is a $n$-dimensional vector, called the **observation vector**, defined as:\n",
    "\n",
    "$$\\vec{y} = \\begin{bmatrix} y_1 \\\\ y_2 \\\\ \\vdots \\\\ y_n \\end{bmatrix}$$\n",
    "\n",
    "Let's construct $X$ and $y$ in code.\n",
    "\n",
    "First, the design matrix."
   ]
  },
  {
   "cell_type": "code",
   "execution_count": null,
   "id": "1f00df65",
   "metadata": {
    "deletable": true,
    "editable": true
   },
   "outputs": [],
   "source": [
    "# Create a new DataFrame by taking the 'departure_hour' column from df.\n",
    "X = df[['departure_hour']].copy()\n",
    "X"
   ]
  },
  {
   "cell_type": "code",
   "execution_count": null,
   "id": "80ba840b",
   "metadata": {
    "deletable": true,
    "editable": true
   },
   "outputs": [],
   "source": [
    "# Add a column of all 1s to X.\n",
    "X['1'] = 1\n",
    "X"
   ]
  },
  {
   "cell_type": "code",
   "execution_count": null,
   "id": "cb31667d",
   "metadata": {
    "deletable": true,
    "editable": true
   },
   "outputs": [],
   "source": [
    "# Change the order of the columns and convert to an array.\n",
    "X = X[['1', 'departure_hour']].to_numpy()\n",
    "X"
   ]
  },
  {
   "cell_type": "markdown",
   "id": "eacc048d",
   "metadata": {
    "deletable": true,
    "editable": true
   },
   "source": [
    "$\\vec{y}$ is already created for us: it's just the `'minutes'` column in `df`."
   ]
  },
  {
   "cell_type": "code",
   "execution_count": null,
   "id": "e71b26fc",
   "metadata": {
    "deletable": true,
    "editable": true
   },
   "outputs": [],
   "source": [
    "y = df['minutes'].to_numpy()\n",
    "y"
   ]
  },
  {
   "cell_type": "markdown",
   "id": "a98a9b5f",
   "metadata": {
    "deletable": true,
    "editable": true
   },
   "source": [
    "Now, let's implement:\n",
    "\n",
    "$$\\vec{w}^* = ({X^TX})^{-1} X^T\\vec{y}$$"
   ]
  },
  {
   "cell_type": "code",
   "execution_count": null,
   "id": "2d986b52",
   "metadata": {
    "deletable": true,
    "editable": true
   },
   "outputs": [],
   "source": [
    "# The @ symbol performs matrix multiplication!\n",
    "w_star_linalg = ...\n",
    "w_star_linalg"
   ]
  },
  {
   "cell_type": "markdown",
   "id": "b185a872",
   "metadata": {
    "deletable": true,
    "editable": true
   },
   "source": [
    "These numbers look familiar!"
   ]
  },
  {
   "cell_type": "code",
   "execution_count": null,
   "id": "0d608f7e",
   "metadata": {
    "deletable": true,
    "editable": true
   },
   "outputs": [],
   "source": [
    "# Old formulas.\n",
    "w0_star, w1_star"
   ]
  },
  {
   "cell_type": "markdown",
   "id": "992e72b4",
   "metadata": {
    "deletable": true,
    "editable": true
   },
   "source": [
    "Indeed, they're exactly the same as the `w0_star` and `w1_star` we found using our old formulas."
   ]
  },
  {
   "cell_type": "markdown",
   "id": "c47a56cc",
   "metadata": {
    "deletable": true,
    "editable": true
   },
   "source": [
    "Here's another way to find $\\vec w^*$ using `X` and `y`. Rather than telling `numpy` to invert $X^TX$, we can tell it, literally, to solve the normal equations $X^TX \\vec w = X^T \\vec y$:"
   ]
  },
  {
   "cell_type": "code",
   "execution_count": null,
   "id": "a19a8461",
   "metadata": {
    "deletable": true,
    "editable": true
   },
   "outputs": [],
   "source": [
    "np.linalg.solve(X.T @ X, X.T @ y)"
   ]
  },
  {
   "cell_type": "markdown",
   "id": "3fdb7edf",
   "metadata": {
    "deletable": true,
    "editable": true
   },
   "source": [
    "## Making Predictions\n",
    "\n",
    "---\n",
    "\n",
    "We know how to make predictions with the old formulas:"
   ]
  },
  {
   "cell_type": "code",
   "execution_count": null,
   "id": "6e73d670",
   "metadata": {
    "deletable": true,
    "editable": true
   },
   "outputs": [],
   "source": [
    "# The predicted commute time if I leave at 8:30AM.\n",
    "..."
   ]
  },
  {
   "cell_type": "markdown",
   "id": "4f5c8936",
   "metadata": {
    "deletable": true,
    "editable": true
   },
   "source": [
    "How do we make predictions with the new formulas?\n",
    "\n",
    "To find the predicted commute time for every departure hour in our dataset, we can multiply $X$ by the optimal parameter vector, $\\vec{w}^*$.\n",
    "\n",
    "$$\\vec{h}^* = X \\vec{w}^*$$\n",
    "\n",
    "$\\vec{h}^*$ above is the optimal **hypothesis vector**."
   ]
  },
  {
   "cell_type": "code",
   "execution_count": null,
   "id": "031ae0d7",
   "metadata": {
    "deletable": true,
    "editable": true
   },
   "outputs": [],
   "source": [
    "all_preds = ...\n",
    "all_preds"
   ]
  },
  {
   "cell_type": "markdown",
   "id": "1a6b0df4",
   "metadata": {
    "deletable": true,
    "editable": true
   },
   "source": [
    "To make a prediction for a single data point, we must take the **dot product** of the optimal parameter vector, $\\vec{w}^*$ (`w_star_linalg`) with a vector of the form $\\begin{bmatrix} 1 & x_\\text{new} \\end{bmatrix}^T$, since this is what the rows of $X$ look like."
   ]
  },
  {
   "cell_type": "code",
   "execution_count": null,
   "id": "791f51d0",
   "metadata": {
    "deletable": true,
    "editable": true
   },
   "outputs": [],
   "source": [
    "# Also the predicted commute time if I leave at 8:30AM.\n",
    "..."
   ]
  },
  {
   "cell_type": "markdown",
   "id": "945c1381",
   "metadata": {
    "deletable": true,
    "editable": true
   },
   "source": [
    "This gives us the same prediction as before!"
   ]
  }
 ],
 "metadata": {
  "celltoolbar": "None",
  "kernelspec": {
   "display_name": "Python 3 (ipykernel)",
   "language": "python",
   "name": "python3"
  },
  "language_info": {
   "codemirror_mode": {
    "name": "ipython",
    "version": 3
   },
   "file_extension": ".py",
   "mimetype": "text/x-python",
   "name": "python",
   "nbconvert_exporter": "python",
   "pygments_lexer": "ipython3",
   "version": "3.10.16"
  }
 },
 "nbformat": 4,
 "nbformat_minor": 5
}
