{
 "cells": [
  {
   "cell_type": "code",
   "execution_count": null,
   "id": "07efec15",
   "metadata": {
    "deletable": true,
    "editable": true,
    "slideshow": {
     "slide_type": "skip"
    },
    "tags": []
   },
   "outputs": [],
   "source": [
    "from lec_utils import *"
   ]
  },
  {
   "cell_type": "markdown",
   "id": "a29c8740",
   "metadata": {
    "deletable": true,
    "editable": true,
    "slideshow": {
     "slide_type": "slide"
    },
    "tags": []
   },
   "source": [
    "\n",
    "<div class=\"alert alert-info\" markdown=\"1\">\n",
    "\n",
    "#### Lecture 1\n",
    "\n",
    "# Introduction\n",
    "\n",
    "### EECS 398: Practical Data Science, Spring 2025\n",
    "\n",
    "<small><a style=\"text-decoration: none\" href=\"https://practicaldsc.org\">practicaldsc.org</a> • <a style=\"text-decoration: none\" href=\"https://github.com/practicaldsc/sp25\">github.com/practicaldsc/sp25</a> • 📣 See latest announcements [**here on Ed**](https://edstem.org/us/courses/78535/discussion/6647877) </small>\n",
    "    \n",
    "</div>"
   ]
  },
  {
   "cell_type": "markdown",
   "id": "ae670cf5",
   "metadata": {
    "deletable": true,
    "editable": true,
    "slideshow": {
     "slide_type": "slide"
    }
   },
   "source": [
    "<center><h2>Welcome to Practical Data Science! 🎉</h2></center>"
   ]
  },
  {
   "cell_type": "markdown",
   "id": "94147483",
   "metadata": {
    "deletable": true,
    "editable": true,
    "slideshow": {
     "slide_type": "slide"
    }
   },
   "source": [
    "### Instructor: Suraj Rampure; IA: Abhinav Attaluri"
   ]
  },
  {
   "cell_type": "markdown",
   "id": "db25e70e",
   "metadata": {
    "deletable": true,
    "editable": true,
    "slideshow": {
     "slide_type": "-"
    }
   },
   "source": [
    "- Call me Suraj, pronounced \"sooh-rudge\".<br><small>Many students also call me \"Prof. Suraj\" or \"Prof. Rampure\" – all of these are fine!</small>"
   ]
  },
  {
   "cell_type": "markdown",
   "id": "816707e8",
   "metadata": {
    "deletable": true,
    "editable": true,
    "slideshow": {
     "slide_type": "-"
    }
   },
   "source": [
    "- 30 second life story:\n",
    "    - Originally from Windsor, ON, Canada 🇨🇦.\n",
    "    - BS and MS in EECS from UC Berkeley 🐻.\n",
    "    - Taught data science at UC San Diego 🔱 from 2021-2024.\n",
    "    - Recently moved back to Metro Detroit; just finished first year as teaching faculty at the  <b><span style=\"background-color: #FFCB05; color: #00274C\">University of Michigan</span></b> 〽️."
   ]
  },
  {
   "cell_type": "markdown",
   "id": "7e10ec66",
   "metadata": {
    "deletable": true,
    "editable": true,
    "slideshow": {
     "slide_type": "-"
    }
   },
   "source": [
    "- We also have an IA – Abhinav Attaluri – who is here to help you in office hours, study sessions, and on Ed.<br><small>Learn more about us at [practicaldsc.org/staff](https://practicaldsc.org/staff).</small>"
   ]
  },
  {
   "cell_type": "markdown",
   "id": "0d8c4085",
   "metadata": {
    "deletable": true,
    "editable": true,
    "slideshow": {
     "slide_type": "-"
    }
   },
   "source": [
    "- One of the benefits of this being a small class is that we can all get to know each other very well – this is the value of a university education!"
   ]
  },
  {
   "cell_type": "markdown",
   "id": "98d8d7ae",
   "metadata": {
    "deletable": true,
    "editable": true,
    "slideshow": {
     "slide_type": "slide"
    }
   },
   "source": [
    "<center><img src=\"imgs/me.png\" width=1100></center>"
   ]
  },
  {
   "cell_type": "markdown",
   "id": "0f60f8a9",
   "metadata": {
    "deletable": true,
    "editable": true,
    "slideshow": {
     "slide_type": "slide"
    }
   },
   "source": [
    "### Please ask questions in lecture!\n",
    "\n",
    "- You're always free to ask questions during lecture, and I'll try and stop for them frequently. But still, you may not feel like asking your question out loud.\n",
    "\n",
    "- You can **type your questions anonymously** at the following link and I'll try and answer them.\n",
    "\n",
    "<div class=\"alert alert-warning\" align=center>\n",
    "    <h3><a style=\"text-decoration: none; color: #0066cc\" href=\"https://docs.google.com/forms/d/e/1FAIpQLSd4oliiZYeNh76jWy-arfEtoAkCrVSsobZxPwxifWggo3EO0Q/viewform\">practicaldsc.org/q</a></h3>\n",
    "    <small>bookmark me!</small>\n",
    "</div>\n",
    "\n",
    "- You'll also use this form to answer questions that I ask you during lecture.\n",
    "\n",
    "- You can also click the **Lecture Questions** link in the top-right corner of [practicaldsc.org](https://practicaldsc.org).\n",
    "\n",
    "<center><img src=\"imgs/ask-q.png\" width=50%></center>"
   ]
  },
  {
   "cell_type": "markdown",
   "id": "25f63d8d",
   "metadata": {
    "deletable": true,
    "editable": true,
    "slideshow": {
     "slide_type": "slide"
    }
   },
   "source": [
    "<div class=\"alert alert-warning\">\n",
    "    <h3>Question 🤔 (Answer at <a style=\"text-decoration: none; color: #0066cc\" href=\"https://docs.google.com/forms/d/e/1FAIpQLSd4oliiZYeNh76jWy-arfEtoAkCrVSsobZxPwxifWggo3EO0Q/viewform\">practicaldsc.org/q</a>)</h3>\n",
    "\n",
    "Select the <b><span style=\"color:red\">FALSE</span></b> statement below.\n",
    "\n",
    "- A. I have size 16 feet.<br>\n",
    "- B. I skipped the first grade.<br>\n",
    "- C. I was rejected by Michigan when I applied for undergrad.<br>\n",
    "- D. Soulja Boy (the rapper) used to follow me on Twitter.<br>\n",
    "- E. I was an undergrad student during COVID.<br>\n",
    "    \n",
    "</div>"
   ]
  },
  {
   "cell_type": "markdown",
   "id": "70795469",
   "metadata": {
    "deletable": true,
    "editable": true,
    "slideshow": {
     "slide_type": "slide"
    }
   },
   "source": [
    "### Agenda 📆\n",
    "\n",
    "- What is data science?\n",
    "- Course logistics.\n",
    "- The anatomy of Jupyter Notebooks.\n",
    "- Example: Trends in baby names 👶."
   ]
  },
  {
   "cell_type": "markdown",
   "id": "aa143cfb",
   "metadata": {
    "deletable": true,
    "editable": true,
    "slideshow": {
     "slide_type": "slide"
    }
   },
   "source": [
    "## What is data science?\n",
    "\n",
    "---"
   ]
  },
  {
   "cell_type": "markdown",
   "id": "033eb183",
   "metadata": {
    "deletable": true,
    "editable": true,
    "slideshow": {
     "slide_type": "slide"
    }
   },
   "source": [
    "### What is data science?"
   ]
  },
  {
   "cell_type": "markdown",
   "id": "a7212a0e",
   "metadata": {
    "deletable": true,
    "editable": true,
    "slideshow": {
     "slide_type": "fragment"
    }
   },
   "source": [
    "- Whatever it is, it seems to be at the **intersection** of lots of different fields.\n",
    "\n",
    "<center><img src='imgs/what-is-data-science.png' width=60%></center>"
   ]
  },
  {
   "cell_type": "markdown",
   "id": "993cfbc2",
   "metadata": {
    "deletable": true,
    "editable": true,
    "slideshow": {
     "slide_type": "fragment"
    }
   },
   "source": [
    "- It sounds like a hot, new term, but many of the core ideas in data science are hundreds of years old!<br><small>Linear regression, for example, was developed in the early 1800s.</small>"
   ]
  },
  {
   "cell_type": "markdown",
   "id": "909e4ed5",
   "metadata": {
    "deletable": true,
    "editable": true,
    "slideshow": {
     "slide_type": "slide"
    }
   },
   "source": [
    "### Historical origins"
   ]
  },
  {
   "cell_type": "markdown",
   "id": "82eab950",
   "metadata": {
    "deletable": true,
    "editable": true,
    "slideshow": {
     "slide_type": "fragment"
    }
   },
   "source": [
    "- 1974: Peter Naur says data science is \"The science of dealing with data, once they have been established, while the relation of the data to what they represent is delegated to other fields and sciences.\""
   ]
  },
  {
   "cell_type": "markdown",
   "id": "892ee07d",
   "metadata": {
    "deletable": true,
    "editable": true,
    "slideshow": {
     "slide_type": "fragment"
    }
   },
   "source": [
    "- 1997: C.F. Jeff Wu, a **statistics and IOE professor at** <b><span style=\"background-color: #FFCB05; color: #00274C\">Michigan</span></b>, says statistics should be renamed data science and statisticians should be renamed data scientists."
   ]
  },
  {
   "cell_type": "markdown",
   "id": "f85aeb59",
   "metadata": {
    "deletable": true,
    "editable": true,
    "slideshow": {
     "slide_type": "fragment"
    }
   },
   "source": [
    "- 2010: Drew Conway publishes his famous [Data Science Venn Diagram](http://drewconway.com/zia/2013/3/26/the-data-science-venn-diagram).\n",
    "\n",
    "<center><img src=\"imgs/image_0.png\" width=400><small>But there's no agreement on which \"Venn diagram\" is correct – see <a href=\"https://deeplearning.lipingyang.org/wp-content/uploads/2017/10/Battle-of-the-Data-Science-Venn-Diagrams.pdf\">here</a>!</small></center>"
   ]
  },
  {
   "cell_type": "markdown",
   "id": "c5ca4346",
   "metadata": {
    "deletable": true,
    "editable": true,
    "slideshow": {
     "slide_type": "fragment"
    }
   },
   "source": [
    "- 2015: The US appoints D.J. Patil as its first Chief Data Scientist."
   ]
  },
  {
   "cell_type": "markdown",
   "id": "a6215717",
   "metadata": {
    "deletable": true,
    "editable": true,
    "slideshow": {
     "slide_type": "slide"
    }
   },
   "source": [
    "### What is data science?"
   ]
  },
  {
   "cell_type": "markdown",
   "id": "d9c9eb95",
   "metadata": {
    "deletable": true,
    "editable": true,
    "slideshow": {
     "slide_type": "fragment"
    }
   },
   "source": [
    "- Data science is such a new field that there's no one agreed upon definition of what it is.<br><small>Different universities take different stances, too – some universities have dedicated data science departments, some don't.</small>"
   ]
  },
  {
   "cell_type": "markdown",
   "id": "aa36299b",
   "metadata": {
    "deletable": true,
    "editable": true,
    "slideshow": {
     "slide_type": "fragment"
    }
   },
   "source": [
    "- My definition: the job of a data scientist is to **ask and answer questions using data**."
   ]
  },
  {
   "cell_type": "markdown",
   "id": "0de6f4db",
   "metadata": {
    "deletable": true,
    "editable": true,
    "slideshow": {
     "slide_type": "fragment"
    }
   },
   "source": [
    "- This may sound simple, but **asking the right questions** can be hard, and answers can often be **ambiguous**. This uncertainty is what makes data science challenging!"
   ]
  },
  {
   "cell_type": "markdown",
   "id": "6b2e31e4",
   "metadata": {
    "deletable": true,
    "editable": true,
    "slideshow": {
     "slide_type": "slide"
    }
   },
   "source": [
    "### Practice _and theory_"
   ]
  },
  {
   "cell_type": "markdown",
   "id": "f42fc042",
   "metadata": {
    "deletable": true,
    "editable": true,
    "slideshow": {
     "slide_type": "fragment"
    }
   },
   "source": [
    "- In this course, you'll get a taste of the tools that data scientists in industry use every day.<br><small>Python, `pandas`, `numpy`, `sklearn`, etc.</small>"
   ]
  },
  {
   "cell_type": "markdown",
   "id": "b5514fee",
   "metadata": {
    "deletable": true,
    "editable": true,
    "slideshow": {
     "slide_type": "fragment"
    }
   },
   "source": [
    "- But, expect the course to be math heavy after the first 10 lectures.\n",
    "\n",
    "<center><img src=\"imgs/math-ex.png\" width=700><small>Lecture slide from last semester.</small></center>"
   ]
  },
  {
   "cell_type": "markdown",
   "id": "9acc53bb",
   "metadata": {
    "deletable": true,
    "editable": true,
    "slideshow": {
     "slide_type": "slide"
    }
   },
   "source": [
    "In this course, you'll end up building models that predict house prices:\n",
    "```python\n",
    "            >>> pipe_cv.predict(pd.DataFrame([{\n",
    "                'Gr Liv Area': 2500,\n",
    "                'Total Bsmt SF': 1500,\n",
    "                'Neighborhood': 'CollgCr'\n",
    "            }]))\n",
    "            array([304362.63752408])\n",
    "```"
   ]
  },
  {
   "cell_type": "markdown",
   "id": "695e475c",
   "metadata": {
    "deletable": true,
    "editable": true,
    "slideshow": {
     "slide_type": "slide"
    }
   },
   "source": [
    "And whether patients have diabetes:\n",
    "\n",
    "<center><img src=\"imgs/decision-boundary.png\" width=1000></center>"
   ]
  },
  {
   "cell_type": "markdown",
   "id": "13988f80",
   "metadata": {
    "deletable": true,
    "editable": true,
    "slideshow": {
     "slide_type": "slide"
    }
   },
   "source": [
    "And whether a digit is a 0, 1, 2, 3, ..., or 9:\n",
    "\n",
    "<center><img src=\"imgs/mnist.png\" width=1200></center>"
   ]
  },
  {
   "cell_type": "markdown",
   "id": "1b03d713",
   "metadata": {
    "deletable": true,
    "editable": true,
    "slideshow": {
     "slide_type": "slide"
    }
   },
   "source": [
    "<center><big>You need to understand <b>how</b> these models work,<br>so that you know how to choose the right model for the job<br>and understand how they may fail.<br><br></big></center>"
   ]
  },
  {
   "cell_type": "markdown",
   "id": "45374ffa",
   "metadata": {
    "deletable": true,
    "editable": true,
    "slideshow": {
     "slide_type": "fragment"
    }
   },
   "source": [
    "<center><big>It would be irresponsible of us to <i>not</i> show you the math under the hood!</big><br>Tools like ChatGPT are just tools. <b>They don’t do any of the important thinking – that's where you come in!</b></center>"
   ]
  },
  {
   "cell_type": "markdown",
   "id": "69b85347",
   "metadata": {
    "deletable": true,
    "editable": true,
    "slideshow": {
     "slide_type": "slide"
    }
   },
   "source": [
    "### Data science involves _people_ 🧍"
   ]
  },
  {
   "cell_type": "markdown",
   "id": "a3bcb9a6",
   "metadata": {
    "deletable": true,
    "editable": true,
    "slideshow": {
     "slide_type": "fragment"
    }
   },
   "source": [
    "- The decisions that we make as data scientists have the potential to impact the livelihoods of other people."
   ]
  },
  {
   "cell_type": "markdown",
   "id": "b2dd81f4",
   "metadata": {
    "deletable": true,
    "editable": true,
    "slideshow": {
     "slide_type": "fragment"
    }
   },
   "source": [
    "- Example: Admissions and hiring."
   ]
  },
  {
   "cell_type": "markdown",
   "id": "f5046a1c",
   "metadata": {
    "deletable": true,
    "editable": true,
    "slideshow": {
     "slide_type": "fragment"
    }
   },
   "source": [
    "- Example: Hyper-personalized ad recommendations."
   ]
  },
  {
   "cell_type": "markdown",
   "id": "491bab3d",
   "metadata": {
    "deletable": true,
    "editable": true,
    "slideshow": {
     "slide_type": "fragment"
    }
   },
   "source": [
    "- Example: Flu case forecasting."
   ]
  },
  {
   "cell_type": "markdown",
   "id": "be5ee9ec",
   "metadata": {
    "deletable": true,
    "editable": true,
    "slideshow": {
     "slide_type": "fragment"
    }
   },
   "source": [
    "- The decisions you make as a data scientist go beyond the scope of your own computer!"
   ]
  },
  {
   "cell_type": "markdown",
   "id": "30c1f0a3",
   "metadata": {
    "deletable": true,
    "editable": true,
    "slideshow": {
     "slide_type": "slide"
    }
   },
   "source": [
    "### Goals"
   ]
  },
  {
   "cell_type": "markdown",
   "id": "e723e515",
   "metadata": {
    "deletable": true,
    "editable": true,
    "slideshow": {
     "slide_type": "fragment"
    }
   },
   "source": [
    "- **After this course, you'll be able to start with raw data and come up with accurate, meaningful insights that you can share with others.**"
   ]
  },
  {
   "cell_type": "markdown",
   "id": "cab136c9",
   "metadata": {
    "deletable": true,
    "editable": true,
    "slideshow": {
     "slide_type": "fragment"
    }
   },
   "source": [
    "- You'll learn how to use industry-standard data manipulation tools.\n",
    "<br><small>And you'll need to rely on documentation, like a real data scientist!</small>"
   ]
  },
  {
   "cell_type": "markdown",
   "id": "105f4279",
   "metadata": {
    "deletable": true,
    "editable": true,
    "slideshow": {
     "slide_type": "fragment"
    }
   },
   "source": [
    "- You'll also understand the inner workings of complicated machine learning models."
   ]
  },
  {
   "cell_type": "markdown",
   "id": "21711561",
   "metadata": {
    "deletable": true,
    "editable": true,
    "slideshow": {
     "slide_type": "fragment"
    }
   },
   "source": [
    "- At the end of it all, you'll:\n",
    "    - Be prepared for internships and data science \"take home\" interviews.\n",
    "    - Be ready to create your own portfolio of personal projects.\n",
    "    - Have the background and maturity to succeed in more advanced data science-adjacent (databases, machine learning, etc.) courses."
   ]
  },
  {
   "cell_type": "markdown",
   "id": "fde74b66",
   "metadata": {
    "deletable": true,
    "editable": true,
    "slideshow": {
     "slide_type": "slide"
    }
   },
   "source": [
    "### Prerequisites"
   ]
  },
  {
   "cell_type": "markdown",
   "id": "16cd4416",
   "metadata": {
    "deletable": true,
    "editable": true,
    "slideshow": {
     "slide_type": "fragment"
    }
   },
   "source": [
    "- The official prerequisites are programming (EECS 280), discrete math (EECS 203), calculus I and II, and linear algebra. An introductory statistics class is an advisory prerequisite."
   ]
  },
  {
   "cell_type": "markdown",
   "id": "a51edcb7",
   "metadata": {
    "deletable": true,
    "editable": true,
    "slideshow": {
     "slide_type": "fragment"
    }
   },
   "source": [
    "- We will assume everyone has programmed before, seen some probability before, and is fluent with the basics of calculus."
   ]
  },
  {
   "cell_type": "markdown",
   "id": "63469cb7",
   "metadata": {
    "deletable": true,
    "editable": true,
    "slideshow": {
     "slide_type": "fragment"
    }
   },
   "source": [
    "- If you haven't seen linear algebra before, we'll provide you review resources to get up to speed, but expect to do some self-studying."
   ]
  },
  {
   "cell_type": "markdown",
   "id": "6b70f691",
   "metadata": {
    "deletable": true,
    "editable": true,
    "slideshow": {
     "slide_type": "fragment"
    }
   },
   "source": [
    "- **We're here to help!**"
   ]
  },
  {
   "cell_type": "markdown",
   "id": "62e41f10",
   "metadata": {
    "deletable": true,
    "editable": true,
    "slideshow": {
     "slide_type": "slide"
    }
   },
   "source": [
    "## Course logistics\n",
    "\n",
    "---"
   ]
  },
  {
   "cell_type": "markdown",
   "id": "09c40cc4",
   "metadata": {
    "deletable": true,
    "editable": true,
    "slideshow": {
     "slide_type": "slide"
    },
    "tags": []
   },
   "source": [
    "### Course website"
   ]
  },
  {
   "cell_type": "markdown",
   "id": "826a6fab",
   "metadata": {
    "deletable": true,
    "editable": true,
    "slideshow": {
     "slide_type": "-"
    }
   },
   "source": [
    "- The course website is your one-stop-shop for all things related to the course.\n",
    "\n",
    "<br>\n",
    "\n",
    "<center><h3><a href=\"https://practicaldsc.org\">practicaldsc.org</a></h3></center>\n",
    "\n",
    "<br>"
   ]
  },
  {
   "cell_type": "markdown",
   "id": "2ac6b580",
   "metadata": {
    "deletable": true,
    "editable": true,
    "slideshow": {
     "slide_type": "-"
    }
   },
   "source": [
    "- Make sure to **read the [syllabus](https://practicaldsc.org/syllabus)**!"
   ]
  },
  {
   "cell_type": "markdown",
   "id": "c7dc8474",
   "metadata": {
    "deletable": true,
    "editable": true,
    "slideshow": {
     "slide_type": "slide"
    }
   },
   "source": [
    "### Getting set up\n",
    "\n",
    "- **Ed**: Q&A forum. Must be active here, since this is where all announcements will be made.\n",
    "- **Gradescope**: Where you will submit all assignments for autograding, and where all of your grades will live.\n",
    "- **Canvas**: No ❌.\n",
    "- In addition, you must fill out our [**Welcome Survey**](https://forms.gle/eZFdhpwn156CQuk29) by **Friday, May 9th** to tell us more about yourself, your availability this summer, and whether you need an alternate exam."
   ]
  },
  {
   "cell_type": "markdown",
   "id": "90d877c8",
   "metadata": {
    "deletable": true,
    "editable": true,
    "slideshow": {
     "slide_type": "slide"
    }
   },
   "source": [
    "### Accessing course content on GitHub"
   ]
  },
  {
   "cell_type": "markdown",
   "id": "c11fb510",
   "metadata": {
    "deletable": true,
    "editable": true,
    "slideshow": {
     "slide_type": "-"
    }
   },
   "source": [
    "- You will access all course content by pulling the course GitHub repository:\n",
    "\n",
    "<br>\n",
    "<center>\n",
    "<b><a href=\"https://github.com/practicaldsc/sp25\">github.com/practicaldsc/sp25</a></b>\n",
    "</center>\n",
    "<br>"
   ]
  },
  {
   "cell_type": "markdown",
   "id": "7b9381b9",
   "metadata": {
    "deletable": true,
    "editable": true,
    "slideshow": {
     "slide_type": "-"
    }
   },
   "source": [
    "- We will post HTML versions of lecture notebooks on the course website, but otherwise you must `git pull` from this repository to access all course materials (including blank copies of assignments)."
   ]
  },
  {
   "cell_type": "markdown",
   "id": "c07434b6",
   "metadata": {
    "deletable": true,
    "editable": true,
    "slideshow": {
     "slide_type": "slide"
    }
   },
   "source": [
    "### Environment setup"
   ]
  },
  {
   "cell_type": "markdown",
   "id": "29e863f7",
   "metadata": {
    "deletable": true,
    "editable": true
   },
   "source": [
    "- You're required to set up a Python environment on your own computer."
   ]
  },
  {
   "cell_type": "markdown",
   "id": "e13b820e",
   "metadata": {
    "deletable": true,
    "editable": true
   },
   "source": [
    "- **To do so, follow the instructions on the [Environment Setup](https://practicaldsc.org/env-setup) page of the course website ASAP**.<br><small>It contains a walkthrough video, too.</small>"
   ]
  },
  {
   "cell_type": "markdown",
   "id": "d639be56",
   "metadata": {
    "deletable": true,
    "editable": true
   },
   "source": [
    "- Once you set up your environment, you will `git pull` the course repo every time a new assignment comes out."
   ]
  },
  {
   "cell_type": "markdown",
   "id": "adb08757",
   "metadata": {
    "deletable": true,
    "editable": true
   },
   "source": [
    "- **Note**: You will submit your work to Gradescope directly, without using Git."
   ]
  },
  {
   "cell_type": "markdown",
   "id": "03a483ea",
   "metadata": {
    "deletable": true,
    "editable": true
   },
   "source": [
    "- If you run into any trouble, I can help you after class, and you can also come to tomorrow's study session (more details soon)."
   ]
  },
  {
   "cell_type": "markdown",
   "id": "2da33601",
   "metadata": {
    "deletable": true,
    "editable": true,
    "slideshow": {
     "slide_type": "slide"
    }
   },
   "source": [
    "### Lectures"
   ]
  },
  {
   "cell_type": "markdown",
   "id": "04186c00",
   "metadata": {
    "deletable": true,
    "editable": true,
    "slideshow": {
     "slide_type": "-"
    }
   },
   "source": [
    "- Lectures are held in-person on **Tuesdays and Thursdays from 2-5PM in 1690 BBB**."
   ]
  },
  {
   "cell_type": "markdown",
   "id": "99aa3b25",
   "metadata": {
    "deletable": true,
    "editable": true,
    "slideshow": {
     "slide_type": "-"
    }
   },
   "source": [
    "- On each day, we'll cover two 80-minute lectures, separated by a ~10 minute break.<br><small>On sunny days, we'll try and go outside!</small>"
   ]
  },
  {
   "cell_type": "markdown",
   "id": "f89dce01",
   "metadata": {
    "deletable": true,
    "editable": true,
    "slideshow": {
     "slide_type": "-"
    }
   },
   "source": [
    "- Attendance is not required, but is encouraged. Lectures are recorded."
   ]
  },
  {
   "cell_type": "markdown",
   "id": "0d7c7d34",
   "metadata": {
    "deletable": true,
    "editable": true,
    "slideshow": {
     "slide_type": "-"
    }
   },
   "source": [
    "- Lecture notebooks will be posted on the course website ahead of time, both in the form of runnable code (in our GitHub repo) and as static HTML files, which you can annotate on your tablet if you'd like.<br>\n",
    "<small>What's a notebook? You'll find out soon!</small>"
   ]
  },
  {
   "cell_type": "markdown",
   "id": "bdd42353",
   "metadata": {
    "deletable": true,
    "editable": true,
    "slideshow": {
     "slide_type": "-"
    }
   },
   "source": [
    "- I will **try** to post all 4 lectures for the coming week on Sunday.<br>If you want to get a preview of what's next, you can look at last semester's lectures at [practicaldsc.org/wn25](https://practicaldsc.org/wn25)."
   ]
  },
  {
   "cell_type": "markdown",
   "id": "2f23edbe",
   "metadata": {
    "deletable": true,
    "editable": true,
    "slideshow": {
     "slide_type": "slide"
    }
   },
   "source": [
    "### Lecture resources"
   ]
  },
  {
   "cell_type": "markdown",
   "id": "f98c96e6",
   "metadata": {
    "deletable": true,
    "editable": true,
    "slideshow": {
     "slide_type": "-"
    }
   },
   "source": [
    "- Your main resource will be lecture notebooks."
   ]
  },
  {
   "cell_type": "markdown",
   "id": "586cdc09",
   "metadata": {
    "deletable": true,
    "editable": true,
    "slideshow": {
     "slide_type": "-"
    }
   },
   "source": [
    "- To accompany some lecture topics, we will post \"Guides\" on the course website that you're expected to read."
   ]
  },
  {
   "cell_type": "markdown",
   "id": "ee8646da",
   "metadata": {
    "deletable": true,
    "editable": true,
    "slideshow": {
     "slide_type": "-"
    }
   },
   "source": [
    "- Many lectures will also have supplemental readings, taken from various sources online.<br><small>Most of these are already listed on the homepage of the course website. Check out the [Resources](https://practicaldsc.org/resources/) page for more.</small> "
   ]
  },
  {
   "cell_type": "markdown",
   "id": "c2701cae",
   "metadata": {
    "deletable": true,
    "editable": true,
    "slideshow": {
     "slide_type": "-"
    }
   },
   "source": [
    "- You'll never be tested on something that appears in a supplemental reading but not in lecture/guide/homework, but supplemental readings are still highly recommended!\n",
    "<br><small>Find an online resource that's useful? Send it to us and we'll link it on the website!</small>"
   ]
  },
  {
   "cell_type": "markdown",
   "id": "c96fa700",
   "metadata": {
    "deletable": true,
    "editable": true,
    "slideshow": {
     "slide_type": "slide"
    }
   },
   "source": [
    "### Study sessions 🆕"
   ]
  },
  {
   "cell_type": "markdown",
   "id": "9dfad3ef",
   "metadata": {
    "deletable": true,
    "editable": true,
    "slideshow": {
     "slide_type": "-"
    }
   },
   "source": [
    "- In the discussion section slot – on **Wednesdays from 2-4PM in 1690 BBB** – we will be holding \"study sessions\", which are optional, drop-in group office hours held by the IA."
   ]
  },
  {
   "cell_type": "markdown",
   "id": "e8319ac1",
   "metadata": {
    "deletable": true,
    "editable": true,
    "slideshow": {
     "slide_type": "-"
    }
   },
   "source": [
    "- There will usually be homework assignments due on Wednesdays, so study sessions are a great time to get last-minute help and work with others."
   ]
  },
  {
   "cell_type": "markdown",
   "id": "d89594dd",
   "metadata": {
    "deletable": true,
    "editable": true,
    "slideshow": {
     "slide_type": "-"
    }
   },
   "source": [
    "- These replace standard discussion sections, which in Fall/Winter were designed to give you practice with theoretical problems that will be on exams.<br><small>We think study sessions are a better use of the time in the Spring, given the frequency of assignment deadlines. More on exam prep soon!</small>"
   ]
  },
  {
   "cell_type": "markdown",
   "id": "770d6557",
   "metadata": {
    "deletable": true,
    "editable": true,
    "slideshow": {
     "slide_type": "slide"
    }
   },
   "source": [
    "### Homeworks"
   ]
  },
  {
   "cell_type": "markdown",
   "id": "42296342",
   "metadata": {
    "deletable": true,
    "editable": true,
    "slideshow": {
     "slide_type": "-"
    }
   },
   "source": [
    "- There will be **11 homework assignments** due ~twice a week, to be completed **individually**.\n",
    "<br><small>Each one is shorter than an EECS 280/281 project, but there are more of them – so expect a constant, moderate workload.</small>"
   ]
  },
  {
   "cell_type": "markdown",
   "id": "65d9d349",
   "metadata": {
    "deletable": true,
    "editable": true,
    "slideshow": {
     "slide_type": "-"
    }
   },
   "source": [
    "- Homework assignments will involve a combination of writing Python code in Jupyter Notebooks and doing some pen-and-paper math."
   ]
  },
  {
   "cell_type": "markdown",
   "id": "39b6e4f4",
   "metadata": {
    "deletable": true,
    "editable": true,
    "slideshow": {
     "slide_type": "-"
    }
   },
   "source": [
    "- Homeworks will come with public test cases that you can run locally, but ultimately your code will be graded using **hidden test cases on Gradescope**."
   ]
  },
  {
   "cell_type": "markdown",
   "id": "9b2e7d6c",
   "metadata": {
    "deletable": true,
    "editable": true,
    "slideshow": {
     "slide_type": "-"
    }
   },
   "source": [
    "- Your lowest 2 scores are dropped, and you have 8 slip days to use throughout the semester (max 2 per homework)."
   ]
  },
  {
   "cell_type": "markdown",
   "id": "2975c60d",
   "metadata": {
    "deletable": true,
    "editable": true,
    "slideshow": {
     "slide_type": "-"
    }
   },
   "source": [
    "- The first two homeworks are already available; **start working on Homework 1 after today's class!**\n",
    "    - Homework 1 is due on **Friday, May 9th**.\n",
    "    - Homework 2 is due on **Wednesday, May 14th**."
   ]
  },
  {
   "cell_type": "markdown",
   "id": "658a9770",
   "metadata": {
    "deletable": true,
    "editable": true,
    "slideshow": {
     "slide_type": "slide"
    }
   },
   "source": [
    "### Final Project"
   ]
  },
  {
   "cell_type": "markdown",
   "id": "3512cdac",
   "metadata": {
    "deletable": true,
    "editable": true,
    "slideshow": {
     "slide_type": "-"
    }
   },
   "source": [
    "- In the Final Project, you’ll work on an open-ended investigation of a dataset of your choosing, using the tools from throughout the semester."
   ]
  },
  {
   "cell_type": "markdown",
   "id": "f1ae69a4",
   "metadata": {
    "deletable": true,
    "editable": true,
    "slideshow": {
     "slide_type": "-"
    }
   },
   "source": [
    "- Your work will culminate in a public-facing website that you can share with friends, family, and on your resume. "
   ]
  },
  {
   "cell_type": "markdown",
   "id": "f0d8897b",
   "metadata": {
    "deletable": true,
    "editable": true,
    "slideshow": {
     "slide_type": "-"
    }
   },
   "source": [
    "- See Fall 2024's submissions [here](https://practicaldsc.org/showcase)."
   ]
  },
  {
   "cell_type": "markdown",
   "id": "0d02644c",
   "metadata": {
    "deletable": true,
    "editable": true,
    "slideshow": {
     "slide_type": "-"
    }
   },
   "source": [
    "- Unlike with homeworks, you can work with a partner and there is a checkpoint. More details to come."
   ]
  },
  {
   "cell_type": "markdown",
   "id": "55d15a5b",
   "metadata": {
    "deletable": true,
    "editable": true,
    "slideshow": {
     "slide_type": "slide"
    }
   },
   "source": [
    "### Exams"
   ]
  },
  {
   "cell_type": "markdown",
   "id": "a4da579a",
   "metadata": {
    "deletable": true,
    "editable": true,
    "slideshow": {
     "slide_type": "-"
    }
   },
   "source": [
    "- There are two **in-person, on-paper** exams, designed to:\n",
    "    - assess your understanding of the more theoretical concepts in the class, and\n",
    "    - make sure that you can write code independently."
   ]
  },
  {
   "cell_type": "markdown",
   "id": "d916fe50",
   "metadata": {
    "deletable": true,
    "editable": true,
    "slideshow": {
     "slide_type": "-"
    }
   },
   "source": [
    "- **Midterm Exam (25%)**: Wednesday, May 28th, 2-4PM."
   ]
  },
  {
   "cell_type": "markdown",
   "id": "337610cc",
   "metadata": {
    "deletable": true,
    "editable": true,
    "slideshow": {
     "slide_type": "-"
    }
   },
   "source": [
    "- **Final Exam (25%)**: Tuesday, June 24th, 1:30-3:30PM."
   ]
  },
  {
   "cell_type": "markdown",
   "id": "f5794b52",
   "metadata": {
    "deletable": true,
    "editable": true,
    "slideshow": {
     "slide_type": "-"
    }
   },
   "source": [
    "- Let us know on the [Welcome Survey](https://forms.gle/eZFdhpwn156CQuk29) if you have a conflict."
   ]
  },
  {
   "cell_type": "markdown",
   "id": "f7e5bf14",
   "metadata": {
    "deletable": true,
    "editable": true,
    "slideshow": {
     "slide_type": "-"
    }
   },
   "source": [
    "- The Study Site, [study.practicaldsc.org](https://study.practicaldsc.org), contains last year's exams, and has several topic-specific worksheets you should use to prepare for exams. **Practice every single week!**"
   ]
  },
  {
   "cell_type": "markdown",
   "id": "1d2b745d",
   "metadata": {
    "deletable": true,
    "editable": true,
    "slideshow": {
     "slide_type": "slide"
    }
   },
   "source": [
    "### Technical Interview 🆕"
   ]
  },
  {
   "cell_type": "markdown",
   "id": "4686dde4",
   "metadata": {
    "deletable": true,
    "editable": true,
    "slideshow": {
     "slide_type": "-"
    }
   },
   "source": [
    "- The Technical Interview is an **optional, pass/fail, 30 minute, in-person interview with me, covering content from Lectures 1-8**."
   ]
  },
  {
   "cell_type": "markdown",
   "id": "a3c2e1a0",
   "metadata": {
    "deletable": true,
    "editable": true,
    "slideshow": {
     "slide_type": "-"
    }
   },
   "source": [
    "- In the interview, you'll be presented with a dataset, and will be asked to write several lines of code to answer 5 verbal questions that are asked of you. You'll pass if you answer at least 4 of the 5 questions."
   ]
  },
  {
   "cell_type": "markdown",
   "id": "56fdb661",
   "metadata": {
    "deletable": true,
    "editable": true,
    "slideshow": {
     "slide_type": "-"
    }
   },
   "source": [
    "- If you don’t take the Technical Interview, or fail it (only one take allowed), the Midterm Exam will count for 25% of your overall course grade."
   ]
  },
  {
   "cell_type": "markdown",
   "id": "b380303c",
   "metadata": {
    "deletable": true,
    "editable": true,
    "slideshow": {
     "slide_type": "-"
    }
   },
   "source": [
    "- If you pass the Technical Interview, the Midterm Exam will count for 15% of your overall course grade, and the Technical Interview will count for 10% of your overall course grade."
   ]
  },
  {
   "cell_type": "markdown",
   "id": "39a5bd3a",
   "metadata": {
    "deletable": true,
    "editable": true,
    "slideshow": {
     "slide_type": "-"
    }
   },
   "source": [
    "- Signups for Technical Interviews **and** practice interviews will open on May 16th.<br><small>See the [Syllabus](https://practicaldsc.org/syllabus/#technical-interview) for dates.</small>"
   ]
  },
  {
   "cell_type": "markdown",
   "id": "5b64926e",
   "metadata": {
    "deletable": true,
    "editable": true,
    "slideshow": {
     "slide_type": "slide"
    }
   },
   "source": [
    "### Support 🫂"
   ]
  },
  {
   "cell_type": "markdown",
   "id": "7a5bcbf9",
   "metadata": {
    "deletable": true,
    "editable": true,
    "slideshow": {
     "slide_type": "-"
    }
   },
   "source": [
    "- We have several **office hours** each week, all of which are either remote or hybrid (in-person + remote).<br>See the [Calendar](https://practicaldsc.org/calendar/) on the course website for details.\n",
    "<br><small>Come say hi, and come to sit and work on homeworks, even if you don't have any questions!</small>"
   ]
  },
  {
   "cell_type": "markdown",
   "id": "3ff85105",
   "metadata": {
    "deletable": true,
    "editable": true,
    "slideshow": {
     "slide_type": "-"
    }
   },
   "source": [
    "- **Ed** is your friend too. Make your conceptual questions public, and make your debugging questions private."
   ]
  },
  {
   "cell_type": "markdown",
   "id": "2243cbdf",
   "metadata": {
    "deletable": true,
    "editable": true,
    "slideshow": {
     "slide_type": "-"
    }
   },
   "source": [
    "- **We're here to help!**"
   ]
  },
  {
   "cell_type": "markdown",
   "id": "41127caa",
   "metadata": {
    "deletable": true,
    "editable": true,
    "slideshow": {
     "slide_type": "slide"
    }
   },
   "source": [
    "### Workload ⚠️"
   ]
  },
  {
   "cell_type": "markdown",
   "id": "953d1bc9",
   "metadata": {
    "deletable": true,
    "editable": true,
    "slideshow": {
     "slide_type": "fragment"
    }
   },
   "source": [
    "- According to students last semester, the course is a moderate amount of work.\n",
    "\n",
    "<center><img src=\"imgs/workload.png\" width=700></center>"
   ]
  },
  {
   "cell_type": "markdown",
   "id": "d28377cf",
   "metadata": {
    "deletable": true,
    "editable": true,
    "slideshow": {
     "slide_type": "fragment"
    }
   },
   "source": [
    "- To succeed, you'll need to learn to solve problems **independently**.<br>Documentation and the internet will be your friends.<br><small>I'm not going to tell you about every single Python feature in class!</small>"
   ]
  },
  {
   "cell_type": "markdown",
   "id": "cbc669d2",
   "metadata": {
    "deletable": true,
    "editable": true,
    "slideshow": {
     "slide_type": "slide"
    }
   },
   "source": [
    "### Advice from last year's students"
   ]
  },
  {
   "cell_type": "markdown",
   "id": "59dd850c",
   "metadata": {
    "deletable": true,
    "editable": true,
    "slideshow": {
     "slide_type": "-"
    }
   },
   "source": [
    "> Practice really helps! I think most of the concepts are really easy to understand, but its the details that are hard to remember. As a data scientist, in practice you wouldn't want to look up every little thing, so practice will help in memorizing the \"language\" of this class and the concepts as well.\n",
    "\n",
    "> Stay consistent (boring, but still important). Buckle in because it covers a wide range of material. The second half is very different from the first half and transitions into a different kind of class.\n",
    "\n",
    "> Plan on starting the HW assignments as early as you can- some took a lot longer than others, and I never really knew how long one would take me until I began. Don't stress too much though, the generous late day policy was incredibly helpful!\n",
    "\n",
    "> My biggest piece of advice is to definitely make sure to keep up with the discussion worksheets every week. I felt like working on those was best way to study for the exam and the reason why I did well on the midterm. In addition, don't rely too much on gpt for the homeworks because it can hurt you in the long run."
   ]
  },
  {
   "cell_type": "markdown",
   "id": "f9b3c215",
   "metadata": {
    "deletable": true,
    "editable": true,
    "slideshow": {
     "slide_type": "slide"
    }
   },
   "source": [
    "### Collaboration, Academic Integrity, and Generative AI"
   ]
  },
  {
   "cell_type": "markdown",
   "id": "775f4f54",
   "metadata": {
    "deletable": true,
    "editable": true,
    "slideshow": {
     "slide_type": "-"
    }
   },
   "source": [
    "- **Make sure to read the [Syllabus section on Collaboration and Academic Integrity](https://practicaldsc.org/syllabus#collaboration-and-academic-integrity).**"
   ]
  },
  {
   "cell_type": "markdown",
   "id": "ea6bd1b1",
   "metadata": {
    "deletable": true,
    "editable": true,
    "slideshow": {
     "slide_type": "-"
    }
   },
   "source": [
    "- All homeworks are individual. Please discuss ideas and concepts with others, but no sharing code or posting code anywhere – collaboration must not result in solutions that are identifiably similar to other solutions, past or present.<br><small>As mentioned before, you can work with a partner on the Final Project.</small>"
   ]
  },
  {
   "cell_type": "markdown",
   "id": "c047cd9e",
   "metadata": {
    "deletable": true,
    "editable": true,
    "slideshow": {
     "slide_type": "-"
    }
   },
   "source": [
    "- We trust that you're here to learn and do the work for yourself."
   ]
  },
  {
   "cell_type": "markdown",
   "id": "f85b733e",
   "metadata": {
    "deletable": true,
    "editable": true,
    "slideshow": {
     "slide_type": "-"
    }
   },
   "source": [
    "- We know that tools, like ChatGPT, Claude, Cursor, and Windsurf, can write code for you. Feel free to use such tools _wisely_.<br><small>If you haven't, it's worth experimenting with something like Windsurf!</small>"
   ]
  },
  {
   "cell_type": "markdown",
   "id": "bdab89a3",
   "metadata": {
    "deletable": true,
    "editable": true,
    "slideshow": {
     "slide_type": "-"
    }
   },
   "source": [
    "- You won't be able to use ChatGPT on the exams (or Technical Interview), which are in-person, on paper, and worth 50% of your grade, so make sure you **understand** how your code actually works."
   ]
  },
  {
   "cell_type": "markdown",
   "id": "98784607",
   "metadata": {
    "deletable": true,
    "editable": true,
    "slideshow": {
     "slide_type": "slide"
    }
   },
   "source": [
    "### Data science is the people's science"
   ]
  },
  {
   "cell_type": "markdown",
   "id": "9e890041",
   "metadata": {
    "deletable": true,
    "editable": true,
    "slideshow": {
     "slide_type": "-"
    }
   },
   "source": [
    "- We know students have enrolled in this course from a wide variety of backgrounds, and we're committed to helping everyone succeed."
   ]
  },
  {
   "cell_type": "code",
   "execution_count": null,
   "id": "27888b11",
   "metadata": {
    "deletable": true,
    "editable": true
   },
   "outputs": [],
   "source": [
    "YouTubeVideo('YMnqPTLoj7o')"
   ]
  },
  {
   "cell_type": "markdown",
   "id": "a5ce793b",
   "metadata": {
    "deletable": true,
    "editable": true,
    "slideshow": {
     "slide_type": "-"
    }
   },
   "source": [
    "- If you're ever feeling unsure about your performance in this class or whether data science is \"right\" for you, email me and we'll chat!"
   ]
  },
  {
   "cell_type": "markdown",
   "id": "7e44f935",
   "metadata": {
    "deletable": true,
    "editable": true,
    "slideshow": {
     "slide_type": "slide"
    }
   },
   "source": [
    "<div class=\"alert alert-warning\">\n",
    "    <h3>Question 🤔 (Answer at <a style=\"text-decoration: none; color: #0066cc\" href=\"https://docs.google.com/forms/d/e/1FAIpQLSd4oliiZYeNh76jWy-arfEtoAkCrVSsobZxPwxifWggo3EO0Q/viewform\">practicaldsc.org/q</a>)</h3>\n",
    "    \n",
    "What questions do you have about the syllabus?"
   ]
  },
  {
   "cell_type": "markdown",
   "id": "8ea9aa70",
   "metadata": {
    "deletable": true,
    "editable": true,
    "slideshow": {
     "slide_type": "slide"
    }
   },
   "source": [
    "## The anatomy of Jupyter Notebooks\n",
    "\n",
    "---\n",
    "\n",
    "Let's start by familiarizing ourselves with our programming environment.<br>You'll need to have followed the [Environment Setup](https://practicaldsc.org/env-setup) steps to follow along."
   ]
  },
  {
   "cell_type": "markdown",
   "id": "1a9ccb77",
   "metadata": {
    "deletable": true,
    "editable": true,
    "slideshow": {
     "slide_type": "slide"
    }
   },
   "source": [
    "### Jupyter Notebooks 📓"
   ]
  },
  {
   "cell_type": "markdown",
   "id": "8ed008e1",
   "metadata": {
    "deletable": true,
    "editable": true,
    "slideshow": {
     "slide_type": "fragment"
    }
   },
   "source": [
    "- Often, but not in this class, code is written in a text editor and then run in a command-line interface, or both steps are done in an IDE.\n",
    "\n",
    "<center>\n",
    "<img src='imgs/text-editor-terminal.png' width=800>\n",
    "</center>"
   ]
  },
  {
   "cell_type": "markdown",
   "id": "6e09a913",
   "metadata": {
    "deletable": true,
    "editable": true,
    "slideshow": {
     "slide_type": "fragment"
    }
   },
   "source": [
    "- **Jupyter Notebooks** allow us to write and run code within a single document. They also allow us to embed text and images and look at visualizations.\n",
    "<br><small>Why Jupyter? It stands for **Ju**lia, **Py**thon, and **R**, the three original languages they were designed to support.</small>"
   ]
  },
  {
   "cell_type": "markdown",
   "id": "aedc3c67",
   "metadata": {
    "deletable": true,
    "editable": true,
    "slideshow": {
     "slide_type": "fragment"
    }
   },
   "source": [
    "- `.ipynb` is the extension for Jupyter Notebook files. `.ipynb` files can be opened and run in a few related applications, including JupyterLab, Jupyter Notebook, Jupyter Notebook Classic, and VSCode.\n",
    "<br><small>The [Environment Setup](https://practicaldsc.org/env-setup) page walks you through how to launch each one.<br>Note that these lecture slides are a Jupyter Notebook also, we're just using a package to make them look like a presentation.</small>"
   ]
  },
  {
   "cell_type": "markdown",
   "id": "7dd517f5",
   "metadata": {
    "deletable": true,
    "editable": true,
    "slideshow": {
     "slide_type": "slide"
    }
   },
   "source": [
    "### Cells"
   ]
  },
  {
   "cell_type": "markdown",
   "id": "baca93b1",
   "metadata": {
    "deletable": true,
    "editable": true,
    "slideshow": {
     "slide_type": "fragment"
    }
   },
   "source": [
    "- The **cell** is the basic building block of a Jupyter Notebook. There are two main types of cells."
   ]
  },
  {
   "cell_type": "markdown",
   "id": "88f5d128",
   "metadata": {
    "deletable": true,
    "editable": true,
    "slideshow": {
     "slide_type": "fragment"
    }
   },
   "source": [
    "- **Code cells** allow you to write and execute code.<br><small>When run, code cells display the value of the last evaluated expression.</small>"
   ]
  },
  {
   "cell_type": "markdown",
   "id": "03b4da81",
   "metadata": {
    "deletable": true,
    "editable": true,
    "slideshow": {
     "slide_type": "fragment"
    }
   },
   "source": [
    "- **Markdown cells** allow you to write text and images that aren't Python code.\n",
    "    - Markdown cells are always \"run\", except when you're editing them. \n",
    "    - Double-click this cell and see what happens!\n",
    "    - Read more about Markdown [here](https://www.markdownguide.org/cheat-sheet/)."
   ]
  },
  {
   "cell_type": "markdown",
   "id": "fec3de95",
   "metadata": {
    "deletable": true,
    "editable": true,
    "slideshow": {
     "slide_type": "slide"
    }
   },
   "source": [
    "<center><img src='imgs/mdcell.png' width=90%>A code cell and Markdown cell, before and after being \"run\".</center>"
   ]
  },
  {
   "cell_type": "markdown",
   "id": "8aade08f",
   "metadata": {
    "deletable": true,
    "editable": true,
    "slideshow": {
     "slide_type": "slide"
    }
   },
   "source": [
    "### Using Python as a calculator"
   ]
  },
  {
   "cell_type": "markdown",
   "id": "c17cd672",
   "metadata": {
    "deletable": true,
    "editable": true,
    "slideshow": {
     "slide_type": "fragment"
    }
   },
   "source": [
    "- To familarize ourselves with the notebook environment, let's run a few code cells involving arithmetic expressions. "
   ]
  },
  {
   "cell_type": "markdown",
   "id": "1fc87a20",
   "metadata": {
    "deletable": true,
    "editable": true,
    "slideshow": {
     "slide_type": "fragment"
    }
   },
   "source": [
    "- To run a code cell, **hit `shift` + `enter` (or `shift` + `return`) on your keyboard (strongly preferred)**."
   ]
  },
  {
   "cell_type": "code",
   "execution_count": null,
   "id": "91f2f32b",
   "metadata": {
    "deletable": true,
    "editable": true
   },
   "outputs": [],
   "source": [
    "# When you run this cell, the value of the expression appears, but isn't saved anywhere!\n",
    "# These are comments, by the way.\n",
    "..."
   ]
  },
  {
   "cell_type": "code",
   "execution_count": null,
   "id": "c5f65d11",
   "metadata": {
    "deletable": true,
    "editable": true
   },
   "outputs": [],
   "source": [
    "# Integer division.\n",
    "..."
   ]
  },
  {
   "cell_type": "code",
   "execution_count": null,
   "id": "8b911e25",
   "metadata": {
    "deletable": true,
    "editable": true,
    "scrolled": true
   },
   "outputs": [],
   "source": [
    "..."
   ]
  },
  {
   "cell_type": "code",
   "execution_count": null,
   "id": "5447bedc",
   "metadata": {
    "deletable": true,
    "editable": true
   },
   "outputs": [],
   "source": [
    "# Why do we only see one line of output?\n",
    "...\n",
    "..."
   ]
  },
  {
   "cell_type": "code",
   "execution_count": null,
   "id": "ad99657e",
   "metadata": {
    "deletable": true,
    "editable": true
   },
   "outputs": [],
   "source": [
    "# Strings can be created using single, double, or triple quotes.\n",
    "# There's no difference between a string and a char.\n",
    "..."
   ]
  },
  {
   "cell_type": "code",
   "execution_count": null,
   "id": "800bec88",
   "metadata": {
    "deletable": true,
    "editable": true
   },
   "outputs": [],
   "source": [
    "..."
   ]
  },
  {
   "cell_type": "code",
   "execution_count": null,
   "id": "2ca4f524",
   "metadata": {
    "deletable": true,
    "editable": true
   },
   "outputs": [],
   "source": [
    "# Put ? after the name of a function to see its documentation inline.\n",
    "# All notebook interfaces support tab for autocompletion, too.\n",
    "round?"
   ]
  },
  {
   "cell_type": "markdown",
   "id": "7bbfaa10",
   "metadata": {
    "deletable": true,
    "editable": true,
    "slideshow": {
     "slide_type": "slide"
    }
   },
   "source": [
    "## Example: Trends in baby names 👶\n",
    "\n",
    "---\n",
    "\n",
    "To wrap up, we'll show you a cool example of the sort of analysis you'll soon be able to do. Don't worry about any of the details."
   ]
  },
  {
   "cell_type": "markdown",
   "id": "47201725",
   "metadata": {
    "deletable": true,
    "editable": true,
    "slideshow": {
     "slide_type": "slide"
    }
   },
   "source": [
    "### Social Security's Top 10 Baby Names of 2023"
   ]
  },
  {
   "cell_type": "markdown",
   "id": "75a5b896",
   "metadata": {
    "deletable": true,
    "editable": true,
    "slideshow": {
     "slide_type": "fragment"
    }
   },
   "source": [
    "- The [US Social Security Administration](https://www.ssa.gov/oact/babynames/index.html) releases an article each year listing the most popular baby names.<br><small>The 2024 list isn't public yet.</small>"
   ]
  },
  {
   "cell_type": "code",
   "execution_count": null,
   "id": "d13faed5",
   "metadata": {
    "deletable": true,
    "editable": true,
    "slideshow": {
     "slide_type": "-"
    }
   },
   "outputs": [],
   "source": [
    "YouTubeVideo('1HUjlpHI5us')"
   ]
  },
  {
   "cell_type": "markdown",
   "id": "698f6133",
   "metadata": {
    "deletable": true,
    "editable": true,
    "slideshow": {
     "slide_type": "fragment"
    }
   },
   "source": [
    "- Let's see if we can verify these facts ourselves using raw data!"
   ]
  },
  {
   "cell_type": "markdown",
   "id": "964d099e",
   "metadata": {
    "deletable": true,
    "editable": true,
    "slideshow": {
     "slide_type": "slide"
    },
    "tags": []
   },
   "source": [
    "### The data"
   ]
  },
  {
   "cell_type": "markdown",
   "id": "b3ab5810",
   "metadata": {
    "deletable": true,
    "editable": true,
    "slideshow": {
     "slide_type": "fragment"
    }
   },
   "source": [
    "- What we're seeing below is a `pandas` DataFrame (fancy word for \"table\"). The DataFrame contains one row for every combination of `'Name'`, `'Sex'`, and `'Year'`."
   ]
  },
  {
   "cell_type": "code",
   "execution_count": null,
   "id": "afbac62f",
   "metadata": {
    "deletable": true,
    "editable": true,
    "scrolled": true
   },
   "outputs": [],
   "source": [
    "baby = pd.read_csv('data/baby.csv')\n",
    "baby"
   ]
  },
  {
   "cell_type": "markdown",
   "id": "3242668b",
   "metadata": {
    "deletable": true,
    "editable": true,
    "slideshow": {
     "slide_type": "fragment"
    }
   },
   "source": [
    "- For instance, it's telling us that in 2022, there were 16573 female babies born with the name Olivia.<br><small>We don't have information for 2022 or 2023, sadly.</small>"
   ]
  },
  {
   "cell_type": "markdown",
   "id": "cf21c747",
   "metadata": {
    "deletable": true,
    "editable": true,
    "slideshow": {
     "slide_type": "slide"
    }
   },
   "source": [
    "### How many babies are in the dataset?"
   ]
  },
  {
   "cell_type": "code",
   "execution_count": null,
   "id": "a5170c6f",
   "metadata": {
    "deletable": true,
    "editable": true
   },
   "outputs": [],
   "source": [
    "..."
   ]
  },
  {
   "cell_type": "markdown",
   "id": "7dbd9122",
   "metadata": {
    "deletable": true,
    "editable": true,
    "slideshow": {
     "slide_type": "slide"
    }
   },
   "source": [
    "### How many babies were recorded in the dataset each year?"
   ]
  },
  {
   "cell_type": "code",
   "execution_count": null,
   "id": "f92d588d",
   "metadata": {
    "deletable": true,
    "editable": true,
    "scrolled": true
   },
   "outputs": [],
   "source": [
    "..."
   ]
  },
  {
   "cell_type": "code",
   "execution_count": null,
   "id": "f8048204",
   "metadata": {
    "deletable": true,
    "editable": true
   },
   "outputs": [],
   "source": [
    "..."
   ]
  },
  {
   "cell_type": "markdown",
   "id": "34373661",
   "metadata": {
    "deletable": true,
    "editable": true,
    "slideshow": {
     "slide_type": "slide"
    }
   },
   "source": [
    "### What were the most common names in 2022?"
   ]
  },
  {
   "cell_type": "code",
   "execution_count": null,
   "id": "4336dff8",
   "metadata": {
    "deletable": true,
    "editable": true
   },
   "outputs": [],
   "source": [
    "..."
   ]
  },
  {
   "cell_type": "code",
   "execution_count": null,
   "id": "92c79ad9",
   "metadata": {
    "deletable": true,
    "editable": true
   },
   "outputs": [],
   "source": [
    "..."
   ]
  },
  {
   "cell_type": "markdown",
   "id": "60068bd1",
   "metadata": {
    "deletable": true,
    "editable": true,
    "slideshow": {
     "slide_type": "slide"
    },
    "tags": []
   },
   "source": [
    "### What about trends in individual names?"
   ]
  },
  {
   "cell_type": "code",
   "execution_count": null,
   "id": "58ffe4a4",
   "metadata": {
    "deletable": true,
    "editable": true
   },
   "outputs": [],
   "source": [
    "..."
   ]
  },
  {
   "cell_type": "code",
   "execution_count": null,
   "id": "b995925b",
   "metadata": {
    "deletable": true,
    "editable": true
   },
   "outputs": [],
   "source": [
    "..."
   ]
  },
  {
   "cell_type": "code",
   "execution_count": null,
   "id": "b55e54e3",
   "metadata": {
    "deletable": true,
    "editable": true,
    "slideshow": {
     "slide_type": "slide"
    }
   },
   "outputs": [],
   "source": [
    "def name_graph(name):\n",
    "    ..."
   ]
  },
  {
   "cell_type": "code",
   "execution_count": null,
   "id": "a31c97db",
   "metadata": {
    "deletable": true,
    "editable": true
   },
   "outputs": [],
   "source": [
    "name_graph('Suraj')"
   ]
  },
  {
   "cell_type": "markdown",
   "id": "169a62ea",
   "metadata": {
    "deletable": true,
    "editable": true,
    "slideshow": {
     "slide_type": "slide"
    }
   },
   "source": [
    "### What about your names?"
   ]
  },
  {
   "cell_type": "code",
   "execution_count": null,
   "id": "5bf8b8c4",
   "metadata": {
    "deletable": true,
    "editable": true
   },
   "outputs": [],
   "source": [
    "# The first names of everyone in the class!\n",
    "class_first = np.load('data/sp25-names.npy', allow_pickle=True)\n",
    "class_first"
   ]
  },
  {
   "cell_type": "code",
   "execution_count": null,
   "id": "ac8f1b7f",
   "metadata": {
    "deletable": true,
    "editable": true
   },
   "outputs": [],
   "source": [
    "dropdown_names = widgets.Dropdown(options=class_first, value='Suraj')\n",
    "def dropdown_names_handler(change):\n",
    "    if change['name'] == 'value' and (change['new'] != change['old']):\n",
    "        clear_output()\n",
    "        display(dropdown_names)\n",
    "        name_graph(change['new'])\n",
    "display(dropdown_names)\n",
    "name_graph('Suraj')\n",
    "dropdown_names.observe(dropdown_names_handler)"
   ]
  }
 ],
 "metadata": {
  "celltoolbar": "None",
  "kernelspec": {
   "display_name": "Python 3 (ipykernel)",
   "language": "python",
   "name": "python3"
  },
  "language_info": {
   "codemirror_mode": {
    "name": "ipython",
    "version": 3
   },
   "file_extension": ".py",
   "mimetype": "text/x-python",
   "name": "python",
   "nbconvert_exporter": "python",
   "pygments_lexer": "ipython3",
   "version": "3.10.16"
  },
  "livereveal": {
   "scroll": true
  },
  "rise": {
   "transition": "none"
  }
 },
 "nbformat": 4,
 "nbformat_minor": 5
}
