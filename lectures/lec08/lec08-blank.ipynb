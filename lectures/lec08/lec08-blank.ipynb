{
 "cells": [
  {
   "cell_type": "code",
   "execution_count": null,
   "id": "a7acaf30",
   "metadata": {
    "deletable": true,
    "editable": true,
    "slideshow": {
     "slide_type": "skip"
    },
    "tags": []
   },
   "outputs": [],
   "source": [
    "from lec_utils import *"
   ]
  },
  {
   "cell_type": "markdown",
   "id": "bbde0fac",
   "metadata": {
    "deletable": true,
    "editable": true,
    "slideshow": {
     "slide_type": "slide"
    },
    "tags": []
   },
   "source": [
    "\n",
    "<div class=\"alert alert-info\" markdown=\"1\">\n",
    "\n",
    "#### Lecture 8\n",
    "\n",
    "# Web Scraping and APIs\n",
    "\n",
    "### EECS 398: Practical Data Science, Spring 2025\n",
    "\n",
    "<small><a style=\"text-decoration: none\" href=\"https://practicaldsc.org\">practicaldsc.org</a> • <a style=\"text-decoration: none\" href=\"https://github.com/practicaldsc/sp25\">github.com/practicaldsc/sp25</a> • 📣 See latest announcements [**here on Ed**](https://edstem.org/us/courses/78535/discussion/6647877) </small>\n",
    "    \n",
    "</div>\n"
   ]
  },
  {
   "cell_type": "markdown",
   "id": "58159237",
   "metadata": {
    "deletable": true,
    "editable": true,
    "slideshow": {
     "slide_type": "slide"
    }
   },
   "source": [
    "### Agenda 📆\n",
    "\n",
    "- Introduction to HTTP.\n",
    "- The structure of HTML.\n",
    "- Parsing HTML.\n",
    "- Example: Scraping quotes 💬.\n",
    "- APIs and JSON."
   ]
  },
  {
   "cell_type": "markdown",
   "id": "803f2550",
   "metadata": {
    "deletable": true,
    "editable": true,
    "slideshow": {
     "slide_type": "slide"
    }
   },
   "source": [
    "## Introduction to HTTP\n",
    "\n",
    "---"
   ]
  },
  {
   "cell_type": "markdown",
   "id": "795cf4b3",
   "metadata": {
    "deletable": true,
    "editable": true,
    "slideshow": {
     "slide_type": "slide"
    }
   },
   "source": [
    "### Data sources"
   ]
  },
  {
   "cell_type": "markdown",
   "id": "00aa3a1e",
   "metadata": {
    "deletable": true,
    "editable": true,
    "slideshow": {
     "slide_type": "fragment"
    }
   },
   "source": [
    "- Often, the data you need doesn't exist in \"clean\" `.csv` files."
   ]
  },
  {
   "cell_type": "markdown",
   "id": "e337571d",
   "metadata": {
    "deletable": true,
    "editable": true,
    "slideshow": {
     "slide_type": "fragment"
    }
   },
   "source": [
    "- **Solution**: Collect your own data from the internet!<br><small>For most questions you can think of, the answer exists somewhere on the internet. If not, you can run our own survey – also on the internet!</small>"
   ]
  },
  {
   "cell_type": "markdown",
   "id": "549773c8",
   "metadata": {
    "deletable": true,
    "editable": true,
    "slideshow": {
     "slide_type": "skip"
    }
   },
   "source": [
    "<div class=\"alert alert-danger\">\n",
    "    \n",
    "#### Reference Slide\n",
    "\n",
    "### Manual copy-pasting\n",
    "    \n",
    "</div>"
   ]
  },
  {
   "cell_type": "markdown",
   "id": "5a13235c",
   "metadata": {
    "deletable": true,
    "editable": true,
    "slideshow": {
     "slide_type": "skip"
    }
   },
   "source": [
    "- If data is already nicely formatted in a table online, sometimes we can easily copy it and paste it into a `.csv` or `.tsv` file.<br><small>`.tsv` stands for \"tab-separated values\", just like `.csv` stands for \"comma-separated values.\"</small> "
   ]
  },
  {
   "cell_type": "markdown",
   "id": "2b0c0f1c",
   "metadata": {
    "deletable": true,
    "editable": true,
    "slideshow": {
     "slide_type": "skip"
    }
   },
   "source": [
    "- For example, open the 2024 Michigan Football schedule [**here**](https://mgoblue.com/sports/football/schedule) and click \"Text Only\".\n",
    "\n",
    "\n",
    "<center><img src=\"imgs/mich-schedule.png\" width=700><br><small>This is what you should see.</small></center>"
   ]
  },
  {
   "cell_type": "markdown",
   "id": "985fe103",
   "metadata": {
    "deletable": true,
    "editable": true,
    "slideshow": {
     "slide_type": "skip"
    }
   },
   "source": [
    "- Copy the text in the table at the bottom and save it in a file named `2024-schedule.tsv` in your `data` folder.<br><small>You may need to do some minor reformatting in the `.tsv` file before this works.<br>**As a challenge**, see if you can find a way to do this entirely within your Terminal, i.e. without opening a text editor!</small>"
   ]
  },
  {
   "cell_type": "code",
   "execution_count": null,
   "id": "7ef096aa",
   "metadata": {
    "deletable": true,
    "editable": true,
    "slideshow": {
     "slide_type": "skip"
    }
   },
   "outputs": [],
   "source": [
    "schedule = ...\n",
    "schedule.head()"
   ]
  },
  {
   "cell_type": "markdown",
   "id": "e8a9c77f",
   "metadata": {
    "deletable": true,
    "editable": true,
    "slideshow": {
     "slide_type": "skip"
    }
   },
   "source": [
    "- For Wikipedia specifically, you can use [Wikitable2CSV](https://wikitable2csv.ggor.de/), which converts Wikipedia tables to `.csv` files for you."
   ]
  },
  {
   "cell_type": "markdown",
   "id": "49bd4de6",
   "metadata": {
    "deletable": true,
    "editable": true,
    "slideshow": {
     "slide_type": "slide"
    }
   },
   "source": [
    "### Programatically accessing data"
   ]
  },
  {
   "cell_type": "markdown",
   "id": "c53c5d95",
   "metadata": {
    "deletable": true,
    "editable": true,
    "slideshow": {
     "slide_type": "fragment"
    }
   },
   "source": [
    "- We won't always be able to copy-paste tables from online, and even when we can, it's not easily **reproducible**.<br><small>What if [mgoblue.com](https://mgoblue.com/sports/football/schedule) didn't have a \"Text Only\" option? Or what if the schedule changes – how can I prevent myself from having to copy-and-paste again?</small>"
   ]
  },
  {
   "cell_type": "markdown",
   "id": "eac2453d",
   "metadata": {
    "deletable": true,
    "editable": true,
    "slideshow": {
     "slide_type": "fragment"
    }
   },
   "source": [
    "- To programmatically download data from the internet, we'll need to use the **HTTP protocol**.<br><small>By \"programmatically\", we mean by writing code.</small>"
   ]
  },
  {
   "cell_type": "markdown",
   "id": "c175ba40",
   "metadata": {
    "deletable": true,
    "editable": true,
    "slideshow": {
     "slide_type": "fragment"
    }
   },
   "source": [
    "- We'll cover the essentials of how the internet works for the purposes of accessing data, but for more details, take [EECS 485](https://eecs485.org)."
   ]
  },
  {
   "cell_type": "markdown",
   "id": "3d63ce3f",
   "metadata": {
    "deletable": true,
    "editable": true,
    "slideshow": {
     "slide_type": "slide"
    }
   },
   "source": [
    "### The request-response model"
   ]
  },
  {
   "cell_type": "markdown",
   "id": "6d06f82a",
   "metadata": {
    "deletable": true,
    "editable": true,
    "slideshow": {
     "slide_type": "fragment"
    }
   },
   "source": [
    "- HTTP stands for **Hypertext Transfer Protocol**.<br><small>It was developed in 1989 by Tim Berners-Lee (and friends). The \"S\" in HTTPS stands for \"secure\".</small>"
   ]
  },
  {
   "cell_type": "markdown",
   "id": "89ff3a9d",
   "metadata": {
    "deletable": true,
    "editable": true,
    "slideshow": {
     "slide_type": "fragment"
    }
   },
   "source": [
    "- HTTP follows the **request-response** model, in which a <b><span style=\"color:blue\">request</span></b> is made by the <b><span style=\"color:blue\">client</span></b> and a <b><span style=\"color:orange\">response</span></b> is returned by the <b><span style=\"color:orange\">server</span></b>.\n",
    "\n",
    "\n",
    "\n",
    "<center><img src='imgs/req-response.png' width=500></center>"
   ]
  },
  {
   "cell_type": "markdown",
   "id": "8c536d67",
   "metadata": {
    "deletable": true,
    "editable": true,
    "slideshow": {
     "slide_type": "fragment"
    }
   },
   "source": [
    "- **Example**: YouTube search 🎥.\n",
    "    - Consider the following URL: https://www.youtube.com/results?search_query=luka+lakers+trade.\n",
    "    - Your web browser, a <b><span style=\"color:blue\">client</span></b>, makes an HTTP <b><span style=\"color:blue\">request</span></b> with a search query.\n",
    "    - The <b><span style=\"color:orange\">server</span></b>, YouTube, is a computer that is sitting somewhere else.\n",
    "    - The server returns a <b><span style=\"color:orange\">response</span></b> that contains the search results.\n",
    "    - **Note**: ?search_query=luka+lakers+trade is called a \"query string.\""
   ]
  },
  {
   "cell_type": "markdown",
   "id": "3e272331",
   "metadata": {
    "deletable": true,
    "editable": true,
    "slideshow": {
     "slide_type": "skip"
    }
   },
   "source": [
    "<div class=\"alert alert-danger\">\n",
    "    \n",
    "#### Reference Slide\n",
    "\n",
    "### Consequences of the request-response model\n",
    "    \n",
    "</div>"
   ]
  },
  {
   "cell_type": "markdown",
   "id": "c6ef52b4",
   "metadata": {
    "deletable": true,
    "editable": true,
    "slideshow": {
     "slide_type": "skip"
    }
   },
   "source": [
    "- When a request is sent to view content on a webpage, the server must:\n",
    "    - process your request (i.e. prepare data for the response).\n",
    "    - send content back to the client in its response."
   ]
  },
  {
   "cell_type": "markdown",
   "id": "3c3d051d",
   "metadata": {
    "deletable": true,
    "editable": true,
    "slideshow": {
     "slide_type": "skip"
    }
   },
   "source": [
    "- Remember, servers are computers.  Someone has to pay to keep these computers running.<br><small>**Every time you access a website, someone has to pay.**</small>"
   ]
  },
  {
   "cell_type": "markdown",
   "id": "991b1cb7",
   "metadata": {
    "deletable": true,
    "editable": true,
    "slideshow": {
     "slide_type": "skip"
    }
   },
   "source": [
    "- If you make too many requests, the server may block your IP address, or **you may even take down the website**!<br><small>A journalist scraped and accidentally took down the Cook County Inmate Locater, and as a result, inmate's families weren't able to contact them while the site was down.</small>"
   ]
  },
  {
   "cell_type": "markdown",
   "id": "3c184f68",
   "metadata": {
    "deletable": true,
    "editable": true,
    "slideshow": {
     "slide_type": "slide"
    }
   },
   "source": [
    "### HTTP request methods"
   ]
  },
  {
   "cell_type": "markdown",
   "id": "d292d2fd",
   "metadata": {
    "deletable": true,
    "editable": true,
    "slideshow": {
     "slide_type": "fragment"
    }
   },
   "source": [
    "- There are several types of request methods; see [Mozilla's web docs](https://developer.mozilla.org/en-US/docs/Web/HTTP/Methods) for a detailed list."
   ]
  },
  {
   "cell_type": "markdown",
   "id": "8134bc1f",
   "metadata": {
    "deletable": true,
    "editable": true,
    "slideshow": {
     "slide_type": "fragment"
    }
   },
   "source": [
    "- `GET` is used to request data **from** a specified resource.<br><small>Almost all of the requests we'll make in this class are `GET` requests.<br>To load websites, your web browser uses a lot of `GET` requests!</small>"
   ]
  },
  {
   "cell_type": "markdown",
   "id": "22ba7974",
   "metadata": {
    "deletable": true,
    "editable": true,
    "slideshow": {
     "slide_type": "fragment"
    }
   },
   "source": [
    "- `POST` is used to **send** data to the server. <br><small>For example, uploading a photo to Instagram or entering credit card information on Amazon.</small>"
   ]
  },
  {
   "cell_type": "markdown",
   "id": "ee6ad592",
   "metadata": {
    "deletable": true,
    "editable": true,
    "slideshow": {
     "slide_type": "fragment"
    }
   },
   "source": [
    "- You can make requests directly in your Terminal using the `curl` method, which you'll learn more about in EECS 485. **Here, we'll make requests using the `requests` Python module.**<br><small>There are other packages that work similarly (e.g. `urllib`), but `requests` is arguably the easiest to use.</small>"
   ]
  },
  {
   "cell_type": "code",
   "execution_count": null,
   "id": "f3d6355f",
   "metadata": {
    "deletable": true,
    "editable": true
   },
   "outputs": [],
   "source": [
    "import requests"
   ]
  },
  {
   "cell_type": "markdown",
   "id": "c17dabf8",
   "metadata": {
    "deletable": true,
    "editable": true,
    "slideshow": {
     "slide_type": "slide"
    }
   },
   "source": [
    "### Example: `GET` requests via `requests`"
   ]
  },
  {
   "cell_type": "markdown",
   "id": "87e6e09e",
   "metadata": {
    "deletable": true,
    "editable": true,
    "slideshow": {
     "slide_type": "fragment"
    }
   },
   "source": [
    "- For example, let's try and learn more about the events listed on the Happening @ Michigan page, https://events.umich.edu."
   ]
  },
  {
   "cell_type": "code",
   "execution_count": null,
   "id": "68251e02",
   "metadata": {
    "deletable": true,
    "editable": true
   },
   "outputs": [],
   "source": [
    "res = ..."
   ]
  },
  {
   "cell_type": "markdown",
   "id": "727f7d54",
   "metadata": {
    "deletable": true,
    "editable": true,
    "slideshow": {
     "slide_type": "fragment"
    }
   },
   "source": [
    "- `res` is now a `Response` object."
   ]
  },
  {
   "cell_type": "code",
   "execution_count": null,
   "id": "6f877aed",
   "metadata": {
    "deletable": true,
    "editable": true
   },
   "outputs": [],
   "source": [
    "res"
   ]
  },
  {
   "cell_type": "markdown",
   "id": "15b56b09",
   "metadata": {
    "deletable": true,
    "editable": true,
    "slideshow": {
     "slide_type": "fragment"
    }
   },
   "source": [
    "- The `text` attribute of `res` is a string that containing the entire response."
   ]
  },
  {
   "cell_type": "code",
   "execution_count": null,
   "id": "90fc3ecf",
   "metadata": {
    "deletable": true,
    "editable": true
   },
   "outputs": [],
   "source": [
    "type(res.text)"
   ]
  },
  {
   "cell_type": "code",
   "execution_count": null,
   "id": "22631648",
   "metadata": {
    "deletable": true,
    "editable": true
   },
   "outputs": [],
   "source": [
    "len(res.text)"
   ]
  },
  {
   "cell_type": "code",
   "execution_count": null,
   "id": "cf46e3d2",
   "metadata": {
    "deletable": true,
    "editable": true
   },
   "outputs": [],
   "source": [
    "print(res.text[:2000])"
   ]
  },
  {
   "cell_type": "markdown",
   "id": "99cc7051",
   "metadata": {
    "deletable": true,
    "editable": true,
    "slideshow": {
     "slide_type": "fragment"
    }
   },
   "source": [
    "- The response is a string containing **HTML**, the markup language used to format information on the internet. The events data we're looking for is in `res.text` _somewhere_, but we have to search for it and extract it."
   ]
  },
  {
   "cell_type": "markdown",
   "id": "d068c0cf",
   "metadata": {
    "deletable": true,
    "editable": true,
    "slideshow": {
     "slide_type": "skip"
    }
   },
   "source": [
    "<div class=\"alert alert-danger\" markdown=\"1\">\n",
    "\n",
    "#### Reference Slide\n",
    "\n",
    "### Example: `POST` requests via `requests`"
   ]
  },
  {
   "cell_type": "markdown",
   "id": "5778590c",
   "metadata": {
    "deletable": true,
    "editable": true,
    "slideshow": {
     "slide_type": "skip"
    }
   },
   "source": [
    "- The following call to `requests.post` makes a `POST` request to https://httpbin.org/post, with a `'name'` parameter of `'Go Blue'`."
   ]
  },
  {
   "cell_type": "code",
   "execution_count": null,
   "id": "a2d4a951",
   "metadata": {
    "deletable": true,
    "editable": true,
    "slideshow": {
     "slide_type": "skip"
    }
   },
   "outputs": [],
   "source": [
    "post_res = requests.post('https://httpbin.org/post',\n",
    "                         data={'name': 'Go Blue'})\n",
    "post_res"
   ]
  },
  {
   "cell_type": "code",
   "execution_count": null,
   "id": "eb6be1de",
   "metadata": {
    "deletable": true,
    "editable": true,
    "scrolled": false,
    "slideshow": {
     "slide_type": "skip"
    }
   },
   "outputs": [],
   "source": [
    "post_res.text"
   ]
  },
  {
   "cell_type": "markdown",
   "id": "605ea00f",
   "metadata": {
    "deletable": true,
    "editable": true,
    "slideshow": {
     "slide_type": "skip"
    }
   },
   "source": [
    "- Now, the response is a string describing a JSON object. We'll learn how to work with these later in the lecture, but for now, note that we can use the `.json()` method to convert it to a Python dictionary."
   ]
  },
  {
   "cell_type": "code",
   "execution_count": null,
   "id": "f1050893",
   "metadata": {
    "deletable": true,
    "editable": true,
    "slideshow": {
     "slide_type": "skip"
    }
   },
   "outputs": [],
   "source": [
    "post_res.json()"
   ]
  },
  {
   "cell_type": "markdown",
   "id": "57ab52af",
   "metadata": {
    "deletable": true,
    "editable": true,
    "slideshow": {
     "slide_type": "skip"
    }
   },
   "source": [
    "- What happens when we try and make a `POST` request somewhere where we're unable to?"
   ]
  },
  {
   "cell_type": "code",
   "execution_count": null,
   "id": "3b441288",
   "metadata": {
    "deletable": true,
    "editable": true,
    "scrolled": true,
    "slideshow": {
     "slide_type": "skip"
    }
   },
   "outputs": [],
   "source": [
    "yt_res = requests.post('https://youtube.com',\n",
    "                       data={'name': 'Go Blue'})\n",
    "yt_res"
   ]
  },
  {
   "cell_type": "code",
   "execution_count": null,
   "id": "cc9eb89f",
   "metadata": {
    "deletable": true,
    "editable": true,
    "scrolled": false,
    "slideshow": {
     "slide_type": "skip"
    }
   },
   "outputs": [],
   "source": [
    "# This takes the text of yt_res and renders it as an HTML document within our notebook!\n",
    "HTML(yt_res.text)"
   ]
  },
  {
   "cell_type": "markdown",
   "id": "21b5de54",
   "metadata": {
    "deletable": true,
    "editable": true,
    "slideshow": {
     "slide_type": "slide"
    }
   },
   "source": [
    "### HTTP status codes"
   ]
  },
  {
   "cell_type": "markdown",
   "id": "19b19912",
   "metadata": {
    "deletable": true,
    "editable": true,
    "slideshow": {
     "slide_type": "fragment"
    }
   },
   "source": [
    "- When we **request** data from a website, the server includes an **HTTP status code** in the response.  "
   ]
  },
  {
   "cell_type": "markdown",
   "id": "e12c6d79",
   "metadata": {
    "deletable": true,
    "editable": true,
    "slideshow": {
     "slide_type": "fragment"
    }
   },
   "source": [
    "* The most common status code is `200`, which means there were no issues.  "
   ]
  },
  {
   "cell_type": "code",
   "execution_count": null,
   "id": "4f8f758c",
   "metadata": {
    "deletable": true,
    "editable": true
   },
   "outputs": [],
   "source": [
    "res"
   ]
  },
  {
   "cell_type": "markdown",
   "id": "15365d84",
   "metadata": {
    "deletable": true,
    "editable": true,
    "slideshow": {
     "slide_type": "fragment"
    }
   },
   "source": [
    "* Other times, you will see a different status code, describing some sort of event or error.\n",
    "    - Common examples: `403`: forbidden, `404`: page not found, `500`: internal server error.\n",
    "    - [The first digit of a status describes its general \"category.\"](https://developer.mozilla.org/en-US/docs/Web/HTTP/Status)"
   ]
  },
  {
   "cell_type": "markdown",
   "id": "1430591b",
   "metadata": {
    "deletable": true,
    "editable": true,
    "slideshow": {
     "slide_type": "fragment"
    }
   },
   "source": [
    "- For example, the CSE faculty page doesn't let us scrape it.<br><small>Nothing is stopping us from opening Chrome, clicking \"View Page Source\", and manually downloading the HTML, though!</small>"
   ]
  },
  {
   "cell_type": "code",
   "execution_count": null,
   "id": "b34f8130",
   "metadata": {
    "deletable": true,
    "editable": true
   },
   "outputs": [],
   "source": [
    "res = requests.get('https://cse.engin.umich.edu/people/faculty/')\n",
    "res.status_code"
   ]
  },
  {
   "cell_type": "markdown",
   "id": "bb5c21ac",
   "metadata": {
    "deletable": true,
    "editable": true,
    "slideshow": {
     "slide_type": "fragment"
    }
   },
   "source": [
    "- As an aside, you can render HTML directly in a notebook using the `HTML` function.<br><small>We already imported this function by running `from IPython.display import HTML`.</small>"
   ]
  },
  {
   "cell_type": "code",
   "execution_count": null,
   "id": "17addef0",
   "metadata": {
    "deletable": true,
    "editable": true
   },
   "outputs": [],
   "source": [
    "HTML(res.text)"
   ]
  },
  {
   "cell_type": "markdown",
   "id": "d76ebf0c",
   "metadata": {
    "deletable": true,
    "editable": true,
    "slideshow": {
     "slide_type": "skip"
    }
   },
   "source": [
    "<div class=\"alert alert-danger\" markdown=\"1\">\n",
    "\n",
    "#### Reference Slide\n",
    "\n",
    "### Handling unsuccessful requests"
   ]
  },
  {
   "cell_type": "markdown",
   "id": "afe405ec",
   "metadata": {
    "deletable": true,
    "editable": true,
    "slideshow": {
     "slide_type": "skip"
    }
   },
   "source": [
    "- Sometimes, websites either don't want you to scrape, or prohibit you from scraping.<br><small>It's best practice to check the website's `robots.txt` file, where they specify who is and isn't allowed to scrape.<br>As we saw on the previous slide, the CSE website blocks us from scraping it, as we got a 403: Forbidden status code.</small>"
   ]
  },
  {
   "cell_type": "markdown",
   "id": "fc0d77e1",
   "metadata": {
    "deletable": true,
    "editable": true,
    "slideshow": {
     "slide_type": "skip"
    }
   },
   "source": [
    "- Some unsuccessful requests can be re-tried, depending on the issue.<br><small>A good first step is to wait a little, then try again.</small>"
   ]
  },
  {
   "cell_type": "markdown",
   "id": "b861667e",
   "metadata": {
    "deletable": true,
    "editable": true,
    "slideshow": {
     "slide_type": "skip"
    }
   },
   "source": [
    "- A common issue is that you're making too many requests to a particular server at a time. If this is the case, you are being **rate-limited**; one solution is to increase the time between each request.<br><small>You can even do this programatically, say, using `time.sleep`.</small>"
   ]
  },
  {
   "cell_type": "markdown",
   "id": "9b85aae2",
   "metadata": {
    "deletable": true,
    "editable": true,
    "slideshow": {
     "slide_type": "skip"
    }
   },
   "source": [
    "- See [LDS 14](https://learningds.org/ch/14/web_http.html) for more examples."
   ]
  },
  {
   "cell_type": "markdown",
   "id": "9f4eb372",
   "metadata": {
    "deletable": true,
    "editable": true,
    "slideshow": {
     "slide_type": "slide"
    }
   },
   "source": [
    "## The structure of HTML\n",
    "\n",
    "---"
   ]
  },
  {
   "cell_type": "markdown",
   "id": "c0fb32bc",
   "metadata": {
    "deletable": true,
    "editable": true,
    "slideshow": {
     "slide_type": "slide"
    }
   },
   "source": [
    "### Scraping vs. APIs"
   ]
  },
  {
   "cell_type": "markdown",
   "id": "71dd4097",
   "metadata": {
    "deletable": true,
    "editable": true,
    "slideshow": {
     "slide_type": "fragment"
    }
   },
   "source": [
    "- There are two different ways of programmatically accessing data from the internet: either **by scraping**, or **through an API**."
   ]
  },
  {
   "cell_type": "markdown",
   "id": "807fd93d",
   "metadata": {
    "deletable": true,
    "editable": true,
    "slideshow": {
     "slide_type": "fragment"
    }
   },
   "source": [
    "- **Scraping** is the act of emulating a web browser to access its HTML source code.<small>When scraping, you get back data as HTML and have to **parse** that HTML to extract the information you want. Parse means to \"extract meaning from a sequence of symbols\".\n",
    "\n",
    "<center>\n",
    "    \n",
    "| ✅ Pros | ❌ Cons |\n",
    "| --- | --- |\n",
    "| If the website exists, you can usually scrape it.<br><small>This is what Google does!</small> | Scraping and parsing code gets **messy**, since <br>HTML documents contain lots of content unrelated to the<br>information you're trying to find (advertisements, formatting).<br><br>When the website's structure changes, your code will need to, too.<br><br>The site owner may not _want_ you to scrape it!</small>\n",
    "    \n",
    "    \n",
    "</center>"
   ]
  },
  {
   "cell_type": "markdown",
   "id": "d2985860",
   "metadata": {
    "deletable": true,
    "editable": true,
    "slideshow": {
     "slide_type": "fragment"
    }
   },
   "source": [
    "- An application programming interface, or **API**, is a service that makes data directly available to the user in a **convenient** fashion. Usually, APIs give us code back as JSON objects.<br><small>APIs are made by organizations that host data. For example, X (formally known as Twitter) has an [API](https://developer.twitter.com/en/docs/twitter-api), as does [OpenAI](https://platform.openai.com/docs/overview?lang=python), the creators of ChatGPT.</small>\n",
    "\n",
    "\n",
    "| ✅ Pros | ❌ Cons |\n",
    "| --- | --- |\n",
    "| If an API exists, the data are usually clean, up-to-date, and ready to use.<br><br>The presence of an API signals that the data provider<br> is okay with you using their data.<br><br>The data provider can plan and regulate data usage.<br><small>Sometimes, you may need to create an API \"key\",<br>which is like an account for using the API.<br>APIs can often give you access to data that isn't publicly available.</small> | APIs don't always exist for the data you want! |"
   ]
  },
  {
   "cell_type": "markdown",
   "id": "29bf50a5",
   "metadata": {
    "deletable": true,
    "editable": true,
    "slideshow": {
     "slide_type": "fragment"
    }
   },
   "source": [
    "- We'll start by learning how to scrape; we'll discuss APIs at the end of the lecture."
   ]
  },
  {
   "cell_type": "markdown",
   "id": "17e5935d",
   "metadata": {
    "deletable": true,
    "editable": true,
    "slideshow": {
     "slide_type": "slide"
    }
   },
   "source": [
    "### What is HTML?"
   ]
  },
  {
   "cell_type": "markdown",
   "id": "9678826c",
   "metadata": {
    "deletable": true,
    "editable": true,
    "slideshow": {
     "slide_type": "fragment"
    }
   },
   "source": [
    "- HTML (Hypertext Markup Language) is **the** basic building block of the internet. "
   ]
  },
  {
   "cell_type": "markdown",
   "id": "cfc9e66d",
   "metadata": {
    "deletable": true,
    "editable": true,
    "slideshow": {
     "slide_type": "fragment"
    }
   },
   "source": [
    "- It is a **markup language**, not a programming language.<br><small>Markup languages specify what something should _look like_, while programming languages specify what something should _calculate_ or _do_.</small>"
   ]
  },
  {
   "cell_type": "markdown",
   "id": "0eb0af6e",
   "metadata": {
    "deletable": true,
    "editable": true,
    "slideshow": {
     "slide_type": "fragment"
    }
   },
   "source": [
    "- Specifically, it defines the content and layout of a webpage, and as such, it is what you get back when you scrape a webpage."
   ]
  },
  {
   "cell_type": "markdown",
   "id": "c3e7c993",
   "metadata": {
    "deletable": true,
    "editable": true,
    "slideshow": {
     "slide_type": "fragment"
    }
   },
   "source": [
    "- We're only going to learn enough HTML to help us scrape information.<br><small>See [this tutorial](https://developer.mozilla.org/en-US/docs/Learn/Getting_started_with_the_web/HTML_basics) for more details on HTML.</small>"
   ]
  },
  {
   "cell_type": "markdown",
   "id": "43d19c05",
   "metadata": {
    "deletable": true,
    "editable": true,
    "slideshow": {
     "slide_type": "slide"
    }
   },
   "source": [
    "### An example webpage"
   ]
  },
  {
   "cell_type": "markdown",
   "id": "659d1b5d",
   "metadata": {
    "deletable": true,
    "editable": true,
    "slideshow": {
     "slide_type": "fragment"
    }
   },
   "source": [
    "- For instance, here's the source code of a very basic webpage."
   ]
  },
  {
   "cell_type": "code",
   "execution_count": null,
   "id": "703d1ee7",
   "metadata": {
    "deletable": true,
    "editable": true
   },
   "outputs": [],
   "source": [
    "html_string = '''\n",
    "<html>\n",
    "    <body>\n",
    "      <div id=\"content\">\n",
    "        <h1>Heading here</h1>\n",
    "        <p>My First paragraph</p>\n",
    "        <p>My <em>second</em> paragraph</p>\n",
    "        <hr>\n",
    "      </div>\n",
    "      <div id=\"nav\">\n",
    "        <ul>\n",
    "          <li>item 1</li>\n",
    "          <li>item 2</li>\n",
    "          <li>item 3</li>\n",
    "        </ul>\n",
    "      </div>\n",
    "    </body>\n",
    "</html>'''"
   ]
  },
  {
   "cell_type": "markdown",
   "id": "6407703c",
   "metadata": {
    "deletable": true,
    "editable": true,
    "slideshow": {
     "slide_type": "fragment"
    }
   },
   "source": [
    "- Here's what that webpage actually looks like:"
   ]
  },
  {
   "cell_type": "code",
   "execution_count": null,
   "id": "87b40c78",
   "metadata": {
    "deletable": true,
    "editable": true
   },
   "outputs": [],
   "source": [
    "HTML(html_string)"
   ]
  },
  {
   "cell_type": "markdown",
   "id": "5fbeca7b",
   "metadata": {
    "deletable": true,
    "editable": true,
    "slideshow": {
     "slide_type": "slide"
    }
   },
   "source": [
    "### The anatomy of HTML documents"
   ]
  },
  {
   "cell_type": "markdown",
   "id": "4790a4f1",
   "metadata": {
    "deletable": true,
    "editable": true,
    "slideshow": {
     "slide_type": "fragment"
    }
   },
   "source": [
    "- **HTML document**: The totality of markup that makes up a webpage.\n",
    "\n",
    "<center>\n",
    "\n",
    "<img src=\"imgs/webpage_anatomy.png\" width=500>\n",
    "\n",
    "</center>"
   ]
  },
  {
   "cell_type": "markdown",
   "id": "a0d06b93",
   "metadata": {
    "deletable": true,
    "editable": true,
    "slideshow": {
     "slide_type": "fragment"
    }
   },
   "source": [
    "- **Document Object Model (DOM)**: The internal representation of an HTML document as a hierarchical **tree** structure.\n",
    "\n",
    "<center><img src=\"imgs/dom_tree.png\" width=500></center>"
   ]
  },
  {
   "cell_type": "markdown",
   "id": "a9a4f048",
   "metadata": {
    "deletable": true,
    "editable": true,
    "slideshow": {
     "slide_type": "fragment"
    }
   },
   "source": [
    "- **Why do we care about the DOM?** Extracting information out of an HTML document will involve **traversing** this tree."
   ]
  },
  {
   "cell_type": "markdown",
   "id": "e461b03d",
   "metadata": {
    "deletable": true,
    "editable": true,
    "slideshow": {
     "slide_type": "fragment"
    }
   },
   "source": [
    "- **HTML element**: An object in the DOM, such as a paragraph, header, or title."
   ]
  },
  {
   "cell_type": "markdown",
   "id": "407dc7bc",
   "metadata": {
    "deletable": true,
    "editable": true,
    "slideshow": {
     "slide_type": "fragment"
    }
   },
   "source": [
    "- **HTML tags**: Markers that denote the **start** and **end** of an element, such as `<p>` and `</p>`.<br><small>See the attached reference slides for examples of common tags.</small>"
   ]
  },
  {
   "cell_type": "markdown",
   "id": "c3701a03",
   "metadata": {
    "deletable": true,
    "editable": true,
    "slideshow": {
     "slide_type": "fragment"
    }
   },
   "source": [
    "- **Attributes**: Some tags have **attributes**, which further specify how to display information.\n",
    "\n",
    "```html\n",
    "        <p style=\"color: red\">Look at my red text!</p>\n",
    "```"
   ]
  },
  {
   "cell_type": "markdown",
   "id": "f836b5ea",
   "metadata": {
    "deletable": true,
    "editable": true,
    "slideshow": {
     "slide_type": "skip"
    }
   },
   "source": [
    "<div class=\"alert alert-danger\" markdown=\"1\">\n",
    "\n",
    "#### Reference Slide\n",
    "\n",
    "### Useful tags to know"
   ]
  },
  {
   "cell_type": "markdown",
   "id": "f236a9fe",
   "metadata": {
    "deletable": true,
    "editable": true,
    "slideshow": {
     "slide_type": "skip"
    }
   },
   "source": [
    "- Often, the information we're looking for is nestled in one of these tags:\n",
    "\n",
    "|Element|Description|\n",
    "|:---|:---|\n",
    "|`<html>`|the document|\n",
    "|`<head>`|the header|\n",
    "|`<body>`|the body|\n",
    "|`<div>` |a logical division of the document|\n",
    "|`<span>`|an *inline* logical division|\n",
    "|`<p>`|a paragraph|\n",
    "| `<a>`| an anchor (hyperlink)|\n",
    "|`<h1>, <h2>, ...`| header(s) |\n",
    "|`<img>`| an image |"
   ]
  },
  {
   "cell_type": "markdown",
   "id": "d4a9b67e",
   "metadata": {
    "deletable": true,
    "editable": true,
    "slideshow": {
     "slide_type": "skip"
    }
   },
   "source": [
    "- There are many, many more. See [this article](https://en.wikipedia.org/wiki/HTML_element) for examples."
   ]
  },
  {
   "cell_type": "markdown",
   "id": "b0fdeba9",
   "metadata": {
    "deletable": true,
    "editable": true,
    "slideshow": {
     "slide_type": "skip"
    }
   },
   "source": [
    "<div class=\"alert alert-danger\" markdown=\"1\">\n",
    "\n",
    "#### Reference Slide\n",
    "\n",
    "### Example tags and attributes"
   ]
  },
  {
   "cell_type": "markdown",
   "id": "b542a3d9",
   "metadata": {
    "deletable": true,
    "editable": true,
    "slideshow": {
     "slide_type": "skip"
    }
   },
   "source": [
    "- Tags can have **attributes**, which further specify how to display information on a webpage."
   ]
  },
  {
   "cell_type": "markdown",
   "id": "d201c445",
   "metadata": {
    "deletable": true,
    "editable": true,
    "slideshow": {
     "slide_type": "skip"
    }
   },
   "source": [
    "- For instance, `<img>` tags have `src` and `alt` attributes, among others:<br>\n",
    "\n",
    "```html\n",
    "        <img src=\"cool-visualization.png\" alt=\"My box plot that I'm super proud of.\" width=500>\n",
    "```"
   ]
  },
  {
   "cell_type": "markdown",
   "id": "8be33344",
   "metadata": {
    "deletable": true,
    "editable": true,
    "slideshow": {
     "slide_type": "skip"
    }
   },
   "source": [
    "- Hyperlinks have `href` attributes: \n",
    "\n",
    "```html\n",
    "        Click <a href=\"https://study.practicaldsc.org\">this link</a> to access past exams.\n",
    "```"
   ]
  },
  {
   "cell_type": "markdown",
   "id": "76abcc4f",
   "metadata": {
    "deletable": true,
    "editable": true,
    "slideshow": {
     "slide_type": "skip"
    }
   },
   "source": [
    "- The `<div>` tag is one of the more common tags. It defines a \"section\" of an HTML document, and is often used as a container for other HTML elements.<br><small>Think of `<div>`s like cells in Jupyter Notebooks.</small>\n",
    "    \n",
    "```html\n",
    "        <div class=\"background\">\n",
    "          <h3>This is a heading</h3>\n",
    "          <p>This is a paragraph.</p>\n",
    "        </div>\n",
    "```"
   ]
  },
  {
   "cell_type": "markdown",
   "id": "c6a2f2bf",
   "metadata": {
    "deletable": true,
    "editable": true,
    "slideshow": {
     "slide_type": "skip"
    }
   },
   "source": [
    "- Often, the information we're looking for is stored in an attribute!<br><small>You can imagine a situation where we want to get the URL behind a button, for example.</small>"
   ]
  },
  {
   "cell_type": "markdown",
   "id": "36ca3c9d",
   "metadata": {
    "deletable": true,
    "editable": true,
    "slideshow": {
     "slide_type": "slide"
    }
   },
   "source": [
    "<div class=\"alert alert-warning\">\n",
    "    <h3>Question 🤔 (Answer at <a style=\"text-decoration: none; color: #0066cc\" href=\"https://docs.google.com/forms/d/e/1FAIpQLSd4oliiZYeNh76jWy-arfEtoAkCrVSsobZxPwxifWggo3EO0Q/viewform\">practicaldsc.org/q</a>)</h3>\n",
    "    \n",
    "<small>Remember that you can always ask questions anonymously at the link above!</small>\n",
    "    \n",
    "What lingering questions do we have about the Document Object Model and the structure of HTML?"
   ]
  },
  {
   "cell_type": "markdown",
   "id": "ed8122b5",
   "metadata": {
    "deletable": true,
    "editable": true,
    "slideshow": {
     "slide_type": "slide"
    }
   },
   "source": [
    "## Parsing HTML\n",
    "\n",
    "---"
   ]
  },
  {
   "cell_type": "markdown",
   "id": "b480b121",
   "metadata": {
    "deletable": true,
    "editable": true,
    "slideshow": {
     "slide_type": "slide"
    }
   },
   "source": [
    "### Beautiful Soup 🍜"
   ]
  },
  {
   "cell_type": "markdown",
   "id": "9aae5f7d",
   "metadata": {
    "deletable": true,
    "editable": true,
    "slideshow": {
     "slide_type": "fragment"
    }
   },
   "source": [
    "- [Beautiful Soup 4](https://www.crummy.com/software/BeautifulSoup/bs4/doc/) is a Python HTML parser.<br><small>Remember, **parse** means to \"extract meaning from a sequence of symbols\"."
   ]
  },
  {
   "cell_type": "markdown",
   "id": "1a347304",
   "metadata": {
    "deletable": true,
    "editable": true,
    "slideshow": {
     "slide_type": "fragment"
    }
   },
   "source": [
    "- **Warning**: Beautiful Soup 4 and Beautiful Soup 3 work differently, so make sure you are using and looking at documentation for Beautiful Soup 4.<br><small>Rest assured, the `pds` conda environment already has Beautiful Soup 4 installed.</small>"
   ]
  },
  {
   "cell_type": "markdown",
   "id": "0ec3297d",
   "metadata": {
    "deletable": true,
    "editable": true,
    "slideshow": {
     "slide_type": "slide"
    }
   },
   "source": [
    "### Example HTML document"
   ]
  },
  {
   "cell_type": "markdown",
   "id": "952a3baa",
   "metadata": {
    "deletable": true,
    "editable": true,
    "slideshow": {
     "slide_type": "fragment"
    }
   },
   "source": [
    "- To start, we'll work with the source code for an HTML page with the DOM tree shown below:\n",
    "\n",
    "<center><img src=\"imgs/dom_tree_1.png\" width=600></center>"
   ]
  },
  {
   "cell_type": "markdown",
   "id": "b55b96b8",
   "metadata": {
    "deletable": true,
    "editable": true,
    "slideshow": {
     "slide_type": "fragment"
    }
   },
   "source": [
    "- This is the DOM tree of the HTML document `html_string` we created earlier."
   ]
  },
  {
   "cell_type": "code",
   "execution_count": null,
   "id": "29096056",
   "metadata": {
    "deletable": true,
    "editable": true,
    "slideshow": {
     "slide_type": "-"
    }
   },
   "outputs": [],
   "source": [
    "print(html_string)"
   ]
  },
  {
   "cell_type": "code",
   "execution_count": null,
   "id": "6f04b7bb",
   "metadata": {
    "deletable": true,
    "editable": true,
    "scrolled": true
   },
   "outputs": [],
   "source": [
    "HTML(html_string)"
   ]
  },
  {
   "cell_type": "markdown",
   "id": "a9038864",
   "metadata": {
    "deletable": true,
    "editable": true,
    "slideshow": {
     "slide_type": "slide"
    }
   },
   "source": [
    "### Instantiating `BeautifulSoup` objects"
   ]
  },
  {
   "cell_type": "markdown",
   "id": "3f607ac5",
   "metadata": {
    "deletable": true,
    "editable": true,
    "slideshow": {
     "slide_type": "fragment"
    }
   },
   "source": [
    "- `bs4`'s `BeautifulSoup` function takes in a string or file-like object representing HTML and returns a **parsed** document."
   ]
  },
  {
   "cell_type": "code",
   "execution_count": null,
   "id": "05064f2e",
   "metadata": {
    "deletable": true,
    "editable": true
   },
   "outputs": [],
   "source": [
    "# We also could have used:\n",
    "# import bs4\n",
    "# But, then we'd need to use bs4.BeautifulSoup every time.\n",
    "from bs4 import BeautifulSoup"
   ]
  },
  {
   "cell_type": "markdown",
   "id": "a510981e",
   "metadata": {
    "deletable": true,
    "editable": true,
    "slideshow": {
     "slide_type": "fragment"
    }
   },
   "source": [
    "- Normally, we pass the result of a `GET` request to `BeautifulSoup`, but here we will pass our hand-crafted `html_string`."
   ]
  },
  {
   "cell_type": "code",
   "execution_count": null,
   "id": "529415b6",
   "metadata": {
    "deletable": true,
    "editable": true
   },
   "outputs": [],
   "source": [
    "soup = ...\n",
    "soup"
   ]
  },
  {
   "cell_type": "code",
   "execution_count": null,
   "id": "de1f4a27",
   "metadata": {
    "deletable": true,
    "editable": true
   },
   "outputs": [],
   "source": [
    "type(soup)"
   ]
  },
  {
   "cell_type": "markdown",
   "id": "8979b2be",
   "metadata": {
    "deletable": true,
    "editable": true,
    "slideshow": {
     "slide_type": "fragment"
    }
   },
   "source": [
    "- `BeautifulSoup` objects have several useful attributes, e.g. `text`:"
   ]
  },
  {
   "cell_type": "code",
   "execution_count": null,
   "id": "555ff67f",
   "metadata": {
    "deletable": true,
    "editable": true
   },
   "outputs": [],
   "source": [
    "..."
   ]
  },
  {
   "cell_type": "markdown",
   "id": "161c6417",
   "metadata": {
    "deletable": true,
    "editable": true,
    "slideshow": {
     "slide_type": "slide"
    }
   },
   "source": [
    "### Finding elements in a BeautifulSoup object"
   ]
  },
  {
   "cell_type": "markdown",
   "id": "5a901ebe",
   "metadata": {
    "deletable": true,
    "editable": true,
    "slideshow": {
     "slide_type": "fragment"
    }
   },
   "source": [
    "- The two main methods you will use to extract information from a BeautifulSoup object are `find` and `find_all`."
   ]
  },
  {
   "cell_type": "markdown",
   "id": "ddd98de9",
   "metadata": {
    "deletable": true,
    "editable": true,
    "slideshow": {
     "slide_type": "fragment"
    }
   },
   "source": [
    "- `soup.find(tag)` finds the **first** instance of a tag (the first one on the page, i.e. the first one that DFS sees), and returns just that tag.<br><small>It has several optional arguments, including some that involve defining `lambda` functions: **look at the documentation!**</small>"
   ]
  },
  {
   "cell_type": "markdown",
   "id": "9649af85",
   "metadata": {
    "deletable": true,
    "editable": true,
    "slideshow": {
     "slide_type": "fragment"
    }
   },
   "source": [
    "- `soup.find_all(tag)` will find **all** instances of a tag, and returns a **list** of tags."
   ]
  },
  {
   "cell_type": "markdown",
   "id": "dc668816",
   "metadata": {
    "deletable": true,
    "editable": true,
    "slideshow": {
     "slide_type": "fragment"
    }
   },
   "source": [
    "- Remember: **`find` finds tags!**"
   ]
  },
  {
   "cell_type": "markdown",
   "id": "5d39a944",
   "metadata": {
    "deletable": true,
    "editable": true,
    "slideshow": {
     "slide_type": "slide"
    }
   },
   "source": [
    "### Using `find`"
   ]
  },
  {
   "cell_type": "markdown",
   "id": "98ec4f02",
   "metadata": {
    "deletable": true,
    "editable": true,
    "slideshow": {
     "slide_type": "fragment"
    }
   },
   "source": [
    "- Let's try and extract the first `<div>` subtree.\n",
    "\n",
    "<center><img src=\"imgs/dom_tree_1.png\" width=600> ⬇️ <center><img src=\"imgs/dom_subtree_1.png\" width=325></center>  </center> "
   ]
  },
  {
   "cell_type": "code",
   "execution_count": null,
   "id": "97715c7f",
   "metadata": {
    "deletable": true,
    "editable": true,
    "scrolled": true
   },
   "outputs": [],
   "source": [
    "..."
   ]
  },
  {
   "cell_type": "markdown",
   "id": "ebf5e49f",
   "metadata": {
    "deletable": true,
    "editable": true,
    "slideshow": {
     "slide_type": "fragment"
    }
   },
   "source": [
    "- Let's try and find the `<div>` element that has an `id` attribute equal to `'nav'`."
   ]
  },
  {
   "cell_type": "code",
   "execution_count": null,
   "id": "03789689",
   "metadata": {
    "deletable": true,
    "editable": true
   },
   "outputs": [],
   "source": [
    "..."
   ]
  },
  {
   "cell_type": "markdown",
   "id": "337f1992",
   "metadata": {
    "deletable": true,
    "editable": true,
    "slideshow": {
     "slide_type": "fragment"
    }
   },
   "source": [
    "- `find` will return the first occurrence of a tag, regardless of its depth in the tree."
   ]
  },
  {
   "cell_type": "code",
   "execution_count": null,
   "id": "4a2e8af6",
   "metadata": {
    "deletable": true,
    "editable": true
   },
   "outputs": [],
   "source": [
    "# The ul child is not at the top of the tree, but we can still find it.\n",
    "..."
   ]
  },
  {
   "cell_type": "markdown",
   "id": "3a18d6f2",
   "metadata": {
    "deletable": true,
    "editable": true,
    "slideshow": {
     "slide_type": "slide"
    }
   },
   "source": [
    "### Using `find_all`"
   ]
  },
  {
   "cell_type": "markdown",
   "id": "78a9c8c6",
   "metadata": {
    "deletable": true,
    "editable": true,
    "slideshow": {
     "slide_type": "fragment"
    }
   },
   "source": [
    "- `find_all` returns a list of all matching tags."
   ]
  },
  {
   "cell_type": "code",
   "execution_count": null,
   "id": "b3dddaf9",
   "metadata": {
    "deletable": true,
    "editable": true
   },
   "outputs": [],
   "source": [
    "soup"
   ]
  },
  {
   "cell_type": "code",
   "execution_count": null,
   "id": "8c4fcc54",
   "metadata": {
    "deletable": true,
    "editable": true
   },
   "outputs": [],
   "source": [
    "..."
   ]
  },
  {
   "cell_type": "code",
   "execution_count": null,
   "id": "2295b8e5",
   "metadata": {
    "deletable": true,
    "editable": true
   },
   "outputs": [],
   "source": [
    "..."
   ]
  },
  {
   "cell_type": "markdown",
   "id": "6f9eaa55",
   "metadata": {
    "deletable": true,
    "editable": true,
    "slideshow": {
     "slide_type": "fragment"
    }
   },
   "source": [
    "- We often use the `find_all` method in conjunction with a `for`-loop or list comprehension, to perform some operation on every matching tag."
   ]
  },
  {
   "cell_type": "code",
   "execution_count": null,
   "id": "a369a31b",
   "metadata": {
    "deletable": true,
    "editable": true
   },
   "outputs": [],
   "source": [
    "..."
   ]
  },
  {
   "cell_type": "markdown",
   "id": "e5c7fca7",
   "metadata": {
    "deletable": true,
    "editable": true,
    "slideshow": {
     "slide_type": "slide"
    }
   },
   "source": [
    "### Node attributes"
   ]
  },
  {
   "cell_type": "markdown",
   "id": "8800bb86",
   "metadata": {
    "deletable": true,
    "editable": true,
    "slideshow": {
     "slide_type": "fragment"
    }
   },
   "source": [
    "- The `text` attribute of a tag element gets the text between the opening and closing tags."
   ]
  },
  {
   "cell_type": "code",
   "execution_count": null,
   "id": "4e7b705e",
   "metadata": {
    "deletable": true,
    "editable": true
   },
   "outputs": [],
   "source": [
    "soup.find('p')"
   ]
  },
  {
   "cell_type": "code",
   "execution_count": null,
   "id": "a68e2801",
   "metadata": {
    "deletable": true,
    "editable": true
   },
   "outputs": [],
   "source": [
    "soup.find('p').text"
   ]
  },
  {
   "cell_type": "markdown",
   "id": "f3b1543b",
   "metadata": {
    "deletable": true,
    "editable": true,
    "slideshow": {
     "slide_type": "fragment"
    }
   },
   "source": [
    "- The `attrs` attribute of a tag element lists all of its attributes."
   ]
  },
  {
   "cell_type": "code",
   "execution_count": null,
   "id": "56d47f75",
   "metadata": {
    "deletable": true,
    "editable": true
   },
   "outputs": [],
   "source": [
    "soup.find('div')"
   ]
  },
  {
   "cell_type": "code",
   "execution_count": null,
   "id": "86e71457",
   "metadata": {
    "deletable": true,
    "editable": true
   },
   "outputs": [],
   "source": [
    "soup.find('div').text"
   ]
  },
  {
   "cell_type": "code",
   "execution_count": null,
   "id": "abdfc65c",
   "metadata": {
    "deletable": true,
    "editable": true
   },
   "outputs": [],
   "source": [
    "soup.find('div').attrs"
   ]
  },
  {
   "cell_type": "markdown",
   "id": "5d8fff61",
   "metadata": {
    "deletable": true,
    "editable": true,
    "slideshow": {
     "slide_type": "fragment"
    }
   },
   "source": [
    "- The `get` method of a tag element **gets the value of an attribute**.<br><small>`find` and `get` are easy to get confused, but you'll use them both a lot.</small>"
   ]
  },
  {
   "cell_type": "code",
   "execution_count": null,
   "id": "e05eb5e4",
   "metadata": {
    "deletable": true,
    "editable": true
   },
   "outputs": [],
   "source": [
    "soup.find('div').get('id')"
   ]
  },
  {
   "cell_type": "markdown",
   "id": "dab4a5d1",
   "metadata": {
    "deletable": true,
    "editable": true,
    "slideshow": {
     "slide_type": "fragment"
    }
   },
   "source": [
    "- The `get` method must be called directly on the node that contains the attribute you're looking for."
   ]
  },
  {
   "cell_type": "code",
   "execution_count": null,
   "id": "c3b5721e",
   "metadata": {
    "deletable": true,
    "editable": true
   },
   "outputs": [],
   "source": [
    "soup"
   ]
  },
  {
   "cell_type": "code",
   "execution_count": null,
   "id": "bbdb5a52",
   "metadata": {
    "deletable": true,
    "editable": true
   },
   "outputs": [],
   "source": [
    "# While there are multiple 'id' attributes, none of them are in the <html> tag at the top.\n",
    "soup.get('id')"
   ]
  },
  {
   "cell_type": "code",
   "execution_count": null,
   "id": "b8c93e03",
   "metadata": {
    "deletable": true,
    "editable": true,
    "scrolled": true
   },
   "outputs": [],
   "source": [
    "soup.find('div').get('id')"
   ]
  },
  {
   "cell_type": "markdown",
   "id": "c041dd1a",
   "metadata": {
    "deletable": true,
    "editable": true,
    "slideshow": {
     "slide_type": "slide"
    }
   },
   "source": [
    "<div class=\"alert alert-success\" markdown=\"1\">\n",
    "    <h3>Activity</h3>\n",
    "    \n",
    "Consider the following HTML document, which represents a webpage containing the top few songs with the most streams on Spotify today in Canada.\n",
    "\n",
    "```html\n",
    "<head>\n",
    "    <title>3*Canada-2022-06-04</title>\n",
    "</head>\n",
    "<body>\n",
    "    <h1>Spotify Top 3 - Canada</h1>\n",
    "    <table>\n",
    "        <tr class='heading'>\n",
    "            <th>Rank</th>\n",
    "            <th>Artist(s)</th> \n",
    "            <th>Song</th>\n",
    "        </tr>\n",
    "        <tr class=1>\n",
    "            <td>1</td>\n",
    "            <td>Harry Styles</td> \n",
    "            <td>As It Was</td>\n",
    "        </tr>\n",
    "        <tr class=2>\n",
    "            <td>2</td>\n",
    "            <td>Jack Harlow</td> \n",
    "            <td>First Class</td>\n",
    "        </tr>\n",
    "        <tr class=3>\n",
    "            <td>3</td>\n",
    "            <td>Kendrick Lamar</td> \n",
    "            <td>N95</td>\n",
    "        </tr>\n",
    "    </table>\n",
    "</body>\n",
    "```"
   ]
  },
  {
   "cell_type": "markdown",
   "id": "b99fc746",
   "metadata": {
    "deletable": true,
    "editable": true
   },
   "source": [
    "- **Part 1**: How many leaf nodes are there in the DOM tree of the previous document — that is, how many nodes have no children?"
   ]
  },
  {
   "cell_type": "markdown",
   "id": "e14dea45",
   "metadata": {
    "deletable": true,
    "editable": true
   },
   "source": [
    "- **Part 2**: What does the following line of code evaluate to?\n",
    "\n",
    "```python\n",
    "        len(soup.find_all(\"td\"))\n",
    "```"
   ]
  },
  {
   "cell_type": "markdown",
   "id": "407266af",
   "metadata": {
    "deletable": true,
    "editable": true
   },
   "source": [
    "- **Part 3**: What does the following line of code evaluate to?\n",
    "\n",
    "```python\n",
    "        soup.find(\"tr\").get(\"class\")\n",
    "```"
   ]
  },
  {
   "cell_type": "markdown",
   "id": "145164b9",
   "metadata": {
    "deletable": true,
    "editable": true,
    "slideshow": {
     "slide_type": "slide"
    }
   },
   "source": [
    "## Example: Scraping quotes 💬\n",
    "\n",
    "---"
   ]
  },
  {
   "cell_type": "markdown",
   "id": "43bc29fb",
   "metadata": {
    "deletable": true,
    "editable": true,
    "slideshow": {
     "slide_type": "slide"
    }
   },
   "source": [
    "### Example: Scraping quotes"
   ]
  },
  {
   "cell_type": "markdown",
   "id": "9e112aa6",
   "metadata": {
    "deletable": true,
    "editable": true,
    "slideshow": {
     "slide_type": "fragment"
    }
   },
   "source": [
    "- Navigate to [quotes.toscrape.com](https://quotes.toscrape.com).\n",
    "\n",
    "<center><img src=\"imgs/quotes2scrape.png\" width=60%></center>"
   ]
  },
  {
   "cell_type": "markdown",
   "id": "3b44d587",
   "metadata": {
    "deletable": true,
    "editable": true,
    "slideshow": {
     "slide_type": "fragment"
    }
   },
   "source": [
    "- **Goal**: Extract quotes, and relevant metadata, into a DataFrame."
   ]
  },
  {
   "cell_type": "markdown",
   "id": "0bb6851f",
   "metadata": {
    "deletable": true,
    "editable": true,
    "slideshow": {
     "slide_type": "fragment"
    }
   },
   "source": [
    "- Specifically, let's try to make a DataFrame that looks like the one below:\n",
    "\n",
    "<table border=\"1\" class=\"dataframe\">\n",
    "  <thead>\n",
    "    <tr style=\"text-align: right;\">\n",
    "      <th></th>\n",
    "      <th>quote</th>\n",
    "      <th>author</th>\n",
    "      <th>author_url</th>\n",
    "      <th>tags</th>\n",
    "    </tr>\n",
    "  </thead>\n",
    "  <tbody>\n",
    "    <tr>\n",
    "      <th>0</th>\n",
    "      <td>“The world as we have created it is a process of our thinking. It cannot be changed without changing our thinking.”</td>\n",
    "      <td>Albert Einstein</td>\n",
    "      <td>https://quotes.toscrape.com/author/Albert-Einstein</td>\n",
    "      <td>change,deep-thoughts,thinking,world</td>\n",
    "    </tr>\n",
    "    <tr>\n",
    "      <th>1</th>\n",
    "      <td>“It is our choices, Harry, that show what we truly are, far more than our abilities.”</td>\n",
    "      <td>J.K. Rowling</td>\n",
    "      <td>https://quotes.toscrape.com/author/J-K-Rowling</td>\n",
    "      <td>abilities,choices</td>\n",
    "    </tr>\n",
    "    <tr>\n",
    "      <th>2</th>\n",
    "      <td>“There are only two ways to live your life. One is as though nothing is a miracle. The other is as though everything is a miracle.”</td>\n",
    "      <td>Albert Einstein</td>\n",
    "      <td>https://quotes.toscrape.com/author/Albert-Einstein</td>\n",
    "      <td>inspirational,life,live,miracle,miracles</td>\n",
    "    </tr>\n",
    "  </tbody>\n",
    "</table>"
   ]
  },
  {
   "cell_type": "markdown",
   "id": "cd1d4f56",
   "metadata": {
    "deletable": true,
    "editable": true,
    "slideshow": {
     "slide_type": "slide"
    }
   },
   "source": [
    "### Organizing our work"
   ]
  },
  {
   "cell_type": "markdown",
   "id": "fa8dd7e1",
   "metadata": {
    "deletable": true,
    "editable": true,
    "slideshow": {
     "slide_type": "fragment"
    }
   },
   "source": [
    "- Eventually, we will implement a single function, `make_quote_df`, which takes in an integer `n` and returns a **DataFrame** with the quotes on the **first `n` pages** of [quotes.toscrape.com](https://quotes.toscrape.com)."
   ]
  },
  {
   "cell_type": "markdown",
   "id": "b62a7f64",
   "metadata": {
    "deletable": true,
    "editable": true,
    "slideshow": {
     "slide_type": "fragment"
    }
   },
   "source": [
    "- Along the way, we'll implement several helper functions, with the goal of separating our logic: **each function should either request information, OR parse, but not both!**"
   ]
  },
  {
   "cell_type": "markdown",
   "id": "776afc83",
   "metadata": {
    "deletable": true,
    "editable": true,
    "slideshow": {
     "slide_type": "fragment"
    }
   },
   "source": [
    "- This makes it easier to debug and catch errors."
   ]
  },
  {
   "cell_type": "markdown",
   "id": "a1cd397a",
   "metadata": {
    "deletable": true,
    "editable": true,
    "slideshow": {
     "slide_type": "fragment"
    }
   },
   "source": [
    "- It also avoids **unnecessary requests**."
   ]
  },
  {
   "cell_type": "markdown",
   "id": "389e2ff4",
   "metadata": {
    "deletable": true,
    "editable": true,
    "slideshow": {
     "slide_type": "slide"
    }
   },
   "source": [
    "### Downloading a single page"
   ]
  },
  {
   "cell_type": "markdown",
   "id": "46321ab5",
   "metadata": {
    "deletable": true,
    "editable": true,
    "slideshow": {
     "slide_type": "fragment"
    }
   },
   "source": [
    "- First, let's figure out how to download a single page from [quotes.toscrape.com](https://quotes.toscrape.com)."
   ]
  },
  {
   "cell_type": "markdown",
   "id": "7cf9ddcd",
   "metadata": {
    "deletable": true,
    "editable": true,
    "slideshow": {
     "slide_type": "fragment"
    }
   },
   "source": [
    "- The URLs seem to be formatted a very particular way:\n",
    "\n",
    "```html\n",
    "        https://quotes.toscrape.com/page/2\n",
    "```"
   ]
  },
  {
   "cell_type": "code",
   "execution_count": null,
   "id": "e39d2ca4",
   "metadata": {
    "deletable": true,
    "editable": true,
    "slideshow": {
     "slide_type": "-"
    }
   },
   "outputs": [],
   "source": [
    "def download_page(i):\n",
    "    ..."
   ]
  },
  {
   "cell_type": "markdown",
   "id": "fffb16d3",
   "metadata": {
    "deletable": true,
    "editable": true,
    "slideshow": {
     "slide_type": "fragment"
    }
   },
   "source": [
    "- Let's test our function on a single page, like Page 2.<br><small>There's nothing special about Page 2; we chose it arbitrarily.</small>"
   ]
  },
  {
   "cell_type": "code",
   "execution_count": null,
   "id": "e7eef213",
   "metadata": {
    "deletable": true,
    "editable": true
   },
   "outputs": [],
   "source": [
    "soup = ...\n",
    "soup"
   ]
  },
  {
   "cell_type": "markdown",
   "id": "da09e6fc",
   "metadata": {
    "deletable": true,
    "editable": true,
    "slideshow": {
     "slide_type": "fragment"
    }
   },
   "source": [
    "- Now that this works, later on, we can call `download_page(1)`, `download_page(2)`, `download_page(3)`, ..., `download_page(n)`."
   ]
  },
  {
   "cell_type": "markdown",
   "id": "1aaba68f",
   "metadata": {
    "deletable": true,
    "editable": true,
    "slideshow": {
     "slide_type": "slide"
    }
   },
   "source": [
    "### Parsing a single page"
   ]
  },
  {
   "cell_type": "markdown",
   "id": "488c11a3",
   "metadata": {
    "deletable": true,
    "editable": true,
    "slideshow": {
     "slide_type": "fragment"
    }
   },
   "source": [
    "- Now, let's try and extract the relevant information out of the `soup` object for Page 2."
   ]
  },
  {
   "cell_type": "markdown",
   "id": "73c7b1c8",
   "metadata": {
    "deletable": true,
    "editable": true,
    "slideshow": {
     "slide_type": "fragment"
    }
   },
   "source": [
    "- **Open [quotes.toscrape.com/page/2](https://quotes.toscrape.com/page/2/) in Chrome, right click the page, and click \"Inspect\"!**<br><small>This will help us find where each quote is located in the HTML.</small>"
   ]
  },
  {
   "cell_type": "code",
   "execution_count": null,
   "id": "dbb13878",
   "metadata": {
    "deletable": true,
    "editable": true
   },
   "outputs": [],
   "source": [
    "divs = ...\n",
    "..."
   ]
  },
  {
   "cell_type": "code",
   "execution_count": null,
   "id": "b9e4e651",
   "metadata": {
    "deletable": true,
    "editable": true
   },
   "outputs": [],
   "source": [
    "divs[0]"
   ]
  },
  {
   "cell_type": "markdown",
   "id": "17780c4f",
   "metadata": {
    "deletable": true,
    "editable": true,
    "slideshow": {
     "slide_type": "fragment"
    }
   },
   "source": [
    "- From this `<div>`, we can extract the quote, author name, author's URL, and tags.<br><small>Strategy: Figure out how to process one `<div>`, then put that logic in a function to use on other `<div>`s."
   ]
  },
  {
   "cell_type": "code",
   "execution_count": null,
   "id": "5ca24855",
   "metadata": {
    "deletable": true,
    "editable": true
   },
   "outputs": [],
   "source": [
    "# The quote.\n",
    "..."
   ]
  },
  {
   "cell_type": "code",
   "execution_count": null,
   "id": "58d7c80f",
   "metadata": {
    "deletable": true,
    "editable": true
   },
   "outputs": [],
   "source": [
    "# The author.\n",
    "..."
   ]
  },
  {
   "cell_type": "code",
   "execution_count": null,
   "id": "14a373db",
   "metadata": {
    "deletable": true,
    "editable": true
   },
   "outputs": [],
   "source": [
    "# The URL for the author.\n",
    "..."
   ]
  },
  {
   "cell_type": "code",
   "execution_count": null,
   "id": "f3eadcaa",
   "metadata": {
    "deletable": true,
    "editable": true
   },
   "outputs": [],
   "source": [
    "# The quote's tags.\n",
    "..."
   ]
  },
  {
   "cell_type": "markdown",
   "id": "c12462cb",
   "metadata": {
    "deletable": true,
    "editable": true,
    "slideshow": {
     "slide_type": "slide"
    }
   },
   "source": [
    "### Parsing a single quote, and then a single page"
   ]
  },
  {
   "cell_type": "markdown",
   "id": "0a584569",
   "metadata": {
    "deletable": true,
    "editable": true,
    "slideshow": {
     "slide_type": "fragment"
    }
   },
   "source": [
    "- Let's implement a function that takes in a `<div>` corresponding to a single quote and returns a dictionary containing the quote's information.<br><small>Why use a dictionary? Passing `pd.DataFrame` a list of dictionaries is an easy way to create a DataFrame.</small>"
   ]
  },
  {
   "cell_type": "code",
   "execution_count": null,
   "id": "33d755ab",
   "metadata": {
    "deletable": true,
    "editable": true
   },
   "outputs": [],
   "source": [
    "def process_quote(div):\n",
    "    quote = div.find('span', class_='text').text\n",
    "    author = div.find('small', class_='author').text\n",
    "    author_url = 'https://quotes.toscrape.com' + div.find('a').get('href')\n",
    "    tags = div.find('meta', class_='keywords').get('content')\n",
    "    return {'quote': quote, 'author': author, 'author_url': author_url, 'tags': tags}"
   ]
  },
  {
   "cell_type": "code",
   "execution_count": null,
   "id": "f9c819ca",
   "metadata": {
    "deletable": true,
    "editable": true
   },
   "outputs": [],
   "source": [
    "# Make sure everything here looks correct based on what's on the webpage!\n",
    "..."
   ]
  },
  {
   "cell_type": "markdown",
   "id": "16561adb",
   "metadata": {
    "deletable": true,
    "editable": true,
    "slideshow": {
     "slide_type": "fragment"
    }
   },
   "source": [
    "- Now, we can implement a function that takes in a **list** of `<div>`s, calls `process_quote` on each `<div>` in the list, and returns a **DataFrame**."
   ]
  },
  {
   "cell_type": "code",
   "execution_count": null,
   "id": "e92dae38",
   "metadata": {
    "deletable": true,
    "editable": true
   },
   "outputs": [],
   "source": [
    "def process_page(divs):\n",
    "    return pd.DataFrame([process_quote(div) for div in divs])"
   ]
  },
  {
   "cell_type": "code",
   "execution_count": null,
   "id": "72ae81ce",
   "metadata": {
    "deletable": true,
    "editable": true,
    "scrolled": true
   },
   "outputs": [],
   "source": [
    "process_page(divs)"
   ]
  },
  {
   "cell_type": "markdown",
   "id": "415c0ed8",
   "metadata": {
    "deletable": true,
    "editable": true,
    "slideshow": {
     "slide_type": "slide"
    }
   },
   "source": [
    "### Putting it all together"
   ]
  },
  {
   "cell_type": "markdown",
   "id": "8dcca27b",
   "metadata": {
    "deletable": true,
    "editable": true,
    "slideshow": {
     "slide_type": "fragment"
    }
   },
   "source": [
    "- Now, we can implement `make_quote_df`."
   ]
  },
  {
   "cell_type": "code",
   "execution_count": null,
   "id": "a182dc2a",
   "metadata": {
    "deletable": true,
    "editable": true
   },
   "outputs": [],
   "source": [
    "def make_quote_df(n):\n",
    "    '''Returns a DataFrame containing the quotes on the first n pages of https://quotes.toscrape.com/.''' # This is called a docstring!\n",
    "    dfs = []\n",
    "    for i in range(1, n+1):\n",
    "        # Download page n and create a BeautifulSoup object.\n",
    "        soup = download_page(i)\n",
    "        # Create DataFrame using the information in that page.\n",
    "        divs = soup.find_all('div', class_='quote')\n",
    "        df = process_page(divs)\n",
    "        # Append DataFrame to dfs.\n",
    "        dfs.append(df)\n",
    "    # Stitch all DataFrames together.\n",
    "    return pd.concat(dfs).reset_index(drop=True)"
   ]
  },
  {
   "cell_type": "code",
   "execution_count": null,
   "id": "d3ed23f2",
   "metadata": {
    "deletable": true,
    "editable": true,
    "scrolled": true
   },
   "outputs": [],
   "source": [
    "quotes = make_quote_df(3)\n",
    "quotes.head()"
   ]
  },
  {
   "cell_type": "markdown",
   "id": "f20e6f47",
   "metadata": {
    "deletable": true,
    "editable": true,
    "slideshow": {
     "slide_type": "fragment"
    }
   },
   "source": [
    "- Now, `quotes` is s DataFrame, like any other!"
   ]
  },
  {
   "cell_type": "code",
   "execution_count": null,
   "id": "076ba8ce",
   "metadata": {
    "deletable": true,
    "editable": true
   },
   "outputs": [],
   "source": [
    "quotes['author'].value_counts().iloc[:10].sort_values().plot(kind='barh')"
   ]
  },
  {
   "cell_type": "markdown",
   "id": "b6fd88cf",
   "metadata": {
    "deletable": true,
    "editable": true,
    "slideshow": {
     "slide_type": "skip"
    }
   },
   "source": [
    "<div class=\"alert alert-danger\" markdown=\"1\">\n",
    "\n",
    "#### Reference Slide\n",
    "\n",
    "### Summary of our steps"
   ]
  },
  {
   "cell_type": "markdown",
   "id": "6cfd8709",
   "metadata": {
    "deletable": true,
    "editable": true,
    "slideshow": {
     "slide_type": "skip"
    }
   },
   "source": [
    "1. Implement `download_page(i)`, which downloads a **single page** (page `i`) and returns a `BeautifulSoup` object of the response."
   ]
  },
  {
   "cell_type": "markdown",
   "id": "c989c938",
   "metadata": {
    "deletable": true,
    "editable": true,
    "slideshow": {
     "slide_type": "skip"
    }
   },
   "source": [
    "2. Implement `process_quote(div)`, which takes in a `<div>` tree corresponding to a **single quote** and returns a dictionary containing all of the relevant information for that quote."
   ]
  },
  {
   "cell_type": "markdown",
   "id": "e13956d6",
   "metadata": {
    "deletable": true,
    "editable": true,
    "slideshow": {
     "slide_type": "skip"
    }
   },
   "source": [
    "3. Implement `process_page(divs)`, which takes in a list of `<div>` trees corresponding to a **single page** and returns a DataFrame containing all of the relevant information for all quotes on that page."
   ]
  },
  {
   "cell_type": "markdown",
   "id": "8ab8c58c",
   "metadata": {
    "deletable": true,
    "editable": true,
    "slideshow": {
     "slide_type": "skip"
    }
   },
   "source": [
    "4. Implement `make_quote_df(n)`."
   ]
  },
  {
   "cell_type": "markdown",
   "id": "f6559636",
   "metadata": {
    "deletable": true,
    "editable": true,
    "slideshow": {
     "slide_type": "slide"
    }
   },
   "source": [
    "## APIs and JSON\n",
    "\n",
    "---\n",
    "\n",
    "Recall, scraping was one of the ways to access data from the internet. APIs are the other way."
   ]
  },
  {
   "cell_type": "markdown",
   "id": "678bc6f9",
   "metadata": {
    "deletable": true,
    "editable": true,
    "slideshow": {
     "slide_type": "slide"
    }
   },
   "source": [
    "### Application programing interface (API) terminology"
   ]
  },
  {
   "cell_type": "markdown",
   "id": "e3e2ef73",
   "metadata": {
    "deletable": true,
    "editable": true,
    "slideshow": {
     "slide_type": "fragment"
    }
   },
   "source": [
    "- A URL, or uniform resource locator, describes the location of a website or resource."
   ]
  },
  {
   "cell_type": "markdown",
   "id": "8c02e506",
   "metadata": {
    "deletable": true,
    "editable": true,
    "slideshow": {
     "slide_type": "fragment"
    }
   },
   "source": [
    "- API requests are `GET`/`POST` requests to a specially maintained URLs."
   ]
  },
  {
   "cell_type": "markdown",
   "id": "4dedcbf9",
   "metadata": {
    "deletable": true,
    "editable": true,
    "slideshow": {
     "slide_type": "fragment"
    }
   },
   "source": [
    "- As an example, we'll look at the [Pokémon API](https://pokeapi.co)."
   ]
  },
  {
   "cell_type": "markdown",
   "id": "2cb6ae93",
   "metadata": {
    "deletable": true,
    "editable": true,
    "slideshow": {
     "slide_type": "fragment"
    }
   },
   "source": [
    "- All requests are made to:\n",
    "\n",
    "```\n",
    "        https://pokeapi.co/api/v2/{endpoint}/{name}\n",
    "```"
   ]
  },
  {
   "cell_type": "markdown",
   "id": "95ee84b4",
   "metadata": {
    "deletable": true,
    "editable": true,
    "slideshow": {
     "slide_type": "fragment"
    }
   },
   "source": [
    "- For example, to learn about Pikachu, we use the `pokemon` **endpoint** with name `pikachu`.\n",
    "\n",
    "        https://pokeapi.co/api/v2/pokemon/pikachu"
   ]
  },
  {
   "cell_type": "markdown",
   "id": "68e44047",
   "metadata": {
    "deletable": true,
    "editable": true,
    "slideshow": {
     "slide_type": "fragment"
    }
   },
   "source": [
    "- Or, to learn about all water Pokemon, we use the `type` endpoint with name `water`.\n",
    "\n",
    "        https://pokeapi.co/api/v2/pokemon/pikachu"
   ]
  },
  {
   "cell_type": "markdown",
   "id": "934a8176",
   "metadata": {
    "deletable": true,
    "editable": true,
    "slideshow": {
     "slide_type": "slide"
    }
   },
   "source": [
    "### Example: Pokémon API ⚡️"
   ]
  },
  {
   "cell_type": "markdown",
   "id": "c58725d1",
   "metadata": {
    "deletable": true,
    "editable": true,
    "slideshow": {
     "slide_type": "fragment"
    }
   },
   "source": [
    "- To illustrate, let's make a `GET` request to learn more about Pikachu."
   ]
  },
  {
   "cell_type": "code",
   "execution_count": null,
   "id": "0e2c36b4",
   "metadata": {
    "deletable": true,
    "editable": true
   },
   "outputs": [],
   "source": [
    "def request_pokemon(name):\n",
    "    ...\n",
    "res = request_pokemon('pikachu')\n",
    "res"
   ]
  },
  {
   "cell_type": "markdown",
   "id": "6ac9aea9",
   "metadata": {
    "deletable": true,
    "editable": true,
    "slideshow": {
     "slide_type": "fragment"
    }
   },
   "source": [
    "- Remember, the 200 status code is good! Let's take a look at the text, the same way we did before:"
   ]
  },
  {
   "cell_type": "code",
   "execution_count": null,
   "id": "be2ebc4f",
   "metadata": {
    "deletable": true,
    "editable": true
   },
   "outputs": [],
   "source": [
    "res.text[:1000]"
   ]
  },
  {
   "cell_type": "markdown",
   "id": "d887e79c",
   "metadata": {
    "deletable": true,
    "editable": true,
    "slideshow": {
     "slide_type": "fragment"
    }
   },
   "source": [
    "- Unlike when we were scraping earlier, the text in the response no longer resembles HTML!"
   ]
  },
  {
   "cell_type": "markdown",
   "id": "0c02fbee",
   "metadata": {
    "deletable": true,
    "editable": true,
    "slideshow": {
     "slide_type": "slide"
    }
   },
   "source": [
    "<center><img src='imgs/json.png' width=500></center>"
   ]
  },
  {
   "cell_type": "markdown",
   "id": "6157bad1",
   "metadata": {
    "deletable": true,
    "editable": true,
    "slideshow": {
     "slide_type": "slide"
    }
   },
   "source": [
    "### JSON"
   ]
  },
  {
   "cell_type": "markdown",
   "id": "9242347c",
   "metadata": {
    "deletable": true,
    "editable": true,
    "slideshow": {
     "slide_type": "fragment"
    }
   },
   "source": [
    "- JSON stands for **JavaScript Object Notation**. It is a lightweight format for storing and transferring data."
   ]
  },
  {
   "cell_type": "markdown",
   "id": "0dd94bdb",
   "metadata": {
    "deletable": true,
    "editable": true,
    "slideshow": {
     "slide_type": "fragment"
    }
   },
   "source": [
    "- It is:\n",
    "    - very easy for computers to read and write.\n",
    "    - moderately easy for programmers to read and write by hand.\n",
    "    - meant to be generated and parsed."
   ]
  },
  {
   "cell_type": "markdown",
   "id": "4d67cadf",
   "metadata": {
    "deletable": true,
    "editable": true,
    "slideshow": {
     "slide_type": "fragment"
    }
   },
   "source": [
    "- Most modern languages have an interface for working with JSON objects.<br><small>JSON objects **resemble** Python dictionaries, but are not the same!</small>"
   ]
  },
  {
   "cell_type": "markdown",
   "id": "d6cb979c",
   "metadata": {
    "deletable": true,
    "editable": true,
    "slideshow": {
     "slide_type": "slide"
    }
   },
   "source": [
    "### JSON data types\n",
    "\n",
    "| Type | Description |\n",
    "| --- | --- |\n",
    "| String | Anything inside double quotes. |\n",
    "| Number | Any number (no difference between ints and floats). |\n",
    "| Boolean | `true` and `false`. |\n",
    "| Null | JSON's empty value, denoted by `null`. |\n",
    "| Array | Like Python lists. |\n",
    "| Object | A collection of key-value pairs, like dictionaries. Keys must be strings, values can be anything (even other objects). |\n",
    "\n",
    "<br>\n",
    "\n",
    "<center><small>See <a href=\"https://json-schema.org/understanding-json-schema/reference/type.html\">json-schema.org</a> for more details.</small></center>"
   ]
  },
  {
   "cell_type": "markdown",
   "id": "003a972d",
   "metadata": {
    "deletable": true,
    "editable": true,
    "slideshow": {
     "slide_type": "slide"
    }
   },
   "source": [
    "### Example JSON object\n",
    "\n",
    "<center><img src='imgs/hierarchy.png' width=500> <small>See <code>data/family.json</code>.</small></center>"
   ]
  },
  {
   "cell_type": "code",
   "execution_count": null,
   "id": "f9b81eb8",
   "metadata": {
    "deletable": true,
    "editable": true
   },
   "outputs": [],
   "source": [
    "!cat data/family.json"
   ]
  },
  {
   "cell_type": "code",
   "execution_count": null,
   "id": "4796e278",
   "metadata": {
    "deletable": true,
    "editable": true
   },
   "outputs": [],
   "source": [
    "import json\n",
    "with open('data/family.json', 'r') as f:\n",
    "    family_str = f.read()\n",
    "    family_tree = json.loads(family_str) # loads stands for load string."
   ]
  },
  {
   "cell_type": "code",
   "execution_count": null,
   "id": "4e316c2c",
   "metadata": {
    "deletable": true,
    "editable": true
   },
   "outputs": [],
   "source": [
    "family_tree"
   ]
  },
  {
   "cell_type": "code",
   "execution_count": null,
   "id": "db4feb14",
   "metadata": {
    "deletable": true,
    "editable": true,
    "scrolled": true
   },
   "outputs": [],
   "source": [
    "..."
   ]
  },
  {
   "cell_type": "markdown",
   "id": "f2f4b95c",
   "metadata": {
    "deletable": true,
    "editable": true,
    "slideshow": {
     "slide_type": "skip"
    }
   },
   "source": [
    "<div class=\"alert alert-danger\" markdown=\"1\">\n",
    "\n",
    "#### Reference Slide\n",
    "\n",
    "### Using the `json` module"
   ]
  },
  {
   "cell_type": "markdown",
   "id": "1f3bf60f",
   "metadata": {
    "deletable": true,
    "editable": true,
    "slideshow": {
     "slide_type": "skip"
    }
   },
   "source": [
    "- `json.load(f)` loads a JSON file from a file object."
   ]
  },
  {
   "cell_type": "markdown",
   "id": "9aace9b1",
   "metadata": {
    "deletable": true,
    "editable": true,
    "slideshow": {
     "slide_type": "skip"
    }
   },
   "source": [
    "- `json.loads(f)` loads a JSON file from a **s**tring."
   ]
  },
  {
   "cell_type": "code",
   "execution_count": null,
   "id": "aef5e1fb",
   "metadata": {
    "deletable": true,
    "editable": true,
    "slideshow": {
     "slide_type": "skip"
    }
   },
   "outputs": [],
   "source": [
    "with open('data/family.json') as f:\n",
    "    family_tree = json.load(f)\n",
    "family_tree"
   ]
  },
  {
   "cell_type": "code",
   "execution_count": null,
   "id": "df3836a1",
   "metadata": {
    "deletable": true,
    "editable": true,
    "slideshow": {
     "slide_type": "skip"
    }
   },
   "outputs": [],
   "source": [
    "with open('data/family.json') as f:\n",
    "    family_tree_string = f.read()\n",
    "    family_tree = json.loads(family_tree_string)\n",
    "family_tree"
   ]
  },
  {
   "cell_type": "markdown",
   "id": "9aa32720",
   "metadata": {
    "deletable": true,
    "editable": true,
    "slideshow": {
     "slide_type": "skip"
    }
   },
   "source": [
    "<div class=\"alert alert-danger\">\n",
    "    \n",
    "#### Reference Slide\n",
    "\n",
    "### Aside: `pd.read_json`\n",
    "    \n",
    "</div>"
   ]
  },
  {
   "cell_type": "markdown",
   "id": "5b7fd4f9",
   "metadata": {
    "deletable": true,
    "editable": true,
    "slideshow": {
     "slide_type": "skip"
    }
   },
   "source": [
    "- `pandas` also has a built-in `read_json` function."
   ]
  },
  {
   "cell_type": "code",
   "execution_count": null,
   "id": "b04bbc16",
   "metadata": {
    "deletable": true,
    "editable": true,
    "slideshow": {
     "slide_type": "skip"
    }
   },
   "outputs": [],
   "source": [
    "with open('data/family.json', 'r') as f:\n",
    "    family_df = pd.read_json(f)\n",
    "family_df"
   ]
  },
  {
   "cell_type": "markdown",
   "id": "bb51454b",
   "metadata": {
    "deletable": true,
    "editable": true,
    "slideshow": {
     "slide_type": "skip"
    }
   },
   "source": [
    "- It only makes sense to use it, though, when you have a JSON file that has some sort of tabular structure. Our family tree example does not."
   ]
  },
  {
   "cell_type": "markdown",
   "id": "f31ef9ce",
   "metadata": {
    "deletable": true,
    "editable": true,
    "slideshow": {
     "slide_type": "slide"
    }
   },
   "source": [
    "### Example: Pokémon API ⚡️"
   ]
  },
  {
   "cell_type": "markdown",
   "id": "50685081",
   "metadata": {
    "deletable": true,
    "editable": true,
    "slideshow": {
     "slide_type": "fragment"
    }
   },
   "source": [
    "- The response we get back from the Pokémon API looks like JSON.<br>We can extract the JSON from this request with the `json` method of `res`.<br><small>We could also pass `res.text` to `json.loads`.</small>"
   ]
  },
  {
   "cell_type": "code",
   "execution_count": null,
   "id": "6f2dcfde",
   "metadata": {
    "deletable": true,
    "editable": true
   },
   "outputs": [],
   "source": [
    "res = request_pokemon('pikachu')\n",
    "res.text[:1000]"
   ]
  },
  {
   "cell_type": "code",
   "execution_count": null,
   "id": "acb1b89a",
   "metadata": {
    "deletable": true,
    "editable": true
   },
   "outputs": [],
   "source": [
    "pikachu = res.json()\n",
    "pikachu"
   ]
  },
  {
   "cell_type": "code",
   "execution_count": null,
   "id": "19083703",
   "metadata": {
    "deletable": true,
    "editable": true
   },
   "outputs": [],
   "source": [
    "pikachu.keys()"
   ]
  },
  {
   "cell_type": "code",
   "execution_count": null,
   "id": "f1b6fab0",
   "metadata": {
    "deletable": true,
    "editable": true
   },
   "outputs": [],
   "source": [
    "pikachu['weight']"
   ]
  },
  {
   "cell_type": "code",
   "execution_count": null,
   "id": "9a0db647",
   "metadata": {
    "deletable": true,
    "editable": true
   },
   "outputs": [],
   "source": [
    "pikachu['abilities'][1]['ability']['name']"
   ]
  },
  {
   "cell_type": "markdown",
   "id": "88fdf26c",
   "metadata": {
    "deletable": true,
    "editable": true,
    "slideshow": {
     "slide_type": "slide"
    }
   },
   "source": [
    "### Invalid `GET` requests"
   ]
  },
  {
   "cell_type": "markdown",
   "id": "e5561796",
   "metadata": {
    "deletable": true,
    "editable": true,
    "slideshow": {
     "slide_type": "fragment"
    }
   },
   "source": [
    "- Let's try a `GET` request for `'wolverine'`."
   ]
  },
  {
   "cell_type": "code",
   "execution_count": null,
   "id": "f15e780d",
   "metadata": {
    "deletable": true,
    "editable": true
   },
   "outputs": [],
   "source": [
    "request_pokemon('wolverine')"
   ]
  },
  {
   "cell_type": "markdown",
   "id": "6092acd1",
   "metadata": {
    "deletable": true,
    "editable": true,
    "slideshow": {
     "slide_type": "fragment"
    }
   },
   "source": [
    "- We receive a 404 error, since there is no Pokémon named `'wolverine'`!"
   ]
  },
  {
   "cell_type": "markdown",
   "id": "80d124d4",
   "metadata": {
    "deletable": true,
    "editable": true,
    "slideshow": {
     "slide_type": "slide"
    }
   },
   "source": [
    "### More on APIs"
   ]
  },
  {
   "cell_type": "markdown",
   "id": "caa2a78c",
   "metadata": {
    "deletable": true,
    "editable": true,
    "slideshow": {
     "slide_type": "fragment"
    }
   },
   "source": [
    "- We accessed the Pokémon API by making requests. But, some APIs exist as Python _wrappers_, which allow you to make requests by calling Python functions.<br><small>`request_pokemon` is essentially a wrapper for (a small part of) the Pokémon API. If you're curious, try out the [DeepSeek API](https://api-docs.deepseek.com/)!</small>"
   ]
  },
  {
   "cell_type": "markdown",
   "id": "9a8c3c62",
   "metadata": {
    "deletable": true,
    "editable": true,
    "slideshow": {
     "slide_type": "fragment"
    }
   },
   "source": [
    "- Some APIs will require you to create an API key, and send that key as part of your request.<br><small>See Homework 5 for an example!</small>"
   ]
  },
  {
   "cell_type": "markdown",
   "id": "da66b93b",
   "metadata": {
    "deletable": true,
    "editable": true,
    "slideshow": {
     "slide_type": "fragment"
    }
   },
   "source": [
    "- Many of the APIs you'll use are \"REST\" APIs. Learn more about RESTful APIs [here](https://en.wikipedia.org/wiki/REST#Architectural_constraints).<br><small>REST stands for \"Representational State Transfer.\" One of the key properties of a RESTful API is that servers don't store any information about previous requests, or who is making them."
   ]
  },
  {
   "cell_type": "markdown",
   "id": "b9d3e232",
   "metadata": {
    "deletable": true,
    "editable": true,
    "slideshow": {
     "slide_type": "slide"
    }
   },
   "source": [
    "### Summary, next time"
   ]
  },
  {
   "cell_type": "markdown",
   "id": "2321ff58",
   "metadata": {
    "deletable": true,
    "editable": true,
    "slideshow": {
     "slide_type": "fragment"
    }
   },
   "source": [
    "- Beautiful Soup is an HTML parser that allows us to (somewhat) easily extract information from HTML documents.\n",
    "    - `soup.find` and `soup.find_all` are the methods you will use most often."
   ]
  },
  {
   "cell_type": "markdown",
   "id": "d1c4b1c0",
   "metadata": {
    "deletable": true,
    "editable": true,
    "slideshow": {
     "slide_type": "fragment"
    }
   },
   "source": [
    "- When writing scraping code:\n",
    "    - Use \"inspect element\" to identify the names of tags and attributes that are relevant to the information you want to extract.\n",
    "    - Separate your logic for making requests and for parsing."
   ]
  }
 ],
 "metadata": {
  "celltoolbar": "None",
  "kernelspec": {
   "display_name": "Python 3 (ipykernel)",
   "language": "python",
   "name": "python3"
  },
  "language_info": {
   "codemirror_mode": {
    "name": "ipython",
    "version": 3
   },
   "file_extension": ".py",
   "mimetype": "text/x-python",
   "name": "python",
   "nbconvert_exporter": "python",
   "pygments_lexer": "ipython3",
   "version": "3.10.16"
  },
  "livereveal": {
   "scroll": true
  },
  "rise": {
   "transition": "none"
  }
 },
 "nbformat": 4,
 "nbformat_minor": 5
}
