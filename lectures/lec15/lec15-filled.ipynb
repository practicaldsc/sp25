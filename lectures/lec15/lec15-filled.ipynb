{
 "cells": [
  {
   "cell_type": "code",
   "execution_count": null,
   "id": "09c02c19",
   "metadata": {
    "deletable": true,
    "editable": true,
    "slideshow": {
     "slide_type": "skip"
    }
   },
   "outputs": [],
   "source": [
    "from lec_utils import *"
   ]
  },
  {
   "cell_type": "markdown",
   "id": "c82fbc91",
   "metadata": {
    "deletable": true,
    "editable": true,
    "slideshow": {
     "slide_type": "slide"
    },
    "tags": []
   },
   "source": [
    "\n",
    "<div class=\"alert alert-info\" markdown=\"1\">\n",
    "\n",
    "#### Lecture 15\n",
    "\n",
    "# Multiple Linear Regression\n",
    "\n",
    "### EECS 398: Practical Data Science, Spring 2025\n",
    "\n",
    "<small><a style=\"text-decoration: none\" href=\"https://practicaldsc.org\">practicaldsc.org</a> • <a style=\"text-decoration: none\" href=\"https://github.com/practicaldsc/sp25\">github.com/practicaldsc/sp25</a> • 📣 See latest announcements [**here on Ed**](https://edstem.org/us/courses/78535/discussion/6647877) </small>\n",
    "    \n",
    "</div>\n"
   ]
  },
  {
   "cell_type": "markdown",
   "id": "139af5ec",
   "metadata": {
    "deletable": true,
    "editable": true,
    "slideshow": {
     "slide_type": "slide"
    }
   },
   "source": [
    "### Agenda 📆\n",
    "\n",
    "- Regression and linear algebra.\n",
    "- Multiple linear regression.\n",
    "- Regression in `sklearn`.\n",
    "\n",
    "This lecture is back to being in a notebook, but is still quite math heavy."
   ]
  },
  {
   "cell_type": "markdown",
   "id": "f8fa9f8f",
   "metadata": {
    "deletable": true,
    "editable": true,
    "slideshow": {
     "slide_type": "slide"
    }
   },
   "source": [
    "<div class=\"alert alert-warning\">\n",
    "    <h3>Question 🤔 (Answer at <a style=\"text-decoration: none; color: #0066cc\" href=\"https://docs.google.com/forms/d/e/1FAIpQLSd4oliiZYeNh76jWy-arfEtoAkCrVSsobZxPwxifWggo3EO0Q/viewform\">practicaldsc.org/q</a>)</h3>\n",
    "    \n",
    "Remember that you can always ask questions anonymously at the link above!"
   ]
  },
  {
   "cell_type": "markdown",
   "id": "1fc9f852",
   "metadata": {
    "deletable": true,
    "editable": true,
    "slideshow": {
     "slide_type": "slide"
    }
   },
   "source": [
    "## Multiple linear regression\n",
    "\n",
    "---"
   ]
  },
  {
   "cell_type": "markdown",
   "id": "05740c69",
   "metadata": {
    "deletable": true,
    "editable": true,
    "slideshow": {
     "slide_type": "slide"
    }
   },
   "source": [
    "<center>\n",
    "\n",
    "<img src=\"imgs/multiple-head.png\" width=40%>\n",
    "\n",
    "So far, we've fit **simple** linear regression models, which use only **one** feature (`'departure_hour'`) for making predictions.\n",
    "\n",
    "</center>"
   ]
  },
  {
   "cell_type": "markdown",
   "id": "77b9b535",
   "metadata": {
    "deletable": true,
    "editable": true,
    "slideshow": {
     "slide_type": "slide"
    }
   },
   "source": [
    "### Incorporating multiple features"
   ]
  },
  {
   "cell_type": "markdown",
   "id": "4cdf506d",
   "metadata": {
    "deletable": true,
    "editable": true,
    "slideshow": {
     "slide_type": "fragment"
    }
   },
   "source": [
    "- In the context of the commute times dataset, the simple linear regression model we fit was of the form:\n",
    "\n",
    "$$\\begin{align*}\\text{pred. commute}_i &= H(\\text{departure hour}_i) \\\\ &= w_0 + w_1 \\cdot \\text{departure hour}_i \\end{align*}$$"
   ]
  },
  {
   "cell_type": "markdown",
   "id": "ae4a9a40",
   "metadata": {
    "deletable": true,
    "editable": true,
    "slideshow": {
     "slide_type": "fragment"
    }
   },
   "source": [
    "- Now, we'll try and fit a multiple linear regression model of the form:\n",
    "\n",
    "$$\\begin{align*}\\text{pred. commute}_i &= H(\\text{departure hour}_i, \\text{day of month}_i) \\\\ &= w_0 + w_1 \\cdot \\text{departure hour}_i + w_2 \\cdot \\text{day of month}_i \\end{align*}$$"
   ]
  },
  {
   "cell_type": "markdown",
   "id": "f2490b86",
   "metadata": {
    "deletable": true,
    "editable": true,
    "slideshow": {
     "slide_type": "fragment"
    }
   },
   "source": [
    "- Linear regression with **multiple** features is called **multiple linear regression**."
   ]
  },
  {
   "cell_type": "markdown",
   "id": "dfcca1f3",
   "metadata": {
    "deletable": true,
    "editable": true,
    "slideshow": {
     "slide_type": "fragment"
    }
   },
   "source": [
    "- How do we find $w_0^*$, $w_1^*$, and $w_2^*$?\n"
   ]
  },
  {
   "cell_type": "markdown",
   "id": "cd08f74f",
   "metadata": {
    "deletable": true,
    "editable": true,
    "slideshow": {
     "slide_type": "slide"
    }
   },
   "source": [
    "### Geometric interpretation"
   ]
  },
  {
   "cell_type": "markdown",
   "id": "b1512ce7",
   "metadata": {
    "deletable": true,
    "editable": true,
    "slideshow": {
     "slide_type": "fragment"
    }
   },
   "source": [
    "- The hypothesis function:\n",
    "\n",
    "    $$H(\\text{departure hour}_i) = w_0 + w_1 \\cdot \\text{departure hour}_i$$\n",
    "\n",
    "    looks like a **line** in 2D."
   ]
  },
  {
   "cell_type": "markdown",
   "id": "b2e8b1a9",
   "metadata": {
    "deletable": true,
    "editable": true,
    "slideshow": {
     "slide_type": "fragment"
    }
   },
   "source": [
    "- **Questions**: \n",
    "    - How many dimensions do we need to graph the hypothesis function:\n",
    "\n",
    "    $$H(\\text{departure hour}_i, \\text{day of month}_i) = w_0 + w_1 \\cdot \\text{departure hour}_i + w_2 \\cdot \\text{day of month}_i$$\n",
    "\n",
    "    - What is the shape of the hypothesis function?"
   ]
  },
  {
   "cell_type": "markdown",
   "id": "066f5d03",
   "metadata": {
    "deletable": true,
    "editable": true,
    "slideshow": {
     "slide_type": "slide"
    }
   },
   "source": [
    "<center>\n",
    "\n",
    "<img src=\"imgs/plane.png\" width=40%>\n",
    "\n",
    "Our new hypothesis function is a **plane** in 3D!<br>Our goal is to find the **plane** of best fit that pierces through the cloud of points.\n",
    "\n",
    "</center>"
   ]
  },
  {
   "cell_type": "markdown",
   "id": "d842efa8",
   "metadata": {
    "deletable": true,
    "editable": true,
    "slideshow": {
     "slide_type": "slide"
    }
   },
   "source": [
    "### The hypothesis vector"
   ]
  },
  {
   "cell_type": "markdown",
   "id": "80eaad16",
   "metadata": {
    "deletable": true,
    "editable": true,
    "slideshow": {
     "slide_type": "fragment"
    }
   },
   "source": [
    "- When our hypothesis function is of the form:\n",
    "\n",
    "    $$H(\\text{departure hour}_i, \\text{day of month}_i = w_0 + w_1 \\cdot \\text{departure hour}_i + w_2 \\cdot \\text{day of month}_i$$\n",
    "\n",
    "    the hypothesis vector $\\vec h \\in \\mathbb{R}^n$ can be written as:\n",
    "\n",
    "$$\\vec h = \\begin{bmatrix}\n",
    "    H(\\text{departure hour}_1, \\text{day}_1) \\\\\n",
    "    H(\\text{departure hour}_2, \\text{day}_2) \\\\\n",
    "        ... \\\\\n",
    "     H(\\text{departure hour}_n, \\text{day}_n) \\\\\n",
    "    \\end{bmatrix}\n",
    "    = \\underbrace{\\begin{bmatrix}\n",
    "        1      & \\text{departure hour}_1 & \\text{day}_1   \\\\\n",
    "        1      & \\text{departure hour}_2 & \\text{day}_2    \\\\\n",
    "        ... & ... & ... \\\\\n",
    "        1      & \\text{departure hour}_n & \\text{day}_n\n",
    "    \\end{bmatrix}}_{\\text{3 columns!}} \\begin{bmatrix}\n",
    "        w_0 \\\\\n",
    "        w_1 \\\\\n",
    "        w_2\n",
    "    \\end{bmatrix}  $$"
   ]
  },
  {
   "cell_type": "markdown",
   "id": "8caf3d0e",
   "metadata": {
    "deletable": true,
    "editable": true,
    "slideshow": {
     "slide_type": "slide"
    }
   },
   "source": [
    "### Finding the optimal parameters"
   ]
  },
  {
   "cell_type": "markdown",
   "id": "e3056f1e",
   "metadata": {
    "deletable": true,
    "editable": true,
    "slideshow": {
     "slide_type": "fragment"
    }
   },
   "source": [
    "- To find the optimal parameter vector, $\\vec{w}^*$, we can use the **design matrix** $ X \\in \\mathbb{R}^{n \\times 3}$ and **observation vector** $ \\vec y \\in \\mathbb{R}^n$:\n",
    "\n",
    "$$ X = \\begin{bmatrix}\n",
    "        1      & \\text{departure hour}_1 & \\text{day}_1   \\\\\n",
    "        1      & \\text{departure hour}_2 & \\text{day}_2    \\\\\n",
    "        ... & ... & ... \\\\\n",
    "        1      & \\text{departure hour}_n & \\text{day}_n\n",
    "    \\end{bmatrix} \\qquad \\vec{y} = \\begin{bmatrix} \\text{commute time}_1 \\\\ \\text{commute time}_2 \\\\ \\vdots \\\\ \\text{commute time}_n \\end{bmatrix}$$"
   ]
  },
  {
   "cell_type": "markdown",
   "id": "b0b29f3f",
   "metadata": {
    "deletable": true,
    "editable": true,
    "slideshow": {
     "slide_type": "fragment"
    }
   },
   "source": [
    "- Then, all we need to do is solve the normal equations once again:\n",
    "\n",
    "    $$X^TX \\vec{w}^* = X^T \\vec y$$\n",
    "\n",
    "    If $X^TX$ is invertible, we know the solution is:\n",
    "\n",
    "$$\\vec w^* = (X^TX)^{-1} X^T \\vec y$$"
   ]
  },
  {
   "cell_type": "markdown",
   "id": "6a89b30c",
   "metadata": {
    "deletable": true,
    "editable": true,
    "slideshow": {
     "slide_type": "fragment"
    }
   },
   "source": [
    "- Let's generalize this notion beyond just two features."
   ]
  },
  {
   "cell_type": "markdown",
   "id": "0c2bc516",
   "metadata": {
    "deletable": true,
    "editable": true,
    "slideshow": {
     "slide_type": "slide"
    }
   },
   "source": [
    "### Notation for multiple linear regression"
   ]
  },
  {
   "cell_type": "markdown",
   "id": "9c1b4706",
   "metadata": {
    "deletable": true,
    "editable": true,
    "slideshow": {
     "slide_type": "fragment"
    }
   },
   "source": [
    "- We will need to keep track of multiple features for every individual in our dataset.<br><small>In practice, we could have hundreds, millions, or billions of features!</small>"
   ]
  },
  {
   "cell_type": "markdown",
   "id": "09b990bf",
   "metadata": {
    "deletable": true,
    "editable": true,
    "slideshow": {
     "slide_type": "fragment"
    }
   },
   "source": [
    "- As before, subscripts distinguish between individuals in our dataset. We have $n$ individuals, also called **training examples**."
   ]
  },
  {
   "cell_type": "markdown",
   "id": "f50b6952",
   "metadata": {
    "deletable": true,
    "editable": true,
    "slideshow": {
     "slide_type": "fragment"
    }
   },
   "source": [
    "- Superscripts distinguish between **features**. We have $d$ features. \n",
    "\n",
    "    $$\\text{departure hour}_i: \\:\\: x_i^{(1)}$$\n",
    "\n",
    "    $$\\text{day of month}_i: \\:\\: x_i^{(2)}$$\n",
    "\n",
    "    Think of $x^{(1)}$, $x^{(2)}$, ... as new variable names, like new letters."
   ]
  },
  {
   "cell_type": "markdown",
   "id": "c760b723",
   "metadata": {
    "deletable": true,
    "editable": true,
    "slideshow": {
     "slide_type": "slide"
    }
   },
   "source": [
    "### Feature vectors"
   ]
  },
  {
   "cell_type": "markdown",
   "id": "8af898c6",
   "metadata": {
    "deletable": true,
    "editable": true,
    "slideshow": {
     "slide_type": "fragment"
    }
   },
   "source": [
    "- Suppose we have the following dataset.\n",
    "\n",
    "<center>\n",
    "\n",
    "<img src=\"imgs/example-values.png\" width=35%>\n",
    "\n",
    "</center>"
   ]
  },
  {
   "cell_type": "markdown",
   "id": "f600bb1b",
   "metadata": {
    "deletable": true,
    "editable": true,
    "slideshow": {
     "slide_type": "fragment"
    }
   },
   "source": [
    "- We can represent each day with a **feature vector**, $\\vec x_i = \\begin{bmatrix} x_i^{(1)} \\\\ x_i^{(2)} \\end{bmatrix}$:"
   ]
  },
  {
   "cell_type": "markdown",
   "id": "cd88e31e",
   "metadata": {
    "deletable": true,
    "editable": true,
    "slideshow": {
     "slide_type": "fragment"
    }
   },
   "source": [
    "$$ \\vec x_1 = \\begin{bmatrix} 8.45 \\\\ 22 \\end{bmatrix} \\qquad \\vec x_2 = \\begin{bmatrix} 8.90 \\\\ 28 \\end{bmatrix} \\qquad \\vec x_3 = \\begin{bmatrix} 8.72 \\\\ 18 \\end{bmatrix}$$"
   ]
  },
  {
   "cell_type": "markdown",
   "id": "a9ecc913",
   "metadata": {
    "deletable": true,
    "editable": true,
    "slideshow": {
     "slide_type": "slide"
    }
   },
   "source": [
    "### Augmented feature vectors"
   ]
  },
  {
   "cell_type": "markdown",
   "id": "3cc842dc",
   "metadata": {
    "deletable": true,
    "editable": true,
    "slideshow": {
     "slide_type": "fragment"
    }
   },
   "source": [
    "- The **augmented feature vector** $\\text{Aug}({\\vec x_i})$ is the vector obtained by adding a 1 to the front of feature vector $\\vec x_i$:"
   ]
  },
  {
   "cell_type": "markdown",
   "id": "9c3321e8",
   "metadata": {
    "deletable": true,
    "editable": true
   },
   "source": [
    "$$\n",
    "{ \\vec x_i = \\begin{bmatrix}\n",
    "    {x_i^{(1)}} \\\\ {x_i^{(2)}} \\\\ \\vdots \\\\ {x_i^{(d)}}\n",
    "\\end{bmatrix}\n",
    "\\qquad\n",
    "\\text{Aug}({ \\vec x_i}) = \\begin{bmatrix}\n",
    "    1 \\\\ {x_i^{(1)}} \\\\ {x_i^{(2)}} \\\\ \\vdots \\\\ { x_i^{(d)}}\n",
    "\\end{bmatrix}}\n",
    "\\qquad\n",
    "\\vec w = \\begin{bmatrix}\n",
    "    w_0 \\\\ w_1 \\\\ w_2\\\\ \\vdots \\\\ w_d \n",
    "\\end{bmatrix}\n",
    "$$"
   ]
  },
  {
   "cell_type": "markdown",
   "id": "5d90bf4f",
   "metadata": {
    "deletable": true,
    "editable": true,
    "slideshow": {
     "slide_type": "fragment"
    }
   },
   "source": [
    "- For example, if $\\vec x_1 = \\begin{bmatrix} 8.45 \\\\ 22 \\end{bmatrix}$, then $\\text{Aug}({\\vec x_1}) = {\\begin{bmatrix} 1 \\\\ 8.45 \\\\ 22 \\end{bmatrix}}$."
   ]
  },
  {
   "cell_type": "markdown",
   "id": "23db3e9a",
   "metadata": {
    "deletable": true,
    "editable": true,
    "slideshow": {
     "slide_type": "fragment"
    }
   },
   "source": [
    "- Then, our hypothesis function for individual $i$ is:\n",
    "\n",
    "$$H({\\vec x_i}) = w_0 + w_1 { x_i^{(1)}} + w_2 { x_i^{(2)}} + \\ldots + w_d { x_i^{(d)}} = \\vec w \\cdot \\text{Aug}({ \\vec x_i})$$"
   ]
  },
  {
   "cell_type": "markdown",
   "id": "46c144e0",
   "metadata": {
    "deletable": true,
    "editable": true,
    "slideshow": {
     "slide_type": "slide"
    }
   },
   "source": [
    "### The general problem"
   ]
  },
  {
   "cell_type": "markdown",
   "id": "dd7b499d",
   "metadata": {
    "deletable": true,
    "editable": true,
    "slideshow": {
     "slide_type": "fragment"
    }
   },
   "source": [
    "-  We have $n$ data points, $\\left({ \\vec x_1}, {y_1}\\right), \\left({ \\vec x_2}, {y_2}\\right),  \\ldots, \\left({ \\vec x_n}, {y_n}\\right)$,\n",
    "where each $ \\vec x_i$ is a feature vector of $d$ features:\n",
    "$${\\vec{x_i}} = \\begin{bmatrix} \n",
    "{x^{(1)}_i} \\\\ {x^{(2)}_i} \\\\ \\vdots \\\\ {x^{(d)}_i}\n",
    "\\end{bmatrix}$$\t   "
   ]
  },
  {
   "cell_type": "markdown",
   "id": "d660704b",
   "metadata": {
    "deletable": true,
    "editable": true,
    "slideshow": {
     "slide_type": "fragment"
    }
   },
   "source": [
    "-  We want to find a good linear hypothesis function:\n",
    "\n",
    "$$H({\\vec x_i}) = w_0 + w_1 { x_i^{(1)}} + w_2 { x_i^{(2)}} + \\ldots + w_d { x_i^{(d)}} = \\vec w \\cdot \\text{Aug}({ \\vec x_i})$$"
   ]
  },
  {
   "cell_type": "markdown",
   "id": "6c23f031",
   "metadata": {
    "deletable": true,
    "editable": true,
    "slideshow": {
     "slide_type": "fragment"
    }
   },
   "source": [
    "- Specifically, we want to find the optimal parameters, $w_0^*$, $w_1^*$, ..., $w_d^*$ that minimize mean squared error:\n",
    "\n",
    "$$\\begin{align*} R_\\text{sq}(\\vec w) &= \\frac{1}{n} \\sum_{i = 1}^n (y_i - H(\\vec x_i))^2 \\\\ &=\n",
    "\\frac{1}{n} \\sum_{i = 1}^n \\left( y_i - (w_0 + w_1 { x_i^{(1)}} + w_2 { x_i^{(2)}} + \\ldots + w_d { x_i^{(d)}})\\right)^2 \n",
    "\\\\ &= \\frac{1}{n} \\sum_{i = 1}^n \\left(y_i - \\text{Aug}(\\vec x_i) \\cdot \\vec{w} \\right)^2 \\\\ &= \\frac{1}{n} \\lVert \\vec y - X \\vec w \\rVert^2 \\end{align*}$$"
   ]
  },
  {
   "cell_type": "markdown",
   "id": "c066ad7c",
   "metadata": {
    "deletable": true,
    "editable": true,
    "slideshow": {
     "slide_type": "slide"
    }
   },
   "source": [
    "### The general solution"
   ]
  },
  {
   "cell_type": "markdown",
   "id": "2da939e6",
   "metadata": {
    "deletable": true,
    "editable": true,
    "slideshow": {
     "slide_type": "fragment"
    }
   },
   "source": [
    "- Define the **design matrix** $ X \\in \\mathbb{R}^{n \\times (d + 1)}$ and **observation vector** $\\vec y \\in \\mathbb{R}^n$:\n",
    "\n",
    "$${ X=  \\begin{bmatrix}  \n",
    "{1} & { x^{(1)}_1} & { x^{(2)}_1} & \\dots & { x^{(d)}_1} \\\\\\\\\n",
    "{ 1} & { x^{(1)}_2} & { x^{(2)}_2} & \\dots & { x^{(d)}_2} \\\\\\\\\n",
    "\\vdots & \\vdots & \\vdots  &  & \\vdots \\\\\\\\\n",
    "{ 1} & { x^{(1)}_n} & { x^{(2)}_n} & \\dots & { x^{(d)}_n}\n",
    "\\end{bmatrix} = \\begin{bmatrix} \n",
    "       \\text{Aug}({\\vec{x_1}})^T \\\\\\\\\n",
    "       \\text{Aug}({\\vec{x_2}})^T \\\\\\\\\n",
    "       \\vdots \\\\\\\\\n",
    "       \\text{Aug}({\\vec{x_n}})^T\n",
    "   \\end{bmatrix}} \\qquad { \\vec y = \\begin{bmatrix} { y_1} \\\\ { y_2} \\\\ \\vdots \\\\ { y_n} \\end{bmatrix}}$$"
   ]
  },
  {
   "cell_type": "markdown",
   "id": "ecf1f6dd",
   "metadata": {
    "deletable": true,
    "editable": true,
    "slideshow": {
     "slide_type": "fragment"
    }
   },
   "source": [
    "- Then, solve the **normal equations** to find the optimal parameter vector, $\\vec{w}^*$:\n",
    "\n",
    "$$X^TX \\vec w^* = X^T \\vec y$$"
   ]
  },
  {
   "cell_type": "markdown",
   "id": "ff34ca1d",
   "metadata": {
    "deletable": true,
    "editable": true,
    "slideshow": {
     "slide_type": "fragment"
    }
   },
   "source": [
    "- The $\\vec w^*$ that satisfies the equations above minimizes mean squared error, $R_\\text{sq}(\\vec w)$, so use this $\\vec w^*$ to make predictions."
   ]
  },
  {
   "cell_type": "markdown",
   "id": "dd1bddb4",
   "metadata": {
    "deletable": true,
    "editable": true,
    "slideshow": {
     "slide_type": "fragment"
    }
   },
   "source": [
    "- Once $\\vec w^*$ is found:\n",
    "    - $X \\vec w^*$ is a hypothesis vector of predicted $y$-values for the entire dataset.\n",
    "    - $$H^*(\\vec x_i) = w_0^* + w_1^* x_i^{(1)} + w_2^* x_i^{(2)} + ... + w_d^* x_i^{(d)} = \\vec w^* \\text{Aug}(\\vec x_i)$$ returns the predicted $y$-value for just the input $\\vec x_i$."
   ]
  },
  {
   "cell_type": "markdown",
   "id": "297ce814",
   "metadata": {
    "deletable": true,
    "editable": true,
    "slideshow": {
     "slide_type": "slide"
    }
   },
   "source": [
    "### Note on parameters"
   ]
  },
  {
   "cell_type": "markdown",
   "id": "2d9982fd",
   "metadata": {
    "deletable": true,
    "editable": true,
    "slideshow": {
     "slide_type": "fragment"
    }
   },
   "source": [
    "$$H({\\vec x_i}) = w_0 + w_1 { x_i^{(1)}} + w_2 { x_i^{(2)}} + \\ldots + w_d { x_i^{(d)}} = \\vec w \\cdot \\text{Aug}({ \\vec x_i})$$"
   ]
  },
  {
   "cell_type": "markdown",
   "id": "76c2976f",
   "metadata": {
    "deletable": true,
    "editable": true,
    "slideshow": {
     "slide_type": "fragment"
    }
   },
   "source": [
    "-  With $d$ features, $\\vec w$ has $d+1$ entries."
   ]
  },
  {
   "cell_type": "markdown",
   "id": "0a8d134e",
   "metadata": {
    "deletable": true,
    "editable": true,
    "slideshow": {
     "slide_type": "fragment"
    }
   },
   "source": [
    "- Again, $\\vec w^*$ represents our **optimal** parameter vector, that minimizes mean squared error."
   ]
  },
  {
   "cell_type": "markdown",
   "id": "f375b703",
   "metadata": {
    "deletable": true,
    "editable": true,
    "slideshow": {
     "slide_type": "fragment"
    }
   },
   "source": [
    "-  $w_0^*$ is the **bias**, also known as the **intercept**."
   ]
  },
  {
   "cell_type": "markdown",
   "id": "47fd7e68",
   "metadata": {
    "deletable": true,
    "editable": true,
    "slideshow": {
     "slide_type": "fragment"
    }
   },
   "source": [
    "-  $w_1^*, w_2^*, ... , w_d^*$ each give the **weight**, or **coefficient**, or **slope**, of a feature."
   ]
  },
  {
   "cell_type": "markdown",
   "id": "01ed374d",
   "metadata": {
    "deletable": true,
    "editable": true,
    "slideshow": {
     "slide_type": "slide"
    }
   },
   "source": [
    "<div class=\"alert alert-warning\">\n",
    "    <h3>Question 🤔 (Answer at <a style=\"text-decoration: none; color: #0066cc\" href=\"https://docs.google.com/forms/d/e/1FAIpQLSd4oliiZYeNh76jWy-arfEtoAkCrVSsobZxPwxifWggo3EO0Q/viewform\">practicaldsc.org/q</a>)</h3>\n",
    "    \n",
    "Remember that you can always ask questions anonymously at the link above!"
   ]
  },
  {
   "cell_type": "markdown",
   "id": "caf7f495",
   "metadata": {
    "deletable": true,
    "editable": true,
    "slideshow": {
     "slide_type": "slide"
    }
   },
   "source": [
    "## Regression in `sklearn`\n",
    "\n",
    "---"
   ]
  },
  {
   "cell_type": "markdown",
   "id": "b2bf4270",
   "metadata": {
    "deletable": true,
    "editable": true,
    "slideshow": {
     "slide_type": "slide"
    }
   },
   "source": [
    "### Loading the data"
   ]
  },
  {
   "cell_type": "markdown",
   "id": "3162da46",
   "metadata": {
    "deletable": true,
    "editable": true,
    "slideshow": {
     "slide_type": "fragment"
    }
   },
   "source": [
    "- Run the cell below to load in our commute times dataset."
   ]
  },
  {
   "cell_type": "code",
   "execution_count": null,
   "id": "1eab23cf",
   "metadata": {
    "deletable": true,
    "editable": true
   },
   "outputs": [],
   "source": [
    "df = pd.read_csv('data/commute-times.csv')\n",
    "df['day_of_month'] = pd.to_datetime(df['date']).dt.day\n",
    "df.head()"
   ]
  },
  {
   "cell_type": "markdown",
   "id": "cd05134a",
   "metadata": {
    "deletable": true,
    "editable": true,
    "slideshow": {
     "slide_type": "fragment"
    }
   },
   "source": [
    "- For now, the only relevant columns for us are `'departure_hour'`, `'day_of_month'`, and `'minutes'`."
   ]
  },
  {
   "cell_type": "code",
   "execution_count": null,
   "id": "8d678e3f",
   "metadata": {
    "deletable": true,
    "editable": true
   },
   "outputs": [],
   "source": [
    "df[['departure_hour', 'day_of_month', 'minutes']]"
   ]
  },
  {
   "cell_type": "markdown",
   "id": "0bc736bb",
   "metadata": {
    "deletable": true,
    "editable": true,
    "slideshow": {
     "slide_type": "slide"
    }
   },
   "source": [
    "### `sklearn`"
   ]
  },
  {
   "cell_type": "markdown",
   "id": "e86cd4a9",
   "metadata": {
    "deletable": true,
    "editable": true,
    "slideshow": {
     "slide_type": "fragment"
    }
   },
   "source": [
    "- `sklearn` (scikit-learn) implements many common steps in the feature and model creation pipeline.<br><small>It is **widely** used throughout [industry](https://scikit-learn.org/stable/testimonials/testimonials.html#:~:text=It%20is%20very%20widely%20used,very%20approachable%20and%20very%20powerful.) and academia.</small>\n",
    "\n",
    "<center><img src='imgs/sklearn.png' width=20%></center>"
   ]
  },
  {
   "cell_type": "markdown",
   "id": "04c5cb26",
   "metadata": {
    "deletable": true,
    "editable": true,
    "slideshow": {
     "slide_type": "fragment"
    }
   },
   "source": [
    "- It interfaces with `numpy` arrays, and to an extent, `pandas` DataFrames."
   ]
  },
  {
   "cell_type": "markdown",
   "id": "19433486",
   "metadata": {
    "deletable": true,
    "editable": true,
    "slideshow": {
     "slide_type": "fragment"
    }
   },
   "source": [
    "- Huge benefit: the [documentation online](https://scikit-learn.org/stable/modules/classes.html) is excellent."
   ]
  },
  {
   "cell_type": "markdown",
   "id": "32931d07",
   "metadata": {
    "deletable": true,
    "editable": true,
    "slideshow": {
     "slide_type": "slide"
    }
   },
   "source": [
    "### The `LinearRegression` class"
   ]
  },
  {
   "cell_type": "markdown",
   "id": "ff4ae677",
   "metadata": {
    "deletable": true,
    "editable": true,
    "slideshow": {
     "slide_type": "fragment"
    }
   },
   "source": [
    "- `sklearn` comes with several subpackages, including `linear_model` and `tree`, each of which contains several classes of models."
   ]
  },
  {
   "cell_type": "markdown",
   "id": "3417934a",
   "metadata": {
    "deletable": true,
    "editable": true,
    "slideshow": {
     "slide_type": "fragment"
    }
   },
   "source": [
    "- We'll start with the `LinearRegression` class from `linear_model`."
   ]
  },
  {
   "cell_type": "code",
   "execution_count": null,
   "id": "971896e8",
   "metadata": {
    "deletable": true,
    "editable": true
   },
   "outputs": [],
   "source": [
    "from sklearn.linear_model import LinearRegression"
   ]
  },
  {
   "cell_type": "markdown",
   "id": "f5f7a257",
   "metadata": {
    "deletable": true,
    "editable": true,
    "slideshow": {
     "slide_type": "fragment"
    }
   },
   "source": [
    "- **Important**: From [the documentation](https://scikit-learn.org/stable/modules/generated/sklearn.linear_model.LinearRegression.html#sklearn.linear_model.LinearRegression), we have:\n",
    "> LinearRegression fits a linear model with coefficients w = (w1, …, wp) to minimize the residual sum of squares between the observed targets in the dataset, and the targets predicted by the linear approximation.\n",
    "\n",
    "    In other words, **`LinearRegression` minimizes mean squared error by default**!<br>(Per the documentation, it also includes an intercept term by default.)"
   ]
  },
  {
   "cell_type": "code",
   "execution_count": null,
   "id": "b752b63b",
   "metadata": {
    "deletable": true,
    "editable": true
   },
   "outputs": [],
   "source": [
    "LinearRegression?"
   ]
  },
  {
   "cell_type": "markdown",
   "id": "b59afa70",
   "metadata": {
    "deletable": true,
    "editable": true,
    "slideshow": {
     "slide_type": "slide"
    }
   },
   "source": [
    "### Fitting a multiple linear regression model"
   ]
  },
  {
   "cell_type": "markdown",
   "id": "a9708faa",
   "metadata": {
    "deletable": true,
    "editable": true,
    "slideshow": {
     "slide_type": "fragment"
    }
   },
   "source": [
    "- Let's aim to use `sklearn` to find the optimal parameters for the following model:\n",
    "\n",
    "$$\\begin{align*}\\text{pred. commute}_i &= H(\\text{departure hour}_i, \\text{day of month}_i) \\\\ &= w_0 + w_1 \\cdot \\text{departure hour}_i + w_2 \\cdot \\text{day of month}_i \\end{align*}$$"
   ]
  },
  {
   "cell_type": "markdown",
   "id": "0de5453a",
   "metadata": {
    "deletable": true,
    "editable": true,
    "slideshow": {
     "slide_type": "fragment"
    }
   },
   "source": [
    "- First, we must instantiate a `LinearRegression` object and fit it. By calling `fit`, we are saying \"minimize mean squared error on this dataset and find $\\vec w^*$.\""
   ]
  },
  {
   "cell_type": "code",
   "execution_count": null,
   "id": "2931c5f2",
   "metadata": {
    "deletable": true,
    "editable": true
   },
   "outputs": [],
   "source": [
    "model_multiple = LinearRegression()\n",
    "# Note that there are two arguments to fit – X and y!\n",
    "# (It is not necessary to write X= and y=)\n",
    "model_multiple.fit(X=df[['departure_hour', 'day_of_month']], y=df['minutes'])"
   ]
  },
  {
   "cell_type": "markdown",
   "id": "a20ed359",
   "metadata": {
    "deletable": true,
    "editable": true,
    "slideshow": {
     "slide_type": "fragment"
    }
   },
   "source": [
    "- After fitting, we can access $w^*$ – that is, the best intercept and coefficients."
   ]
  },
  {
   "cell_type": "code",
   "execution_count": null,
   "id": "e5b890d1",
   "metadata": {
    "deletable": true,
    "editable": true,
    "scrolled": true
   },
   "outputs": [],
   "source": [
    "model_multiple.intercept_, model_multiple.coef_ "
   ]
  },
  {
   "cell_type": "markdown",
   "id": "54697e3d",
   "metadata": {
    "deletable": true,
    "editable": true,
    "slideshow": {
     "slide_type": "fragment"
    }
   },
   "source": [
    "- These coefficients tell us that the \"best way\" (according to squared loss) to make commute time predictions using a linear model is using:\n",
    "\n",
    "$$\\text{pred. commute}_i = 141.86 - 8.22 \\cdot \\text{departure hour}_i + 0.06 \\cdot \\text{day of month}_i$$"
   ]
  },
  {
   "cell_type": "markdown",
   "id": "ed3288f2",
   "metadata": {
    "deletable": true,
    "editable": true,
    "slideshow": {
     "slide_type": "fragment"
    }
   },
   "source": [
    "- This is the **plane of best fit** given historical data; it is not a causal statement."
   ]
  },
  {
   "cell_type": "markdown",
   "id": "9c377294",
   "metadata": {
    "deletable": true,
    "editable": true,
    "slideshow": {
     "slide_type": "slide"
    }
   },
   "source": [
    "Let's visualize this model."
   ]
  },
  {
   "cell_type": "code",
   "execution_count": null,
   "id": "a8118c26",
   "metadata": {
    "deletable": true,
    "editable": true
   },
   "outputs": [],
   "source": [
    "XX, YY = np.mgrid[5:14:1, 0:31:1]\n",
    "Z = model_multiple.intercept_ + model_multiple.coef_[0] * XX + model_multiple.coef_[1] * YY\n",
    "plane = go.Surface(x=XX, y=YY, z=Z, colorscale='Reds')\n",
    "fig = go.Figure(data=[plane])\n",
    "fig.add_trace(go.Scatter3d(x=df['departure_hour'], \n",
    "                           y=df['day_of_month'], \n",
    "                           z=df['minutes'], mode='markers', marker = {'color': '#656DF1'}))\n",
    "fig.update_layout(scene=dict(xaxis_title='Departure Hour',\n",
    "                             yaxis_title='Day of Month',\n",
    "                             zaxis_title='Minutes'),\n",
    "                  title='Commute Time vs. Departure Hour and Day of Month',\n",
    "                  width=1000, height=500)"
   ]
  },
  {
   "cell_type": "markdown",
   "id": "114e2072",
   "metadata": {
    "deletable": true,
    "editable": true,
    "slideshow": {
     "slide_type": "slide"
    }
   },
   "source": [
    "### Making predictions"
   ]
  },
  {
   "cell_type": "markdown",
   "id": "ec75a678",
   "metadata": {
    "deletable": true,
    "editable": true,
    "slideshow": {
     "slide_type": "fragment"
    }
   },
   "source": [
    "- Fit `LinearRegression` objects also have a `predict` method, which can be used to predict commute times given a `'departure_hour'` and `'day_of_month'`."
   ]
  },
  {
   "cell_type": "code",
   "execution_count": null,
   "id": "141936be",
   "metadata": {
    "deletable": true,
    "editable": true
   },
   "outputs": [],
   "source": [
    "# What if I leave at 9:15AM on the 26th of the month?\n",
    "model_multiple.predict([[9.25, 26]]) "
   ]
  },
  {
   "cell_type": "code",
   "execution_count": null,
   "id": "0a6f53e2",
   "metadata": {
    "deletable": true,
    "editable": true,
    "scrolled": true
   },
   "outputs": [],
   "source": [
    "model_multiple.predict(pd.DataFrame({'departure_hour': [9.25], 'day_of_month': [26]}))"
   ]
  },
  {
   "cell_type": "markdown",
   "id": "0a9643f6",
   "metadata": {
    "deletable": true,
    "editable": true,
    "slideshow": {
     "slide_type": "slide"
    }
   },
   "source": [
    "### Comparing models"
   ]
  },
  {
   "cell_type": "markdown",
   "id": "30edf872",
   "metadata": {
    "deletable": true,
    "editable": true,
    "slideshow": {
     "slide_type": "fragment"
    }
   },
   "source": [
    "- Since we're going to start to fit lots of different models to the commute times dataset, it'll be useful to compare their mean squared errors."
   ]
  },
  {
   "cell_type": "markdown",
   "id": "c2138dac",
   "metadata": {
    "deletable": true,
    "editable": true,
    "slideshow": {
     "slide_type": "fragment"
    }
   },
   "source": [
    "- `sklearn` has a built-in `mean_squared_error` function.<br><small>Remember, the units of MSE are the units of $y$, squared. So the value below is 96.78 $\\text{minutes}^2$.</small>"
   ]
  },
  {
   "cell_type": "code",
   "execution_count": null,
   "id": "212e3bdf",
   "metadata": {
    "deletable": true,
    "editable": true
   },
   "outputs": [],
   "source": [
    "from sklearn.metrics import mean_squared_error"
   ]
  },
  {
   "cell_type": "code",
   "execution_count": null,
   "id": "cfc7c871",
   "metadata": {
    "deletable": true,
    "editable": true
   },
   "outputs": [],
   "source": [
    "mean_squared_error(df['minutes'], model_multiple.predict(df[['departure_hour', 'day_of_month']])) "
   ]
  },
  {
   "cell_type": "markdown",
   "id": "c40aa4f2",
   "metadata": {
    "deletable": true,
    "editable": true,
    "slideshow": {
     "slide_type": "fragment"
    }
   },
   "source": [
    "- Let's construct a dictionary to keep track of the MSEs we've seen so far."
   ]
  },
  {
   "cell_type": "code",
   "execution_count": null,
   "id": "e8a20170",
   "metadata": {
    "deletable": true,
    "editable": true
   },
   "outputs": [],
   "source": [
    "mse_dict = {}\n",
    "mse_dict['departure_hour + day_of_month'] = mean_squared_error(df['minutes'], model_multiple.predict(df[['departure_hour', 'day_of_month']]))"
   ]
  },
  {
   "cell_type": "markdown",
   "id": "be24c6fe",
   "metadata": {
    "deletable": true,
    "editable": true,
    "slideshow": {
     "slide_type": "fragment"
    }
   },
   "source": [
    "- To compare, let's also fit and measure a simple linear model and constant model."
   ]
  },
  {
   "cell_type": "code",
   "execution_count": null,
   "id": "8a446855",
   "metadata": {
    "deletable": true,
    "editable": true
   },
   "outputs": [],
   "source": [
    "# Simple linear model.\n",
    "model_simple = LinearRegression()\n",
    "model_simple.fit(X=df[['departure_hour']], y=df['minutes'])\n",
    "mse_dict['departure_hour'] = mean_squared_error(df['minutes'], model_simple.predict(df[['departure_hour']]))"
   ]
  },
  {
   "cell_type": "code",
   "execution_count": null,
   "id": "f6c329e2",
   "metadata": {
    "deletable": true,
    "editable": true
   },
   "outputs": [],
   "source": [
    "# Constant model.\n",
    "model_constant = df['minutes'].mean()\n",
    "mse_dict['constant'] = mean_squared_error(df['minutes'], np.ones(df.shape[0]) * model_constant)"
   ]
  },
  {
   "cell_type": "markdown",
   "id": "42bcfee9",
   "metadata": {
    "deletable": true,
    "editable": true,
    "slideshow": {
     "slide_type": "fragment"
    }
   },
   "source": [
    "- As we can see, adding `'day_of_month'` as a feature **barely** reduced our model's MSE.<br><small>Next week, when we learn about generalization, we'll see why sometimes adding more features is a **bad** thing!</small>"
   ]
  },
  {
   "cell_type": "code",
   "execution_count": null,
   "id": "523dc5b0",
   "metadata": {
    "deletable": true,
    "editable": true
   },
   "outputs": [],
   "source": [
    "mse_dict"
   ]
  },
  {
   "cell_type": "markdown",
   "id": "9f00be95",
   "metadata": {
    "deletable": true,
    "editable": true,
    "slideshow": {
     "slide_type": "slide"
    }
   },
   "source": [
    "### `LinearRegression` class summary\n",
    "\n",
    "|Property|Example|Description|\n",
    "|---|---|---|\n",
    "|Initialize model parameters| `lr = LinearRegression()` | Create (empty) linear regression model|\n",
    "|Fit the model to the data | `lr.fit(X, y)` | Determines regression coefficients|\n",
    "|Use model for prediction |`lr.predict(X_new)`| Uses regression line to make predictions|\n",
    "|Access model attributes| `lr.coef_`, `lr.intercept_` | Accesses the regression coefficients and intercept|"
   ]
  },
  {
   "cell_type": "markdown",
   "id": "bb14dcd7",
   "metadata": {
    "deletable": true,
    "editable": true,
    "slideshow": {
     "slide_type": "slide"
    }
   },
   "source": [
    "### What's next?"
   ]
  },
  {
   "cell_type": "markdown",
   "id": "de8ab2d3",
   "metadata": {
    "deletable": true,
    "editable": true,
    "slideshow": {
     "slide_type": "fragment"
    }
   },
   "source": [
    "- So far, in our journey to predict `'minutes'`, we've only used two numerical features in our dataset, `'departure_hour'` and `'day_of_month'`."
   ]
  },
  {
   "cell_type": "code",
   "execution_count": null,
   "id": "2e071d92",
   "metadata": {
    "deletable": true,
    "editable": true
   },
   "outputs": [],
   "source": [
    "df[['departure_hour', 'day_of_month', 'minutes']]"
   ]
  },
  {
   "cell_type": "markdown",
   "id": "f1b046f9",
   "metadata": {
    "deletable": true,
    "editable": true,
    "slideshow": {
     "slide_type": "fragment"
    }
   },
   "source": [
    "- There's a lot of information in `df` that we didn't use –`'day'`, for example. We can't use these `'day'` in it's current form as it's non-numeric."
   ]
  },
  {
   "cell_type": "markdown",
   "id": "4917af50",
   "metadata": {
    "deletable": true,
    "editable": true,
    "slideshow": {
     "slide_type": "fragment"
    }
   },
   "source": [
    "- **How do we use categorical features in a regression model?**"
   ]
  }
 ],
 "metadata": {
  "celltoolbar": "None",
  "kernelspec": {
   "display_name": "Python 3 (ipykernel)",
   "language": "python",
   "name": "python3"
  },
  "language_info": {
   "codemirror_mode": {
    "name": "ipython",
    "version": 3
   },
   "file_extension": ".py",
   "mimetype": "text/x-python",
   "name": "python",
   "nbconvert_exporter": "python",
   "pygments_lexer": "ipython3",
   "version": "3.10.16"
  },
  "livereveal": {
   "scroll": true
  },
  "rise": {
   "transition": "none"
  }
 },
 "nbformat": 4,
 "nbformat_minor": 5
}
